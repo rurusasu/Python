{
 "cells": [
  {
   "cell_type": "code",
   "execution_count": null,
   "metadata": {},
   "outputs": [],
   "source": [
    "import numpy as np\n",
    "\n",
    "x = np.random.rand(3, 5, 7, 7)"
   ]
  },
  {
   "cell_type": "code",
   "execution_count": null,
   "metadata": {},
   "outputs": [],
   "source": [
    "pad = 0                    # パディング 0\n",
    "stride = 1                 # ストライド 1\n",
    "filter_h, filter_w = 4, 4  # フィルター（4×4）\n",
    "N, C, H, W = x.shape       # N=3, C=5, H=7 W=7\n",
    "out_h = (H + 2*pad - filter_h)//stride + 1  # out_h = 4\n",
    "out_w = (W + 2*pad - filter_w)//stride + 1  # out_w = 4\n",
    "# 出力（4×4）\n",
    "\n",
    "img = np.pad(x, [(0,0), (0,0), (pad, pad), (pad, pad)], 'constant')  # 入力のHとWをパディング\n",
    "col = np.zeros((N, C, filter_h, filter_w, out_h, out_w))  # 要素0の配列（3, 5, 4, 4, 4, 4）を作成\n",
    "\n",
    "for y in range(filter_h):  # 4回\n",
    "    y_max = y + stride * out_h  # 4→5→6→7\n",
    "    for x in range(filter_w):  # 4回\n",
    "        x_max = x + stride*out_w  # 4→5→6→7\n",
    "        col[:, :, y, x, :, :] = img[:, :, y:y_max:stride, x:x_max:stride]\n",
    "        #       ↑この要素    =           ↓これ\n",
    "        # 全画像の全チャンネルの、yを0～4まで、xを0～4まで\n",
    "        #                         yを0～4まで、xを1～5まで\n",
    "        #                       :\n",
    "        #                         yを3～7まで、xを3～7まで\n",
    "        \n",
    "    col = col.transpose(0, 4, 5, 1, 2, 3).reshape(N*out_h*out_w, -1)\n",
    "    return col"
   ]
  },
  {
   "cell_type": "code",
   "execution_count": 3,
   "metadata": {},
   "outputs": [
    {
     "name": "stdout",
     "output_type": "stream",
     "text": [
      "[[ 1  2  3  4  5  6  7]\n",
      " [ 8  9 10 11 12 13 14]\n",
      " [15 16 17 18 19 20 21]\n",
      " [22 23 24 25 26 27 28]\n",
      " [29 30 31 32 33 34 35]\n",
      " [36 37 38 39 40 41 42]\n",
      " [43 44 45 46 47 48 49]]\n",
      "[[ 2  3  4  5]\n",
      " [ 9 10 11 12]\n",
      " [16 17 18 19]\n",
      " [23 24 25 26]]\n"
     ]
    }
   ],
   "source": [
    "import numpy as np\n",
    "a = np.array([[1, 2, 3, 4, 5, 6, 7], \n",
    "              [8, 9, 10, 11, 12, 13, 14] ,\n",
    "              [15, 16, 17, 18, 19, 20, 21], \n",
    "              [22, 23, 24, 25, 26, 27, 28], \n",
    "              [29, 30, 31, 32, 33, 34, 35], \n",
    "              [36, 37, 38, 39, 40, 41, 42],\n",
    "              [43, 44, 45, 46, 47, 48, 49]])\n",
    "\n",
    "print(a)\n",
    "\n",
    "print(a[0:4,1:5])"
   ]
  },
  {
   "cell_type": "code",
   "execution_count": null,
   "metadata": {},
   "outputs": [],
   "source": []
  }
 ],
 "metadata": {
  "kernelspec": {
   "display_name": "Python 3",
   "language": "python",
   "name": "python3"
  },
  "language_info": {
   "codemirror_mode": {
    "name": "ipython",
    "version": 3
   },
   "file_extension": ".py",
   "mimetype": "text/x-python",
   "name": "python",
   "nbconvert_exporter": "python",
   "pygments_lexer": "ipython3",
   "version": "3.6.5"
  }
 },
 "nbformat": 4,
 "nbformat_minor": 2
}
