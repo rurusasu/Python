{
  "nbformat": 4,
  "nbformat_minor": 0,
  "metadata": {
    "colab": {
      "name": "初めてのアヤメ分類",
      "provenance": [],
      "collapsed_sections": [],
      "authorship_tag": "ABX9TyM/XFTLn9DQtL1fh/+xycSK",
      "include_colab_link": true
    },
    "kernelspec": {
      "name": "python3",
      "display_name": "Python 3"
    }
  },
  "cells": [
    {
      "cell_type": "markdown",
      "metadata": {
        "id": "view-in-github",
        "colab_type": "text"
      },
      "source": [
        "<a href=\"https://colab.research.google.com/github/rurusasu/Python/blob/develop/%E5%88%9D%E3%82%81%E3%81%A6%E3%81%AE%E3%82%A2%E3%83%A4%E3%83%A1%E5%88%86%E9%A1%9E.ipynb\" target=\"_parent\"><img src=\"https://colab.research.google.com/assets/colab-badge.svg\" alt=\"Open In Colab\"/></a>"
      ]
    },
    {
      "cell_type": "code",
      "metadata": {
        "id": "ueQ9C3b6LP_s",
        "colab_type": "code",
        "colab": {}
      },
      "source": [
        "import numpy as np\n",
        "import pandas as pd\n",
        "import matplotlib\n",
        "import matplotlib.pyplot as plt\n",
        "%matplotlib inline\n",
        "import warnings\n",
        "warnings.filterwarnings('ignore')"
      ],
      "execution_count": 0,
      "outputs": []
    },
    {
      "cell_type": "code",
      "metadata": {
        "id": "GmydX3-hLZ20",
        "colab_type": "code",
        "colab": {}
      },
      "source": [
        "# scilit-learnの様々な機能をimport\n",
        "from sklearn.datasets import load_iris\n",
        "from sklearn.model_selection import train_test_split\n",
        "from sklearn.svm import LinearSVC"
      ],
      "execution_count": 0,
      "outputs": []
    },
    {
      "cell_type": "code",
      "metadata": {
        "id": "w2eHdK1uOinn",
        "colab_type": "code",
        "colab": {}
      },
      "source": [
        "# アヤメインスタンスを生成する\n",
        "DataSet = load_iris()"
      ],
      "execution_count": 0,
      "outputs": []
    },
    {
      "cell_type": "code",
      "metadata": {
        "id": "elcY9hkBO4k_",
        "colab_type": "code",
        "outputId": "271fe1ee-a13a-4a8f-f1d8-c1a4d8fd8967",
        "colab": {
          "base_uri": "https://localhost:8080/",
          "height": 1000
        }
      },
      "source": [
        "# アヤメデータの中身を確認する\n",
        "print(\"与えられたデータ\")\n",
        "print(DataSet.data)\n",
        "print(DataSet.data.shape)\n",
        "print('-----------------')\n",
        "print('予測するデータ')\n",
        "print(DataSet.target)\n",
        "print(DataSet.target.shape)\n",
        "print(DataSet.target_names)"
      ],
      "execution_count": 0,
      "outputs": [
        {
          "output_type": "stream",
          "text": [
            "与えられたデータ\n",
            "[[5.1 3.5 1.4 0.2]\n",
            " [4.9 3.  1.4 0.2]\n",
            " [4.7 3.2 1.3 0.2]\n",
            " [4.6 3.1 1.5 0.2]\n",
            " [5.  3.6 1.4 0.2]\n",
            " [5.4 3.9 1.7 0.4]\n",
            " [4.6 3.4 1.4 0.3]\n",
            " [5.  3.4 1.5 0.2]\n",
            " [4.4 2.9 1.4 0.2]\n",
            " [4.9 3.1 1.5 0.1]\n",
            " [5.4 3.7 1.5 0.2]\n",
            " [4.8 3.4 1.6 0.2]\n",
            " [4.8 3.  1.4 0.1]\n",
            " [4.3 3.  1.1 0.1]\n",
            " [5.8 4.  1.2 0.2]\n",
            " [5.7 4.4 1.5 0.4]\n",
            " [5.4 3.9 1.3 0.4]\n",
            " [5.1 3.5 1.4 0.3]\n",
            " [5.7 3.8 1.7 0.3]\n",
            " [5.1 3.8 1.5 0.3]\n",
            " [5.4 3.4 1.7 0.2]\n",
            " [5.1 3.7 1.5 0.4]\n",
            " [4.6 3.6 1.  0.2]\n",
            " [5.1 3.3 1.7 0.5]\n",
            " [4.8 3.4 1.9 0.2]\n",
            " [5.  3.  1.6 0.2]\n",
            " [5.  3.4 1.6 0.4]\n",
            " [5.2 3.5 1.5 0.2]\n",
            " [5.2 3.4 1.4 0.2]\n",
            " [4.7 3.2 1.6 0.2]\n",
            " [4.8 3.1 1.6 0.2]\n",
            " [5.4 3.4 1.5 0.4]\n",
            " [5.2 4.1 1.5 0.1]\n",
            " [5.5 4.2 1.4 0.2]\n",
            " [4.9 3.1 1.5 0.2]\n",
            " [5.  3.2 1.2 0.2]\n",
            " [5.5 3.5 1.3 0.2]\n",
            " [4.9 3.6 1.4 0.1]\n",
            " [4.4 3.  1.3 0.2]\n",
            " [5.1 3.4 1.5 0.2]\n",
            " [5.  3.5 1.3 0.3]\n",
            " [4.5 2.3 1.3 0.3]\n",
            " [4.4 3.2 1.3 0.2]\n",
            " [5.  3.5 1.6 0.6]\n",
            " [5.1 3.8 1.9 0.4]\n",
            " [4.8 3.  1.4 0.3]\n",
            " [5.1 3.8 1.6 0.2]\n",
            " [4.6 3.2 1.4 0.2]\n",
            " [5.3 3.7 1.5 0.2]\n",
            " [5.  3.3 1.4 0.2]\n",
            " [7.  3.2 4.7 1.4]\n",
            " [6.4 3.2 4.5 1.5]\n",
            " [6.9 3.1 4.9 1.5]\n",
            " [5.5 2.3 4.  1.3]\n",
            " [6.5 2.8 4.6 1.5]\n",
            " [5.7 2.8 4.5 1.3]\n",
            " [6.3 3.3 4.7 1.6]\n",
            " [4.9 2.4 3.3 1. ]\n",
            " [6.6 2.9 4.6 1.3]\n",
            " [5.2 2.7 3.9 1.4]\n",
            " [5.  2.  3.5 1. ]\n",
            " [5.9 3.  4.2 1.5]\n",
            " [6.  2.2 4.  1. ]\n",
            " [6.1 2.9 4.7 1.4]\n",
            " [5.6 2.9 3.6 1.3]\n",
            " [6.7 3.1 4.4 1.4]\n",
            " [5.6 3.  4.5 1.5]\n",
            " [5.8 2.7 4.1 1. ]\n",
            " [6.2 2.2 4.5 1.5]\n",
            " [5.6 2.5 3.9 1.1]\n",
            " [5.9 3.2 4.8 1.8]\n",
            " [6.1 2.8 4.  1.3]\n",
            " [6.3 2.5 4.9 1.5]\n",
            " [6.1 2.8 4.7 1.2]\n",
            " [6.4 2.9 4.3 1.3]\n",
            " [6.6 3.  4.4 1.4]\n",
            " [6.8 2.8 4.8 1.4]\n",
            " [6.7 3.  5.  1.7]\n",
            " [6.  2.9 4.5 1.5]\n",
            " [5.7 2.6 3.5 1. ]\n",
            " [5.5 2.4 3.8 1.1]\n",
            " [5.5 2.4 3.7 1. ]\n",
            " [5.8 2.7 3.9 1.2]\n",
            " [6.  2.7 5.1 1.6]\n",
            " [5.4 3.  4.5 1.5]\n",
            " [6.  3.4 4.5 1.6]\n",
            " [6.7 3.1 4.7 1.5]\n",
            " [6.3 2.3 4.4 1.3]\n",
            " [5.6 3.  4.1 1.3]\n",
            " [5.5 2.5 4.  1.3]\n",
            " [5.5 2.6 4.4 1.2]\n",
            " [6.1 3.  4.6 1.4]\n",
            " [5.8 2.6 4.  1.2]\n",
            " [5.  2.3 3.3 1. ]\n",
            " [5.6 2.7 4.2 1.3]\n",
            " [5.7 3.  4.2 1.2]\n",
            " [5.7 2.9 4.2 1.3]\n",
            " [6.2 2.9 4.3 1.3]\n",
            " [5.1 2.5 3.  1.1]\n",
            " [5.7 2.8 4.1 1.3]\n",
            " [6.3 3.3 6.  2.5]\n",
            " [5.8 2.7 5.1 1.9]\n",
            " [7.1 3.  5.9 2.1]\n",
            " [6.3 2.9 5.6 1.8]\n",
            " [6.5 3.  5.8 2.2]\n",
            " [7.6 3.  6.6 2.1]\n",
            " [4.9 2.5 4.5 1.7]\n",
            " [7.3 2.9 6.3 1.8]\n",
            " [6.7 2.5 5.8 1.8]\n",
            " [7.2 3.6 6.1 2.5]\n",
            " [6.5 3.2 5.1 2. ]\n",
            " [6.4 2.7 5.3 1.9]\n",
            " [6.8 3.  5.5 2.1]\n",
            " [5.7 2.5 5.  2. ]\n",
            " [5.8 2.8 5.1 2.4]\n",
            " [6.4 3.2 5.3 2.3]\n",
            " [6.5 3.  5.5 1.8]\n",
            " [7.7 3.8 6.7 2.2]\n",
            " [7.7 2.6 6.9 2.3]\n",
            " [6.  2.2 5.  1.5]\n",
            " [6.9 3.2 5.7 2.3]\n",
            " [5.6 2.8 4.9 2. ]\n",
            " [7.7 2.8 6.7 2. ]\n",
            " [6.3 2.7 4.9 1.8]\n",
            " [6.7 3.3 5.7 2.1]\n",
            " [7.2 3.2 6.  1.8]\n",
            " [6.2 2.8 4.8 1.8]\n",
            " [6.1 3.  4.9 1.8]\n",
            " [6.4 2.8 5.6 2.1]\n",
            " [7.2 3.  5.8 1.6]\n",
            " [7.4 2.8 6.1 1.9]\n",
            " [7.9 3.8 6.4 2. ]\n",
            " [6.4 2.8 5.6 2.2]\n",
            " [6.3 2.8 5.1 1.5]\n",
            " [6.1 2.6 5.6 1.4]\n",
            " [7.7 3.  6.1 2.3]\n",
            " [6.3 3.4 5.6 2.4]\n",
            " [6.4 3.1 5.5 1.8]\n",
            " [6.  3.  4.8 1.8]\n",
            " [6.9 3.1 5.4 2.1]\n",
            " [6.7 3.1 5.6 2.4]\n",
            " [6.9 3.1 5.1 2.3]\n",
            " [5.8 2.7 5.1 1.9]\n",
            " [6.8 3.2 5.9 2.3]\n",
            " [6.7 3.3 5.7 2.5]\n",
            " [6.7 3.  5.2 2.3]\n",
            " [6.3 2.5 5.  1.9]\n",
            " [6.5 3.  5.2 2. ]\n",
            " [6.2 3.4 5.4 2.3]\n",
            " [5.9 3.  5.1 1.8]]\n",
            "(150, 4)\n",
            "-----------------\n",
            "予測するデータ\n",
            "[0 0 0 0 0 0 0 0 0 0 0 0 0 0 0 0 0 0 0 0 0 0 0 0 0 0 0 0 0 0 0 0 0 0 0 0 0\n",
            " 0 0 0 0 0 0 0 0 0 0 0 0 0 1 1 1 1 1 1 1 1 1 1 1 1 1 1 1 1 1 1 1 1 1 1 1 1\n",
            " 1 1 1 1 1 1 1 1 1 1 1 1 1 1 1 1 1 1 1 1 1 1 1 1 1 1 2 2 2 2 2 2 2 2 2 2 2\n",
            " 2 2 2 2 2 2 2 2 2 2 2 2 2 2 2 2 2 2 2 2 2 2 2 2 2 2 2 2 2 2 2 2 2 2 2 2 2\n",
            " 2 2]\n",
            "(150,)\n",
            "['setosa' 'versicolor' 'virginica']\n"
          ],
          "name": "stdout"
        }
      ]
    },
    {
      "cell_type": "code",
      "metadata": {
        "id": "_Lw0hAcBVKu8",
        "colab_type": "code",
        "outputId": "39a5a054-cc80-478b-9fcc-ff549dfcf4da",
        "colab": {
          "base_uri": "https://localhost:8080/",
          "height": 363
        }
      },
      "source": [
        "# Pandasの定義\n",
        "DataSet_data = pd.DataFrame(DataSet.data, columns=['がく片の長さ', 'がく片の幅', '花びらの長さ', '花びらの幅'])\n",
        "DataSet_target = pd.DataFrame(DataSet.target, columns=['花の種類'])\n",
        "DataSet_all = pd.concat([DataSet_data, DataSet_target], axis=1)\n",
        "DataSet_all.head(10)"
      ],
      "execution_count": 0,
      "outputs": [
        {
          "output_type": "execute_result",
          "data": {
            "text/html": [
              "<div>\n",
              "<style scoped>\n",
              "    .dataframe tbody tr th:only-of-type {\n",
              "        vertical-align: middle;\n",
              "    }\n",
              "\n",
              "    .dataframe tbody tr th {\n",
              "        vertical-align: top;\n",
              "    }\n",
              "\n",
              "    .dataframe thead th {\n",
              "        text-align: right;\n",
              "    }\n",
              "</style>\n",
              "<table border=\"1\" class=\"dataframe\">\n",
              "  <thead>\n",
              "    <tr style=\"text-align: right;\">\n",
              "      <th></th>\n",
              "      <th>がく片の長さ</th>\n",
              "      <th>がく片の幅</th>\n",
              "      <th>花びらの長さ</th>\n",
              "      <th>花びらの幅</th>\n",
              "      <th>花の種類</th>\n",
              "    </tr>\n",
              "  </thead>\n",
              "  <tbody>\n",
              "    <tr>\n",
              "      <th>0</th>\n",
              "      <td>5.1</td>\n",
              "      <td>3.5</td>\n",
              "      <td>1.4</td>\n",
              "      <td>0.2</td>\n",
              "      <td>0</td>\n",
              "    </tr>\n",
              "    <tr>\n",
              "      <th>1</th>\n",
              "      <td>4.9</td>\n",
              "      <td>3.0</td>\n",
              "      <td>1.4</td>\n",
              "      <td>0.2</td>\n",
              "      <td>0</td>\n",
              "    </tr>\n",
              "    <tr>\n",
              "      <th>2</th>\n",
              "      <td>4.7</td>\n",
              "      <td>3.2</td>\n",
              "      <td>1.3</td>\n",
              "      <td>0.2</td>\n",
              "      <td>0</td>\n",
              "    </tr>\n",
              "    <tr>\n",
              "      <th>3</th>\n",
              "      <td>4.6</td>\n",
              "      <td>3.1</td>\n",
              "      <td>1.5</td>\n",
              "      <td>0.2</td>\n",
              "      <td>0</td>\n",
              "    </tr>\n",
              "    <tr>\n",
              "      <th>4</th>\n",
              "      <td>5.0</td>\n",
              "      <td>3.6</td>\n",
              "      <td>1.4</td>\n",
              "      <td>0.2</td>\n",
              "      <td>0</td>\n",
              "    </tr>\n",
              "    <tr>\n",
              "      <th>5</th>\n",
              "      <td>5.4</td>\n",
              "      <td>3.9</td>\n",
              "      <td>1.7</td>\n",
              "      <td>0.4</td>\n",
              "      <td>0</td>\n",
              "    </tr>\n",
              "    <tr>\n",
              "      <th>6</th>\n",
              "      <td>4.6</td>\n",
              "      <td>3.4</td>\n",
              "      <td>1.4</td>\n",
              "      <td>0.3</td>\n",
              "      <td>0</td>\n",
              "    </tr>\n",
              "    <tr>\n",
              "      <th>7</th>\n",
              "      <td>5.0</td>\n",
              "      <td>3.4</td>\n",
              "      <td>1.5</td>\n",
              "      <td>0.2</td>\n",
              "      <td>0</td>\n",
              "    </tr>\n",
              "    <tr>\n",
              "      <th>8</th>\n",
              "      <td>4.4</td>\n",
              "      <td>2.9</td>\n",
              "      <td>1.4</td>\n",
              "      <td>0.2</td>\n",
              "      <td>0</td>\n",
              "    </tr>\n",
              "    <tr>\n",
              "      <th>9</th>\n",
              "      <td>4.9</td>\n",
              "      <td>3.1</td>\n",
              "      <td>1.5</td>\n",
              "      <td>0.1</td>\n",
              "      <td>0</td>\n",
              "    </tr>\n",
              "  </tbody>\n",
              "</table>\n",
              "</div>"
            ],
            "text/plain": [
              "   がく片の長さ  がく片の幅  花びらの長さ  花びらの幅  花の種類\n",
              "0     5.1    3.5     1.4    0.2     0\n",
              "1     4.9    3.0     1.4    0.2     0\n",
              "2     4.7    3.2     1.3    0.2     0\n",
              "3     4.6    3.1     1.5    0.2     0\n",
              "4     5.0    3.6     1.4    0.2     0\n",
              "5     5.4    3.9     1.7    0.4     0\n",
              "6     4.6    3.4     1.4    0.3     0\n",
              "7     5.0    3.4     1.5    0.2     0\n",
              "8     4.4    2.9     1.4    0.2     0\n",
              "9     4.9    3.1     1.5    0.1     0"
            ]
          },
          "metadata": {
            "tags": []
          },
          "execution_count": 53
        }
      ]
    },
    {
      "cell_type": "code",
      "metadata": {
        "id": "iUNoYB3KvXyO",
        "colab_type": "code",
        "outputId": "5faa0e84-2992-4f09-ed95-fce509d4f313",
        "colab": {
          "base_uri": "https://localhost:8080/",
          "height": 206
        }
      },
      "source": [
        "# 学習用とテスト用の説明変数と目的変数を定義する\n",
        "train_data, test_data, train_label, test_label = train_test_split(DataSet_data, DataSet_target, test_size=0.33)\n",
        "#train_data.head(5)\n",
        "#train_data.describe()\n",
        "#test_data.head(5)\n",
        "train_label.head(5)\n",
        "#test_label.head(5)"
      ],
      "execution_count": 0,
      "outputs": [
        {
          "output_type": "execute_result",
          "data": {
            "text/html": [
              "<div>\n",
              "<style scoped>\n",
              "    .dataframe tbody tr th:only-of-type {\n",
              "        vertical-align: middle;\n",
              "    }\n",
              "\n",
              "    .dataframe tbody tr th {\n",
              "        vertical-align: top;\n",
              "    }\n",
              "\n",
              "    .dataframe thead th {\n",
              "        text-align: right;\n",
              "    }\n",
              "</style>\n",
              "<table border=\"1\" class=\"dataframe\">\n",
              "  <thead>\n",
              "    <tr style=\"text-align: right;\">\n",
              "      <th></th>\n",
              "      <th>花の種類</th>\n",
              "    </tr>\n",
              "  </thead>\n",
              "  <tbody>\n",
              "    <tr>\n",
              "      <th>129</th>\n",
              "      <td>2</td>\n",
              "    </tr>\n",
              "    <tr>\n",
              "      <th>92</th>\n",
              "      <td>1</td>\n",
              "    </tr>\n",
              "    <tr>\n",
              "      <th>97</th>\n",
              "      <td>1</td>\n",
              "    </tr>\n",
              "    <tr>\n",
              "      <th>50</th>\n",
              "      <td>1</td>\n",
              "    </tr>\n",
              "    <tr>\n",
              "      <th>23</th>\n",
              "      <td>0</td>\n",
              "    </tr>\n",
              "  </tbody>\n",
              "</table>\n",
              "</div>"
            ],
            "text/plain": [
              "     花の種類\n",
              "129     2\n",
              "92      1\n",
              "97      1\n",
              "50      1\n",
              "23      0"
            ]
          },
          "metadata": {
            "tags": []
          },
          "execution_count": 54
        }
      ]
    },
    {
      "cell_type": "markdown",
      "metadata": {
        "id": "lZ1-0rBeKE6Z",
        "colab_type": "text"
      },
      "source": [
        ""
      ]
    },
    {
      "cell_type": "code",
      "metadata": {
        "id": "peic8ObQ2aT7",
        "colab_type": "code",
        "outputId": "d8dac7c2-b9ee-443f-c73a-6dd3b9bdffd8",
        "colab": {
          "base_uri": "https://localhost:8080/",
          "height": 312
        }
      },
      "source": [
        "# がく片の長さと幅の分布\n",
        "plt.scatter(train_data[train_label['花の種類']==0]['がく片の長さ'], train_data[(train_label == 0).values]['がく片の幅'], label='setosa', cmap='rgb')\n",
        "plt.scatter(train_data[train_label['花の種類']==1]['がく片の長さ'], train_data[(train_label == 1).values]['がく片の幅'], label='versicolor', cmap='rgb')\n",
        "plt.scatter(train_data[train_label['花の種類']==2]['がく片の長さ'], train_data[(train_label == 2).values]['がく片の幅'], label='virginica', cmap='rgb')\n",
        "\n",
        "# X軸の範囲を指定\n",
        "plt.xlim(3, 9)\n",
        "# Y軸の範囲を指定\n",
        "plt.ylim(1, 5)\n",
        "\n",
        "# X軸の名前\n",
        "plt.xlabel('Length of sepal')\n",
        "# Y軸の名前\n",
        "plt.ylabel('Width of sepal')\n",
        "\n",
        "# グラフのタイトル\n",
        "plt.title('Relation between legth and width of sepal')\n",
        "# 凡例を出力\n",
        "plt.legend()"
      ],
      "execution_count": 0,
      "outputs": [
        {
          "output_type": "execute_result",
          "data": {
            "text/plain": [
              "<matplotlib.legend.Legend at 0x7fcd6b5657b8>"
            ]
          },
          "metadata": {
            "tags": []
          },
          "execution_count": 55
        },
        {
          "output_type": "display_data",
          "data": {
            "image/png": "[encoded data removed]",
            "text/plain": [
              "<Figure size 432x288 with 1 Axes>"
            ]
          },
          "metadata": {
            "tags": [],
            "needs_background": "light"
          }
        }
      ]
    },
    {
      "cell_type": "code",
      "metadata": {
        "id": "rHOcpdcdMxXy",
        "colab_type": "code",
        "outputId": "b5bd7249-5e94-4a9d-a274-4cea16feb94c",
        "colab": {
          "base_uri": "https://localhost:8080/",
          "height": 225
        }
      },
      "source": [
        "# bool値でDataFrameが返ってくる\n",
        "train_label == 0\n",
        "# bool値でSeriesが返ってくる\n",
        "train_label['花の種類'] == 0\n",
        "# np行列でbool値の2次元配列が返ってくる\n",
        "(train_label == 0).values\n",
        "# np行列でbool値の1次元配列が返ってくる\n",
        "(train_label['花の種類'] == 0).values\n",
        "\n",
        "# このとき，train_data[train_label['花の種類']==0]と\n",
        "# train_data[(train_label == 0).values]が全く同じ値を返す"
      ],
      "execution_count": 0,
      "outputs": [
        {
          "output_type": "execute_result",
          "data": {
            "text/plain": [
              "array([False, False, False, False,  True, False,  True,  True, False,\n",
              "        True, False, False, False, False, False, False, False, False,\n",
              "        True,  True, False,  True, False, False, False, False,  True,\n",
              "       False, False, False,  True, False, False, False, False,  True,\n",
              "       False, False,  True, False, False, False, False,  True,  True,\n",
              "       False, False,  True, False,  True, False,  True,  True, False,\n",
              "       False, False, False, False,  True, False,  True,  True,  True,\n",
              "        True,  True,  True, False,  True, False, False, False, False,\n",
              "        True, False,  True,  True, False, False,  True, False, False,\n",
              "       False,  True, False,  True, False, False, False,  True,  True,\n",
              "        True, False, False,  True, False,  True, False, False, False,\n",
              "        True])"
            ]
          },
          "metadata": {
            "tags": []
          },
          "execution_count": 56
        }
      ]
    },
    {
      "cell_type": "code",
      "metadata": {
        "id": "WunBjysLPBP0",
        "colab_type": "code",
        "outputId": "e280b7f4-791f-40b7-afb0-c79bfc638fce",
        "colab": {
          "base_uri": "https://localhost:8080/",
          "height": 312
        }
      },
      "source": [
        "# 花びらの長さと幅の分布\n",
        "plt.scatter(train_data[train_label['花の種類'] == 0]['花びらの長さ'], train_data[(train_label == 0).values]['花びらの幅'], label='setosa', cmap='rgb')\n",
        "plt.scatter(train_data[train_label['花の種類'] == 1]['花びらの長さ'], train_data[(train_label == 1).values]['花びらの幅'], label='versicolor', cmap='rgb')\n",
        "plt.scatter(train_data[train_label['花の種類'] == 2]['花びらの長さ'], train_data[(train_label == 2).values]['花びらの幅'], label='virginica', cmap='rgb')\n",
        "\n",
        "plt.xlim(0,8)\n",
        "plt.ylim(0,4)\n",
        "\n",
        "plt.xlabel('Length of petal')\n",
        "plt.ylabel('Width of petal')\n",
        "\n",
        "plt.title('Relation between length and width of petal')\n",
        "plt.legend()"
      ],
      "execution_count": 0,
      "outputs": [
        {
          "output_type": "execute_result",
          "data": {
            "text/plain": [
              "<matplotlib.legend.Legend at 0x7fcd6b8b07b8>"
            ]
          },
          "metadata": {
            "tags": []
          },
          "execution_count": 57
        },
        {
          "output_type": "display_data",
          "data": {
            "image/png": "[encoded data removed]",
            "text/plain": [
              "<Figure size 432x288 with 1 Axes>"
            ]
          },
          "metadata": {
            "tags": [],
            "needs_background": "light"
          }
        }
      ]
    },
    {
      "cell_type": "code",
      "metadata": {
        "id": "WiF91p2IR35o",
        "colab_type": "code",
        "colab": {}
      },
      "source": [
        "# 2つの特徴量を作成する\n",
        "\n",
        "# がく片コンビのDataFrameを作成する\n",
        "gakuhen_train = train_data.loc[:, ['がく片の長さ', 'がく片の幅']]\n",
        "\n",
        "# 花びらコンビのDataFrameを作成する\n",
        "hanabira_train = train_data.loc[:, ['花びらの長さ', '花びらの幅']]"
      ],
      "execution_count": 0,
      "outputs": []
    },
    {
      "cell_type": "code",
      "metadata": {
        "id": "KTGU4kvLcWKF",
        "colab_type": "code",
        "colab": {}
      },
      "source": [
        "# LinearSVMでモデル構築⇒学習⇒予測する\n",
        "\n",
        "## それぞれのモデルを構築\n",
        "gakuhen_model = LinearSVC()\n",
        "hanabira_model = LinearSVC()\n",
        "\n",
        "\n",
        "## それぞれのモデルに学習させる\n",
        "gakuhen_model.fit(gakuhen_train, train_label)\n",
        "hanabira_model.fit(hanabira_train, train_label)\n",
        "\n",
        "## それぞれのモデルで予測させて、予測値を代入させる\n",
        "## モデルが《がく片の長さと幅》を使って学習しているので，予測するときも《がく片の長さと幅》を渡す必要がある．\n",
        "gakuhen_predict = gakuhen_model.predict(test_data.loc[:,['がく片の長さ', 'がく片の幅']])\n",
        "## モデルが《花びらの長さと幅》を使って学習しているので，予測するときも《花びらの長さと幅》を渡す必要がある．\n",
        "hanabira_predict = hanabira_model.predict(test_data.loc[:,['花びらの長さ', '花びらの幅']])"
      ],
      "execution_count": 0,
      "outputs": []
    },
    {
      "cell_type": "code",
      "metadata": {
        "id": "0_U_rt1ig3wA",
        "colab_type": "code",
        "outputId": "a7ac309d-133e-43f3-edec-69698fd049d7",
        "colab": {
          "base_uri": "https://localhost:8080/",
          "height": 34
        }
      },
      "source": [
        "# accuracy_scoreを使う\n",
        "\n",
        "## sklearnライブラリからscore算出用の関数をimport \n",
        "from sklearn.metrics import accuracy_score\n",
        "\n",
        "## gakuhen_scoreとhanabira_scoreそれぞれに結果を代入\n",
        "gakuhen_score = accuracy_score(test_label, gakuhen_predict)\n",
        "hanabira_score = accuracy_score(test_label, hanabira_predict)\n",
        "\n",
        "print('がく片の長さと幅コンビの正解率:{}'.format(gakuhen_score), '花びらの長さと幅コンビの正解率:{}'.format(hanabira_score))"
      ],
      "execution_count": 0,
      "outputs": [
        {
          "output_type": "stream",
          "text": [
            "がく片の長さと幅コンビの正解率:0.74 花びらの長さと幅コンビの正解率:0.94\n"
          ],
          "name": "stdout"
        }
      ]
    },
    {
      "cell_type": "code",
      "metadata": {
        "id": "tjarx28pimHY",
        "colab_type": "code",
        "colab": {}
      },
      "source": [
        "# 2つの結果の違いについて詳しく見る\n",
        "# そのために分類の境界を可視化する\n",
        "\n",
        "def heacet_border_check(H, M, model, param1, param2, resolution=0.01):\n",
        "    H1_min, H1_max = H[param1].min()-0.5, H[param1].max()+0.5\n",
        "    H2_min, H2_max = H[param2].min()-0.5, H[param2].max()+0.5\n",
        "    H1, H2 = np.meshgrid(np.arange(H1_min, H1_max, resolution),\n",
        "                        np.arange(H2_min, H2_max, resolution))\n",
        "    n = np.array([H1.ravel(), H2.ravel()]).T\n",
        "    Z = model.predict(n)\n",
        "    Z = Z.reshape(H1.shape)\n",
        "    plt.contourf(H1, H2, Z, alpha=0.5, cmap=\"Set2\")\n",
        "    plt.xlim(H1_min, H1_max)\n",
        "    plt.ylim(H2_min, H2_max)\n",
        "    plt.xlabel(\"Length\")\n",
        "    plt.ylabel(\"Width\")\n",
        "    plt.scatter(H[param1],H[param2], c=M[\"花の種類\"], cmap=\"brg\")"
      ],
      "execution_count": 0,
      "outputs": []
    },
    {
      "cell_type": "code",
      "metadata": {
        "id": "3QjXKugNj5YA",
        "colab_type": "code",
        "outputId": "37a736a5-2b8b-4c5c-a60d-21fc298322be",
        "colab": {
          "base_uri": "https://localhost:8080/",
          "height": 279
        }
      },
      "source": [
        "# 作成した関数を使って\n",
        "# がく片コンビの分類の境界を可視化する\n",
        "heacet_border_check(train_data, train_label, gakuhen_model, 'がく片の長さ', 'がく片の幅')"
      ],
      "execution_count": 0,
      "outputs": [
        {
          "output_type": "display_data",
          "data": {
            "image/png": "[encoded data removed]",
            "text/plain": [
              "<Figure size 432x288 with 1 Axes>"
            ]
          },
          "metadata": {
            "tags": [],
            "needs_background": "light"
          }
        }
      ]
    },
    {
      "cell_type": "code",
      "metadata": {
        "id": "yJ_NnQ5xk1T6",
        "colab_type": "code",
        "outputId": "dfa2cf72-d34f-4087-8bf6-8bb5c929f326",
        "colab": {
          "base_uri": "https://localhost:8080/",
          "height": 283
        }
      },
      "source": [
        "# 作成した関数を使って\n",
        "# 花びらコンビの分類の境界を可視化する\n",
        "heacet_border_check(train_data, train_label, hanabira_model, '花びらの長さ', '花びらの幅')"
      ],
      "execution_count": 0,
      "outputs": [
        {
          "output_type": "display_data",
          "data": {
            "image/png": "[encoded data removed]",
            "text/plain": [
              "<Figure size 432x288 with 1 Axes>"
            ]
          },
          "metadata": {
            "tags": [],
            "needs_background": "light"
          }
        }
      ]
    }
  ]
}