{
 "cells": [
  {
   "cell_type": "code",
   "execution_count": 1,
   "metadata": {},
   "outputs": [
    {
     "output_type": "execute_result",
     "data": {
      "text/plain": "'d:\\\\My_programing\\\\python\\\\AI\\\\Training\\\\LeNet'"
     },
     "metadata": {},
     "execution_count": 1
    }
   ],
   "source": [
    "# 必要なパッケージをインポートする\n",
    "import tensorflow as tf\n",
    "from tensorflow.keras import layers\n",
    "from DataSetDownload.DataLoad_0602 import DataLoad\n",
    "# 画像を表示するためにmatplotlibをインポートする\n",
    "import matplotlib.pyplot as plt\n",
    "%matplotlib inline\n",
    "\n",
    "# 相対パスを書くために、現在のディレクトリの位置を書き出す\n",
    "import os\n",
    "os.getcwd()\n"
   ]
  },
  {
   "cell_type": "code",
   "execution_count": 5,
   "metadata": {},
   "outputs": [],
   "source": [
    "# 定数（モデル定義時に必要となる数値）\n",
    "INPUT_FEATURES = 2 # 入力（特徴）の数：2\n",
    "LAYER1_NEURONS = 3 # ニューロンの数：3\n",
    "LAYER2_NEURONS = 3 # ニューロンの数：3\n",
    "OUTPUT_RESULTS = 1 # 出力結果の数：1"
   ]
  },
  {
   "cell_type": "code",
   "execution_count": 8,
   "metadata": {},
   "outputs": [],
   "source": [
    "### 活性化関数を変数（ハイパーパラメータ）として定義 ###\n",
    "# 変数（モデル定義時に必要となる数値）\n",
    "activation1 = layers.Activation('sigmoid', # 活性化関数（隠れ層用）：tanh関数（変更可能）\n",
    "name='activation1'                      # 活性化関数にも名前付け\n",
    ")\n",
    "\n",
    "activation2 = layers.Activation('tanh', # 活性化関数（隠れ層用）：tanh関数（変更可能）\n",
    "name='activation2'                      # 活性化関数にも名前付け\n",
    ")\n",
    "\n",
    "acti_out = layers.Activation('tanh', # 活性化関数（隠れ層用）：tanh関数（変更可能）\n",
    "name='acti_out'                      # 活性化関数にも名前付け\n",
    ")\n",
    "\n",
    "class NeuralNetwork(tf.keras.Model):\n",
    "\n",
    "    ### レイヤーを定義 ###\n",
    "    def __init__(self, *args, **kwargs):\n",
    "        super().__init__()\n",
    "\n",
    "        # 入力層は定義「不要」。実際の入力によって決まるので\n",
    "\n",
    "        # 隠れ層：1つ目のレイヤー\n",
    "        # (32, 32, 3) → (28, 28, 6)\n",
    "        self.Conv2D_1 = layers.Conv2D( # 畳み込み層\n",
    "            filter = 6,              # 出力空間の次元 \n",
    "            kernel_size = (5, 5),    # 2次元の畳み込みウインドウの幅と高さを指定する．\n",
    "            padding = 'valid',       # 入力画像を普通にフィルタリング\n",
    "            activation=None,         # 活性化関数\n",
    "            name='conv1',            # 表示用に名前付け\n",
    "        )\n",
    "\n",
    "        # 隠れ層：2つ目のレイヤー\n",
    "        self.MaxPool2D_1 = layers.MaxPool2D( # プーリング層\n",
    "            pool_size=(2, 2), # ダウンスケールする係数を決める．(2, 2)は画像をそれぞれの次元で半分にする\n",
    "            padding='same',   # 入力画像の周囲をゼロパディング→出力画像が入力画像と同じサイズになるようにする．\n",
    "            name='MaxPool1'   # 表示用に名前付け\n",
    "        )\n",
    "\n",
    "        # 隠れ層：3つ目のレイヤー\n",
    "        # (28, 28, 6) → (24, 24, 16)\n",
    "        self.Conv2D_2 = layers.Conv2D( # 畳み込み層\n",
    "            filter = 16,             # 出力空間の次元\n",
    "            kernel_size = (5, 5),    # 2次元の畳み込みウインドウの幅と高さを指定する\n",
    "            padding = 'valid',       # 入力画像を普通にフィルタリング\n",
    "            activation=None,         # 活性化関数\n",
    "            name='conv2',            # 表示用に名前付け\n",
    "        )\n",
    "\n",
    "        # 隠れ層：4つ目のレイヤー\n",
    "        self.MaxPool2D_2 = layers.MaxPool2D( # プーリング層\n",
    "            pool_size = (2, 2), # ダウンスケールする係数を決める．(2, 2)は画像をそれぞれの次元で半分にする\n",
    "            padding='same',   # 入力画像の周囲をゼロパディング→出力画像が入力画像と同じサイズになるようにする．\n",
    "            name='MaxPool1'   # 表示用に名前付け\n",
    "        )\n",
    "\n",
    "        # 隠れ層：5つ目のレイヤー\n",
    "        self.Dense1 = layers.Dense(\n",
    "            units=120, \n",
    "            activation=None,\n",
    "            name='dense1',\n",
    "        )\n",
    "\n",
    "        # 隠れ層：6つ目のレイヤー\n",
    "        self.Dense2 = layers.Dense(\n",
    "            units=64,\n",
    "            activation=None,\n",
    "            name='dense2'\n",
    "        )\n",
    "\n",
    "        # 出力層\n",
    "        self.layer_out = layers.Dense( # 全結合層\n",
    "            units=num_classes,         # ユニットの数\n",
    "            activation = 'softmax' \n",
    "            name='layer_out',          # 表示用に名前付け\n",
    "        )\n",
    "\n",
    "    ### フォワードパスを定義 ###\n",
    "    def call(self, inputs, training=None): # 入力と，訓練/評価モード\n",
    "        # 「出力 = 活性化関数（第n層（入力））」の形式で記述\n",
    "        x1 = activation1(self.layer1(inputs)) # 活性化関数は変数として定義\n",
    "        x2 = activation2(self.layer2(x1))     # 同上\n",
    "        outputs = acti_out(self.layer_out(x2)) # 活性化関数は「tanh」固定\n",
    "            \n",
    "        return outputs"
   ]
  },
  {
   "cell_type": "code",
   "execution_count": null,
   "metadata": {},
   "outputs": [],
   "source": [
    "'../DataSet/AngleDetection/training'\n",
    "x_train, t_train"
   ]
  },
  {
   "cell_type": "code",
   "execution_count": 10,
   "metadata": {},
   "outputs": [],
   "source": [
    "### モデルの生成 ###\n",
    "model = NeuralNetwork() # モデルの生成\n",
    "\n",
    "# 方法1：推論して動的にグラフを構築する\n",
    "temp_input = [[0.1, -0.2]] # 仮の入力値\n",
    "temp_output = model.p"
   ]
  },
  {
   "cell_type": "code",
   "execution_count": null,
   "metadata": {},
   "outputs": [],
   "source": []
  }
 ],
 "metadata": {
  "kernelspec": {
   "display_name": "Python 3",
   "language": "python",
   "name": "python3"
  },
  "language_info": {
   "codemirror_mode": {
    "name": "ipython",
    "version": 3
   },
   "file_extension": ".py",
   "mimetype": "text/x-python",
   "name": "python",
   "nbconvert_exporter": "python",
   "pygments_lexer": "ipython3",
   "version": "3.7.7-final"
  }
 },
 "nbformat": 4,
 "nbformat_minor": 4
}