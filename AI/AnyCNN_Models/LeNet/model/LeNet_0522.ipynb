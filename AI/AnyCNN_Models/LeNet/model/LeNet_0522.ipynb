{
 "cells": [
  {
   "cell_type": "code",
   "execution_count": 1,
   "metadata": {},
   "outputs": [
    {
     "output_type": "execute_result",
     "data": {
      "text/plain": "'d:\\\\My_programing\\\\python\\\\AI\\\\AnyCNN_Models\\\\LeNet\\\\model'"
     },
     "metadata": {},
     "execution_count": 1
    }
   ],
   "source": [
    "# 必要なパッケージをインポートする\n",
    "from tensorflow import keras\n",
    "import cv2\n",
    "import numpy as np\n",
    "from glob import glob\n",
    "\n",
    "# 画像を表示するためにmatplotlibをインポートする\n",
    "import matplotlib.pyplot as plt\n",
    "%matplotlib inline\n",
    "\n",
    "# 相対パスを書くために、現在のディレクトリの位置を書き出す\n",
    "import os\n",
    "os.getcwd()\n"
   ]
  },
  {
   "cell_type": "code",
   "execution_count": 2,
   "metadata": {
    "tags": []
   },
   "outputs": [
    {
     "output_type": "execute_result",
     "data": {
      "text/plain": "<matplotlib.image.AxesImage at 0x234b07d9408>"
     },
     "metadata": {},
     "execution_count": 2
    },
    {
     "output_type": "display_data",
     "data": {
      "text/plain": "<Figure size 432x288 with 1 Axes>",
      "image/svg+xml": "<?xml version=\"1.0\" encoding=\"utf-8\" standalone=\"no\"?>\r\n<!DOCTYPE svg PUBLIC \"-//W3C//DTD SVG 1.1//EN\"\r\n  \"http://www.w3.org/Graphics/SVG/1.1/DTD/svg11.dtd\">\r\n<!-- Created with matplotlib (https://matplotlib.org/) -->\r\n<svg height=\"250.618594pt\" version=\"1.1\" viewBox=\"0 0 251.565 250.618594\" width=\"251.565pt\" xmlns=\"http://www.w3.org/2000/svg\" xmlns:xlink=\"http://www.w3.org/1999/xlink\">\r\n <defs>\r\n  <style type=\"text/css\">\r\n*{stroke-linecap:butt;stroke-linejoin:round;}\r\n  </style>\r\n </defs>\r\n <g id=\"figure_1\">\r\n  <g id=\"patch_1\">\r\n   <path d=\"M 0 250.618594 \r\nL 251.565 250.618594 \r\nL 251.565 0 \r\nL 0 0 \r\nz\r\n\" style=\"fill:none;\"/>\r\n  </g>\r\n  <g id=\"axes_1\">\r\n   <g id=\"patch_2\">\r\n    <path d=\"M 26.925 226.740469 \r\nL 244.365 226.740469 \r\nL 244.365 9.300469 \r\nL 26.925 9.300469 \r\nz\r\n\" style=\"fill:#ffffff;\"/>\r\n   </g>\r\n   <g clip-path=\"url(#p5bf2da29bd)\">\r\n    <image height=\"218\" id=\"imagea212d575ad\" transform=\"scale(1 -1)translate(0 -218)\" width=\"218\" x=\"26.925\" xlink:href=\"data:image/png;base64,\r\niVBORw0KGgoAAAANSUhEUgAAANoAAADaCAYAAADAHVzbAAAABHNCSVQICAgIfAhkiAAACOVJREFUeJzt3b+PTF0cx/GzWNbvFT9XKKglCoVEsY0o1CISGg2VaFV0/gJRKXSKbTUaCRIKhYRKISq/ExHsWr/3qZx8ztfe88yMmY874/2qzrp3756ZeT7P/Z4z5947trCwsJAADNSSv90B4F9A0AADggYYEDTAgKABBgQNMCBogAFBAwwIGmBA0AADggYYEDTAgKABBgQNMCBogAFBAwwIGmBA0AADggYYEDTAgKABBgQNMCBogAFBAwwIGmBA0AADggYYEDTAgKABBgQNMCBogAFBAwwIGmBA0AADggYYEDTAgKABBgQNMCBogAFBAwwIGmBA0AADggYYEDTAgKABBgQNMCBogAFBAwwIGmBA0AADggYYEDTAgKABBgQNMCBogAFBAwwIGmBA0AADggYYEDTAgKABBgQNMCBogAFBAwyW/e0O/GsWFhZye2xsrK/H+79jxn372Q/UcUYDDAgaYEDpOACxRGsq2X78+FH8vGRJ8//3mrY1HbubfsTSsdYP9IZ3FDAgaIABQQMMGKOZ/fz5M7fjWKib8dYvcZyn+8XjN4294hit319BgDMaYEHQAANKxwGordbQbV+/fm38vXgMLTnVt2/fip8nJiYaj79ixYpFt61cubKxv+gPzmiAAUEDDIa+dNQS6/Pnz7k9Pj5e7Ld06dLcjmWYztzFkm1ubi63Hz16lNszMzPFfvfv38/tWHo9f/68o34MYpFx0/G1HUvMqamp3J6cnCy27d69O7ePHTuW2/v27Sv227BhQ27H19k08xr7XtsWP9+244wGGBA0wICgAQZjC7Wifgg0TXvH8c7s7Gxu61grpZSOHj2a28uWlcPWL1++5PaaNWsW/feUynGOTrHHbcuXL2/sey8XbXaj6WuG2F8ds378+LGxH6tXr85tHcumVL6PmzZtKrZdunQpt/fu3bvo8WK/4vutX1UMA85ogAFBAwxaUzrWVkWo2gLYmzdv5va5c+eK/d68edN4zNo0spZ9Wg7FFRlaEsZjaNkTy7Q2qE2r116nfhb6tUVKZaket+nf01UpsRy8fPlybk9PTxfbatP7TYuiu7m/Sr9xRgMMCBpgQNAAg9aM0XRKeX5+vnG/u3fvFj+fOHEit9evX994DK3Hazefacnb8Zum8cQg+uv8mkHFrzvWrl2b2/FrhitXruT2oUOHGo8fx4ed9GMQOKMBBgQNMGhN6ajT6HEVwP79+xu3aUmhpUBc4aEvs1ZOtOTt+M2/UDrGf9ef4+euXwts3ry52Hbjxo3c1qsIatP7gy4jOaMBBgQNMBh46Vi7R4aervXiyAMHDhT76WqEuFJBy8C2ln3DZtClYy9qffr+/Xvxsw4bbt26lds7d+4s9tP/dmrDiX7gjAYYEDTAgKABBtYxWvxTHz58yO09e/bkdu1+hLVHEXE/wv5oyxitdntz7WMco+l4S2/Y9OTJk2I/vZCXMRowAggaYGC9r2Ocmj979mxua7lYm8KvrfigjBwttYs2O6X3ITl+/Hix7fr16711rAec0QADggYYEDTAwDq9Hy/s27VrV+O2P9WWKepR47yKoB90el+n81NK6enTp7lduxi4HzijAQYEDTAY+PR+bYq2reUGRode+aH3pXHjjAYYEDTAYOClY221xpYtW3L75cuXjfv1ssqDsnQw2vi+xj7pImOdaYyzjs7XwhkNMCBogAFBAwysK0P0W/qUUnr79m1u64Wf8T59WnPHlf34N+kVHfHCT53G19uK37t3r9hv48aNuc3KEGAEEDTAwHrhZ3yi49atW3Nbnw5y5syZYj89rQ/63g7ov9pTWnvZL6Xfy0WlFwdfuHAht/VpQymVC9kpHYERQNAAA4IGGFgf21R7bI5O2z98+LDY78iRI43H1Mf5aG3eTb0/aP24yUzb1e5/H8c/TRf5xvdGP9s4vvr06VPj8a9du5bb09PTjX3miZ/AiCFogEFrnvip3+bH0kK3nT59utimD4/XUqNN9wwZtvts9CK+Rv3M4mqe+DVP0zH084y3iT948GBuX716tdim93KsrSDRbTzxExgBBA0waE3pqGq3nov3fZidnc3t8+fP5/bMzEyxn5YG+qDxlFKam5vL7fHx8WKblj2rVq1q7Je+jbVbmrdR7J+WWLGk0n11ti++Zj3Gs2fPim23b9/O7VOnTuV2/GwPHz6c2xcvXiy2rVu3rqM+qtpMNKUjMAIIGmBA0ACDVo7RuqEXk9ZW+T9+/Di3dVyQUkovXrzI7ffv3xfbtm3b1rhN6dgu1vu1leZ/qpuxRdNHrdPoKZX3Qoy/o69Tf29iYqLYT2+E8+DBg2Kb9lnHZTpWjseIau93Gx/ZxRkNMCBogMHQlY5xCripDIkLTXX6OU7h6zH0PiYppXTnzp3c1hUIccr61atXuR1Lnvn5+UX7Fb/G6LTkqT1EXXV6/LifHjOWhDqtvn379tw+efJksZ9OzccyXhcc62uJn22tPGzqb1u1v4fACCBogAFBAwyGboxWu3i0tl8nv9PN79UudHz37l2xTZd8vX79OrfjeFC/Zojb4s+/xFXtO3bsyO14seTU1FRu642RJicni/10qVl8P/R11tRufNPpzXlGCWc0wICgAQZDVzr+TbUH39emmDtdJa7HrE11q1jC6vFjn3SblpxxP/1bsR9tvxKhrTijAQYEDTCgdOxC7a3Sbb3OjPZjhUOtH6pWAtaOMQyrMNqIdw0wIGiAAUEDDBijAQac0QADggYYEDTAgKABBgQNMCBogAFBAwwIGmBA0AADggYYEDTAgKABBgQNMCBogAFBAwwIGmBA0AADggYYEDTAgKABBgQNMCBogAFBAwwIGmBA0AADggYYEDTAgKABBgQNMCBogAFBAwwIGmBA0AADggYYEDTAgKABBgQNMCBogAFBAwwIGmBA0AADggYYEDTAgKABBgQNMCBogAFBAwwIGmBA0AADggYYEDTAgKABBgQNMCBogAFBAwwIGmBA0AADggYYEDTAgKABBgQNMCBogAFBAwwIGmBA0AADggYYEDTA4D806ztXcVdVowAAAABJRU5ErkJggg==\" y=\"-8.740469\"/>\r\n   </g>\r\n   <g id=\"matplotlib.axis_1\">\r\n    <g id=\"xtick_1\">\r\n     <g id=\"line2d_1\">\r\n      <defs>\r\n       <path d=\"M 0 0 \r\nL 0 3.5 \r\n\" id=\"mb45a71d066\" style=\"stroke:#000000;stroke-width:0.8;\"/>\r\n      </defs>\r\n      <g>\r\n       <use style=\"stroke:#000000;stroke-width:0.8;\" x=\"28.62375\" xlink:href=\"#mb45a71d066\" y=\"226.740469\"/>\r\n      </g>\r\n     </g>\r\n     <g id=\"text_1\">\r\n      <!-- 0 -->\r\n      <defs>\r\n       <path d=\"M 31.78125 66.40625 \r\nQ 24.171875 66.40625 20.328125 58.90625 \r\nQ 16.5 51.421875 16.5 36.375 \r\nQ 16.5 21.390625 20.328125 13.890625 \r\nQ 24.171875 6.390625 31.78125 6.390625 \r\nQ 39.453125 6.390625 43.28125 13.890625 \r\nQ 47.125 21.390625 47.125 36.375 \r\nQ 47.125 51.421875 43.28125 58.90625 \r\nQ 39.453125 66.40625 31.78125 66.40625 \r\nz\r\nM 31.78125 74.21875 \r\nQ 44.046875 74.21875 50.515625 64.515625 \r\nQ 56.984375 54.828125 56.984375 36.375 \r\nQ 56.984375 17.96875 50.515625 8.265625 \r\nQ 44.046875 -1.421875 31.78125 -1.421875 \r\nQ 19.53125 -1.421875 13.0625 8.265625 \r\nQ 6.59375 17.96875 6.59375 36.375 \r\nQ 6.59375 54.828125 13.0625 64.515625 \r\nQ 19.53125 74.21875 31.78125 74.21875 \r\nz\r\n\" id=\"DejaVuSans-48\"/>\r\n      </defs>\r\n      <g transform=\"translate(25.4425 241.338906)scale(0.1 -0.1)\">\r\n       <use xlink:href=\"#DejaVuSans-48\"/>\r\n      </g>\r\n     </g>\r\n    </g>\r\n    <g id=\"xtick_2\">\r\n     <g id=\"line2d_2\">\r\n      <g>\r\n       <use style=\"stroke:#000000;stroke-width:0.8;\" x=\"62.59875\" xlink:href=\"#mb45a71d066\" y=\"226.740469\"/>\r\n      </g>\r\n     </g>\r\n     <g id=\"text_2\">\r\n      <!-- 10 -->\r\n      <defs>\r\n       <path d=\"M 12.40625 8.296875 \r\nL 28.515625 8.296875 \r\nL 28.515625 63.921875 \r\nL 10.984375 60.40625 \r\nL 10.984375 69.390625 \r\nL 28.421875 72.90625 \r\nL 38.28125 72.90625 \r\nL 38.28125 8.296875 \r\nL 54.390625 8.296875 \r\nL 54.390625 0 \r\nL 12.40625 0 \r\nz\r\n\" id=\"DejaVuSans-49\"/>\r\n      </defs>\r\n      <g transform=\"translate(56.23625 241.338906)scale(0.1 -0.1)\">\r\n       <use xlink:href=\"#DejaVuSans-49\"/>\r\n       <use x=\"63.623047\" xlink:href=\"#DejaVuSans-48\"/>\r\n      </g>\r\n     </g>\r\n    </g>\r\n    <g id=\"xtick_3\">\r\n     <g id=\"line2d_3\">\r\n      <g>\r\n       <use style=\"stroke:#000000;stroke-width:0.8;\" x=\"96.57375\" xlink:href=\"#mb45a71d066\" y=\"226.740469\"/>\r\n      </g>\r\n     </g>\r\n     <g id=\"text_3\">\r\n      <!-- 20 -->\r\n      <defs>\r\n       <path d=\"M 19.1875 8.296875 \r\nL 53.609375 8.296875 \r\nL 53.609375 0 \r\nL 7.328125 0 \r\nL 7.328125 8.296875 \r\nQ 12.9375 14.109375 22.625 23.890625 \r\nQ 32.328125 33.6875 34.8125 36.53125 \r\nQ 39.546875 41.84375 41.421875 45.53125 \r\nQ 43.3125 49.21875 43.3125 52.78125 \r\nQ 43.3125 58.59375 39.234375 62.25 \r\nQ 35.15625 65.921875 28.609375 65.921875 \r\nQ 23.96875 65.921875 18.8125 64.3125 \r\nQ 13.671875 62.703125 7.8125 59.421875 \r\nL 7.8125 69.390625 \r\nQ 13.765625 71.78125 18.9375 73 \r\nQ 24.125 74.21875 28.421875 74.21875 \r\nQ 39.75 74.21875 46.484375 68.546875 \r\nQ 53.21875 62.890625 53.21875 53.421875 \r\nQ 53.21875 48.921875 51.53125 44.890625 \r\nQ 49.859375 40.875 45.40625 35.40625 \r\nQ 44.1875 33.984375 37.640625 27.21875 \r\nQ 31.109375 20.453125 19.1875 8.296875 \r\nz\r\n\" id=\"DejaVuSans-50\"/>\r\n      </defs>\r\n      <g transform=\"translate(90.21125 241.338906)scale(0.1 -0.1)\">\r\n       <use xlink:href=\"#DejaVuSans-50\"/>\r\n       <use x=\"63.623047\" xlink:href=\"#DejaVuSans-48\"/>\r\n      </g>\r\n     </g>\r\n    </g>\r\n    <g id=\"xtick_4\">\r\n     <g id=\"line2d_4\">\r\n      <g>\r\n       <use style=\"stroke:#000000;stroke-width:0.8;\" x=\"130.54875\" xlink:href=\"#mb45a71d066\" y=\"226.740469\"/>\r\n      </g>\r\n     </g>\r\n     <g id=\"text_4\">\r\n      <!-- 30 -->\r\n      <defs>\r\n       <path d=\"M 40.578125 39.3125 \r\nQ 47.65625 37.796875 51.625 33 \r\nQ 55.609375 28.21875 55.609375 21.1875 \r\nQ 55.609375 10.40625 48.1875 4.484375 \r\nQ 40.765625 -1.421875 27.09375 -1.421875 \r\nQ 22.515625 -1.421875 17.65625 -0.515625 \r\nQ 12.796875 0.390625 7.625 2.203125 \r\nL 7.625 11.71875 \r\nQ 11.71875 9.328125 16.59375 8.109375 \r\nQ 21.484375 6.890625 26.8125 6.890625 \r\nQ 36.078125 6.890625 40.9375 10.546875 \r\nQ 45.796875 14.203125 45.796875 21.1875 \r\nQ 45.796875 27.640625 41.28125 31.265625 \r\nQ 36.765625 34.90625 28.71875 34.90625 \r\nL 20.21875 34.90625 \r\nL 20.21875 43.015625 \r\nL 29.109375 43.015625 \r\nQ 36.375 43.015625 40.234375 45.921875 \r\nQ 44.09375 48.828125 44.09375 54.296875 \r\nQ 44.09375 59.90625 40.109375 62.90625 \r\nQ 36.140625 65.921875 28.71875 65.921875 \r\nQ 24.65625 65.921875 20.015625 65.03125 \r\nQ 15.375 64.15625 9.8125 62.3125 \r\nL 9.8125 71.09375 \r\nQ 15.4375 72.65625 20.34375 73.4375 \r\nQ 25.25 74.21875 29.59375 74.21875 \r\nQ 40.828125 74.21875 47.359375 69.109375 \r\nQ 53.90625 64.015625 53.90625 55.328125 \r\nQ 53.90625 49.265625 50.4375 45.09375 \r\nQ 46.96875 40.921875 40.578125 39.3125 \r\nz\r\n\" id=\"DejaVuSans-51\"/>\r\n      </defs>\r\n      <g transform=\"translate(124.18625 241.338906)scale(0.1 -0.1)\">\r\n       <use xlink:href=\"#DejaVuSans-51\"/>\r\n       <use x=\"63.623047\" xlink:href=\"#DejaVuSans-48\"/>\r\n      </g>\r\n     </g>\r\n    </g>\r\n    <g id=\"xtick_5\">\r\n     <g id=\"line2d_5\">\r\n      <g>\r\n       <use style=\"stroke:#000000;stroke-width:0.8;\" x=\"164.52375\" xlink:href=\"#mb45a71d066\" y=\"226.740469\"/>\r\n      </g>\r\n     </g>\r\n     <g id=\"text_5\">\r\n      <!-- 40 -->\r\n      <defs>\r\n       <path d=\"M 37.796875 64.3125 \r\nL 12.890625 25.390625 \r\nL 37.796875 25.390625 \r\nz\r\nM 35.203125 72.90625 \r\nL 47.609375 72.90625 \r\nL 47.609375 25.390625 \r\nL 58.015625 25.390625 \r\nL 58.015625 17.1875 \r\nL 47.609375 17.1875 \r\nL 47.609375 0 \r\nL 37.796875 0 \r\nL 37.796875 17.1875 \r\nL 4.890625 17.1875 \r\nL 4.890625 26.703125 \r\nz\r\n\" id=\"DejaVuSans-52\"/>\r\n      </defs>\r\n      <g transform=\"translate(158.16125 241.338906)scale(0.1 -0.1)\">\r\n       <use xlink:href=\"#DejaVuSans-52\"/>\r\n       <use x=\"63.623047\" xlink:href=\"#DejaVuSans-48\"/>\r\n      </g>\r\n     </g>\r\n    </g>\r\n    <g id=\"xtick_6\">\r\n     <g id=\"line2d_6\">\r\n      <g>\r\n       <use style=\"stroke:#000000;stroke-width:0.8;\" x=\"198.49875\" xlink:href=\"#mb45a71d066\" y=\"226.740469\"/>\r\n      </g>\r\n     </g>\r\n     <g id=\"text_6\">\r\n      <!-- 50 -->\r\n      <defs>\r\n       <path d=\"M 10.796875 72.90625 \r\nL 49.515625 72.90625 \r\nL 49.515625 64.59375 \r\nL 19.828125 64.59375 \r\nL 19.828125 46.734375 \r\nQ 21.96875 47.46875 24.109375 47.828125 \r\nQ 26.265625 48.1875 28.421875 48.1875 \r\nQ 40.625 48.1875 47.75 41.5 \r\nQ 54.890625 34.8125 54.890625 23.390625 \r\nQ 54.890625 11.625 47.5625 5.09375 \r\nQ 40.234375 -1.421875 26.90625 -1.421875 \r\nQ 22.3125 -1.421875 17.546875 -0.640625 \r\nQ 12.796875 0.140625 7.71875 1.703125 \r\nL 7.71875 11.625 \r\nQ 12.109375 9.234375 16.796875 8.0625 \r\nQ 21.484375 6.890625 26.703125 6.890625 \r\nQ 35.15625 6.890625 40.078125 11.328125 \r\nQ 45.015625 15.765625 45.015625 23.390625 \r\nQ 45.015625 31 40.078125 35.4375 \r\nQ 35.15625 39.890625 26.703125 39.890625 \r\nQ 22.75 39.890625 18.8125 39.015625 \r\nQ 14.890625 38.140625 10.796875 36.28125 \r\nz\r\n\" id=\"DejaVuSans-53\"/>\r\n      </defs>\r\n      <g transform=\"translate(192.13625 241.338906)scale(0.1 -0.1)\">\r\n       <use xlink:href=\"#DejaVuSans-53\"/>\r\n       <use x=\"63.623047\" xlink:href=\"#DejaVuSans-48\"/>\r\n      </g>\r\n     </g>\r\n    </g>\r\n    <g id=\"xtick_7\">\r\n     <g id=\"line2d_7\">\r\n      <g>\r\n       <use style=\"stroke:#000000;stroke-width:0.8;\" x=\"232.47375\" xlink:href=\"#mb45a71d066\" y=\"226.740469\"/>\r\n      </g>\r\n     </g>\r\n     <g id=\"text_7\">\r\n      <!-- 60 -->\r\n      <defs>\r\n       <path d=\"M 33.015625 40.375 \r\nQ 26.375 40.375 22.484375 35.828125 \r\nQ 18.609375 31.296875 18.609375 23.390625 \r\nQ 18.609375 15.53125 22.484375 10.953125 \r\nQ 26.375 6.390625 33.015625 6.390625 \r\nQ 39.65625 6.390625 43.53125 10.953125 \r\nQ 47.40625 15.53125 47.40625 23.390625 \r\nQ 47.40625 31.296875 43.53125 35.828125 \r\nQ 39.65625 40.375 33.015625 40.375 \r\nz\r\nM 52.59375 71.296875 \r\nL 52.59375 62.3125 \r\nQ 48.875 64.0625 45.09375 64.984375 \r\nQ 41.3125 65.921875 37.59375 65.921875 \r\nQ 27.828125 65.921875 22.671875 59.328125 \r\nQ 17.53125 52.734375 16.796875 39.40625 \r\nQ 19.671875 43.65625 24.015625 45.921875 \r\nQ 28.375 48.1875 33.59375 48.1875 \r\nQ 44.578125 48.1875 50.953125 41.515625 \r\nQ 57.328125 34.859375 57.328125 23.390625 \r\nQ 57.328125 12.15625 50.6875 5.359375 \r\nQ 44.046875 -1.421875 33.015625 -1.421875 \r\nQ 20.359375 -1.421875 13.671875 8.265625 \r\nQ 6.984375 17.96875 6.984375 36.375 \r\nQ 6.984375 53.65625 15.1875 63.9375 \r\nQ 23.390625 74.21875 37.203125 74.21875 \r\nQ 40.921875 74.21875 44.703125 73.484375 \r\nQ 48.484375 72.75 52.59375 71.296875 \r\nz\r\n\" id=\"DejaVuSans-54\"/>\r\n      </defs>\r\n      <g transform=\"translate(226.11125 241.338906)scale(0.1 -0.1)\">\r\n       <use xlink:href=\"#DejaVuSans-54\"/>\r\n       <use x=\"63.623047\" xlink:href=\"#DejaVuSans-48\"/>\r\n      </g>\r\n     </g>\r\n    </g>\r\n   </g>\r\n   <g id=\"matplotlib.axis_2\">\r\n    <g id=\"ytick_1\">\r\n     <g id=\"line2d_8\">\r\n      <defs>\r\n       <path d=\"M 0 0 \r\nL -3.5 0 \r\n\" id=\"m80d4e3ebbf\" style=\"stroke:#000000;stroke-width:0.8;\"/>\r\n      </defs>\r\n      <g>\r\n       <use style=\"stroke:#000000;stroke-width:0.8;\" x=\"26.925\" xlink:href=\"#m80d4e3ebbf\" y=\"10.999219\"/>\r\n      </g>\r\n     </g>\r\n     <g id=\"text_8\">\r\n      <!-- 0 -->\r\n      <g transform=\"translate(13.5625 14.798437)scale(0.1 -0.1)\">\r\n       <use xlink:href=\"#DejaVuSans-48\"/>\r\n      </g>\r\n     </g>\r\n    </g>\r\n    <g id=\"ytick_2\">\r\n     <g id=\"line2d_9\">\r\n      <g>\r\n       <use style=\"stroke:#000000;stroke-width:0.8;\" x=\"26.925\" xlink:href=\"#m80d4e3ebbf\" y=\"44.974219\"/>\r\n      </g>\r\n     </g>\r\n     <g id=\"text_9\">\r\n      <!-- 10 -->\r\n      <g transform=\"translate(7.2 48.773437)scale(0.1 -0.1)\">\r\n       <use xlink:href=\"#DejaVuSans-49\"/>\r\n       <use x=\"63.623047\" xlink:href=\"#DejaVuSans-48\"/>\r\n      </g>\r\n     </g>\r\n    </g>\r\n    <g id=\"ytick_3\">\r\n     <g id=\"line2d_10\">\r\n      <g>\r\n       <use style=\"stroke:#000000;stroke-width:0.8;\" x=\"26.925\" xlink:href=\"#m80d4e3ebbf\" y=\"78.949219\"/>\r\n      </g>\r\n     </g>\r\n     <g id=\"text_10\">\r\n      <!-- 20 -->\r\n      <g transform=\"translate(7.2 82.748437)scale(0.1 -0.1)\">\r\n       <use xlink:href=\"#DejaVuSans-50\"/>\r\n       <use x=\"63.623047\" xlink:href=\"#DejaVuSans-48\"/>\r\n      </g>\r\n     </g>\r\n    </g>\r\n    <g id=\"ytick_4\">\r\n     <g id=\"line2d_11\">\r\n      <g>\r\n       <use style=\"stroke:#000000;stroke-width:0.8;\" x=\"26.925\" xlink:href=\"#m80d4e3ebbf\" y=\"112.924219\"/>\r\n      </g>\r\n     </g>\r\n     <g id=\"text_11\">\r\n      <!-- 30 -->\r\n      <g transform=\"translate(7.2 116.723437)scale(0.1 -0.1)\">\r\n       <use xlink:href=\"#DejaVuSans-51\"/>\r\n       <use x=\"63.623047\" xlink:href=\"#DejaVuSans-48\"/>\r\n      </g>\r\n     </g>\r\n    </g>\r\n    <g id=\"ytick_5\">\r\n     <g id=\"line2d_12\">\r\n      <g>\r\n       <use style=\"stroke:#000000;stroke-width:0.8;\" x=\"26.925\" xlink:href=\"#m80d4e3ebbf\" y=\"146.899219\"/>\r\n      </g>\r\n     </g>\r\n     <g id=\"text_12\">\r\n      <!-- 40 -->\r\n      <g transform=\"translate(7.2 150.698437)scale(0.1 -0.1)\">\r\n       <use xlink:href=\"#DejaVuSans-52\"/>\r\n       <use x=\"63.623047\" xlink:href=\"#DejaVuSans-48\"/>\r\n      </g>\r\n     </g>\r\n    </g>\r\n    <g id=\"ytick_6\">\r\n     <g id=\"line2d_13\">\r\n      <g>\r\n       <use style=\"stroke:#000000;stroke-width:0.8;\" x=\"26.925\" xlink:href=\"#m80d4e3ebbf\" y=\"180.874219\"/>\r\n      </g>\r\n     </g>\r\n     <g id=\"text_13\">\r\n      <!-- 50 -->\r\n      <g transform=\"translate(7.2 184.673437)scale(0.1 -0.1)\">\r\n       <use xlink:href=\"#DejaVuSans-53\"/>\r\n       <use x=\"63.623047\" xlink:href=\"#DejaVuSans-48\"/>\r\n      </g>\r\n     </g>\r\n    </g>\r\n    <g id=\"ytick_7\">\r\n     <g id=\"line2d_14\">\r\n      <g>\r\n       <use style=\"stroke:#000000;stroke-width:0.8;\" x=\"26.925\" xlink:href=\"#m80d4e3ebbf\" y=\"214.849219\"/>\r\n      </g>\r\n     </g>\r\n     <g id=\"text_14\">\r\n      <!-- 60 -->\r\n      <g transform=\"translate(7.2 218.648437)scale(0.1 -0.1)\">\r\n       <use xlink:href=\"#DejaVuSans-54\"/>\r\n       <use x=\"63.623047\" xlink:href=\"#DejaVuSans-48\"/>\r\n      </g>\r\n     </g>\r\n    </g>\r\n   </g>\r\n   <g id=\"patch_3\">\r\n    <path d=\"M 26.925 226.740469 \r\nL 26.925 9.300469 \r\n\" style=\"fill:none;stroke:#000000;stroke-linecap:square;stroke-linejoin:miter;stroke-width:0.8;\"/>\r\n   </g>\r\n   <g id=\"patch_4\">\r\n    <path d=\"M 244.365 226.740469 \r\nL 244.365 9.300469 \r\n\" style=\"fill:none;stroke:#000000;stroke-linecap:square;stroke-linejoin:miter;stroke-width:0.8;\"/>\r\n   </g>\r\n   <g id=\"patch_5\">\r\n    <path d=\"M 26.925 226.740469 \r\nL 244.365 226.740469 \r\n\" style=\"fill:none;stroke:#000000;stroke-linecap:square;stroke-linejoin:miter;stroke-width:0.8;\"/>\r\n   </g>\r\n   <g id=\"patch_6\">\r\n    <path d=\"M 26.925 9.300469 \r\nL 244.365 9.300469 \r\n\" style=\"fill:none;stroke:#000000;stroke-linecap:square;stroke-linejoin:miter;stroke-width:0.8;\"/>\r\n   </g>\r\n  </g>\r\n </g>\r\n <defs>\r\n  <clipPath id=\"p5bf2da29bd\">\r\n   <rect height=\"217.44\" width=\"217.44\" x=\"26.925\" y=\"9.300469\"/>\r\n  </clipPath>\r\n </defs>\r\n</svg>\r\n",
      "image/png": "[encoded data removed]"
     },
     "metadata": {
      "needs_background": "light"
     }
    }
   ],
   "source": [
    "path = 'D:/My_programing/python/AI/DataSet/AngleDetection/training/0/chipping/299x299_image1.jpg'\n",
    "                \n",
    "x = cv2.imread(path)\n",
    "x = cv2.resize(x, (64, 64)).astype(np.float32)\n",
    "x /= 255.\n",
    "\n",
    "#plt.imshow(cv2.cvtColor(x, cv2.COLOR_BGR2RGB))\n",
    "plt.imshow(x)\n",
    "#print(x)"
   ]
  },
  {
   "cell_type": "code",
   "execution_count": 3,
   "metadata": {
    "tags": []
   },
   "outputs": [],
   "source": [
    "def data_load(path, img_width, img_height, CLS, Framework='Tensorflow'):\n",
    "    \"\"\"ファイルパスからデータセットをロードするための関数\"\"\"\n",
    "    xs = [] # 訓練データ用の空リスト\n",
    "    ts = [] # データラベル用の空リスト\n",
    "    paths = [] # ロードしたファイルパス用の空リスト\n",
    "    img_read_err = [] # ロードできなかったファイルパス用の空リスト\n",
    "    lbl_err_path = [] # 正解ラベル作成時にエラーとなった画像のパスを保存するリスト\n",
    "    err_cnt = 0\n",
    "    num_classes = len(CLS)+1\n",
    "\n",
    "    # データをロードするためにディレクトリを下りていく\n",
    "    for dir_path_1 in glob(DirPath):\n",
    "        for dir_path_2 in glob(dir_path_1 + '/*'):\n",
    "            for path in glob(dir_path_2 + '/*'):\n",
    "                #print(path, 'を読み込みました。')\n",
    "\n",
    "                # 訓練用画像を読み込む\n",
    "                x = cv2.imread(path)\n",
    "                if x is None: # もし，画像がロードできなかった場合\n",
    "                    print(path, 'を読み込めませんでした．')\n",
    "                    img_read_err.append(path)\n",
    "                    continue\n",
    "                else: # 画像がロードできた場合\n",
    "                    x = cv2.resize(x, (img_width, img_height)).astype(np.float32)\n",
    "                    x /= 255.\n",
    "                    xs.append(x)\n",
    "                \n",
    "                # 正解ラベルを作成する\n",
    "                lbl = dir_path_1[dir_path_1.find('\\\\'):].strip('\\\\')\n",
    "                # 使用するフレームワークによって，正解ラベルの作成方法が異なる\n",
    "                if (Framework is 'PyTorch'):\n",
    "                    t = float(lbl)\n",
    "                elif (Framework is 'Tensorflow') or (Framework is 'Keras'):\n",
    "                    # one-hot-labelを作成する\n",
    "                    t = np.zeros(num_classes)\n",
    "                    for i, cls in enumerate(CLS):\n",
    "                        if cls == lbl:\n",
    "                            t[i] = 1\n",
    "                    if np.sum(t) != 1:\n",
    "                        lbl_err_path.append(path)\n",
    "                        err_cnt +=1\n",
    "\n",
    "                #print(t)\n",
    "                ts.append(t)\n",
    "                paths.append(path)\n",
    "\n",
    "    xs = np.array(xs, dtype=np.float32)\n",
    "    ts = np.array(ts, dtype=np.int)\n",
    "\n",
    "    return xs, ts, paths, img_read_err, lbl_err_path"
   ]
  },
  {
   "cell_type": "code",
   "execution_count": 4,
   "metadata": {},
   "outputs": [],
   "source": [
    "# LeNetを作成する\n",
    "## Network\n",
    "from tensorflow.keras.models import Sequential, Model\n",
    "from tensorflow.keras.layers import Dense, Dropout, Activation, Flatten, Conv2D, MaxPool2D, Input, BatchNormalization\n",
    "\n",
    "def LeNet(img_width, img_height, num_classes):\n",
    "    inputs = Input((img_height, img_width, 3))\n",
    "    x = Conv2D(6, (5, 5), padding='valid', activation=None, name='conv1')(inputs)\n",
    "    x = MaxPool2D((2, 2), padding='same')(x)\n",
    "    x = Activation('sigmoid')(x)\n",
    "    x = Conv2D(16, (5, 5), padding='valid', activation=None, name='conv2')(x)\n",
    "    x = MaxPool2D((2, 2), padding='same')(x)\n",
    "    x = Activation('sigmoid')(x)\n",
    "\n",
    "    x = Flatten()(x)\n",
    "    x = Dense(120, name='dense1', activation=None)(x)\n",
    "    x = Dense(64, name='dense2', activation=None)(x)\n",
    "    x = Dense(num_classes, activation='softmax')(x)\n",
    "\n",
    "    model = Model(inputs=inputs, outputs=x, name='model')\n",
    "    return model"
   ]
  },
  {
   "cell_type": "code",
   "execution_count": 5,
   "metadata": {},
   "outputs": [],
   "source": [
    "# training\n",
    "def train(DirPath, img_size, cls_label):\n",
    "    model = LeNet(img_size[0], img_size[1], len(cls_label)+1)\n",
    "\n",
    "    for layer in model.layers:\n",
    "        layer.trainable = True\n",
    "\n",
    "    model.compile(\n",
    "        loss = 'categorical_crossentropy',\n",
    "        optimizer = keras.optimizers.SGD(lr=0.01, decay=1e-6, momentum=0.9, nesterov=True),\n",
    "        metrics=['accuracy'])\n",
    "    \n",
    "    xs, ts, paths, img_read_err, err_path = data_load(DirPath, img_size[0], img_size[1], cls_label)\n",
    "    if img_read_err:\n",
    "        print('画像の読み込みでエラーが発生しました．')\n",
    "        print(img_read_err)\n",
    "        pass\n",
    "    elif err_path:\n",
    "        print('one_hot_lbl作成時にエラーが発生しました．')\n",
    "        print(err_path)\n",
    "        pass\n",
    "\n",
    "    # training\n",
    "    mb = 100\n",
    "    mbi = 0\n",
    "    count = 1\n",
    "    loss_ls = []\n",
    "\n",
    "    loss_ave = 0\n",
    "    loss_AveMin = 1\n",
    "    loss_AveCnt = 0\n",
    "    #loss_AveLs = []\n",
    "\n",
    "    train_ind = np.arange(len(xs))\n",
    "    np.random.seed(0)\n",
    "    np.random.shuffle(train_ind)\n",
    "\n",
    "    #for i in range(500):\n",
    "    while True:\n",
    "        if mbi + mb > len(xs):\n",
    "            mb_ind = train_ind[mbi:]\n",
    "            np.random.shuffle(train_ind)\n",
    "            mb_ind = np.hstack((mb_ind, train_ind[:(mb-(len(xs)-mbi))]))\n",
    "            mbi = mb - (len(xs) - mbi)\n",
    "            \n",
    "            loss_ave = np.average(loss_ls)\n",
    "            if loss_AveMin > loss_ave:\n",
    "                loss_AveMin = loss_ave\n",
    "                loss_AveCnt = 0\n",
    "            else: loss_AveCnt += 1\n",
    "            loss_ls = []\n",
    "            print('iter >>', count, ',loss_ave >>', loss_ave, 'accuracy >>', acc)\n",
    "        else:\n",
    "            mb_ind = train_ind[mbi: mbi+mb]\n",
    "            mbi += mb\n",
    "\n",
    "        x = xs[mb_ind]\n",
    "        t = ts[mb_ind]\n",
    "\n",
    "        loss, acc = model.train_on_batch(x=x, y=t)\n",
    "        #print('iter >>', count, ',loss >>', loss, 'accuracy >>', acc)\n",
    "        \n",
    "        loss_ls.append(loss)\n",
    "        count += 1\n",
    "\n",
    "        if loss_AveCnt == 50: break\n",
    "\n",
    "    model.save('LeNet.h5')\n",
    "    return 0"
   ]
  },
  {
   "cell_type": "code",
   "execution_count": 6,
   "metadata": {
    "tags": []
   },
   "outputs": [
    {
     "output_type": "error",
     "ename": "UnboundLocalError",
     "evalue": "local variable 'acc' referenced before assignment",
     "traceback": [
      "\u001b[1;31m---------------------------------------------------------------------------\u001b[0m",
      "\u001b[1;31mUnboundLocalError\u001b[0m                         Traceback (most recent call last)",
      "\u001b[1;32m<ipython-input-6-8491aa4cdc65>\u001b[0m in \u001b[0;36m<module>\u001b[1;34m\u001b[0m\n\u001b[0;32m      8\u001b[0m \u001b[1;33m\u001b[0m\u001b[0m\n\u001b[0;32m      9\u001b[0m \u001b[1;31m#train(DirPath, img_size=(64, 64), cls_label=CLS)\u001b[0m\u001b[1;33m\u001b[0m\u001b[1;33m\u001b[0m\u001b[1;33m\u001b[0m\u001b[0m\n\u001b[1;32m---> 10\u001b[1;33m \u001b[0mtrain\u001b[0m\u001b[1;33m(\u001b[0m\u001b[0mDirPath\u001b[0m\u001b[1;33m,\u001b[0m \u001b[0mimg_size\u001b[0m\u001b[1;33m=\u001b[0m\u001b[1;33m(\u001b[0m\u001b[0mimg_width\u001b[0m\u001b[1;33m,\u001b[0m \u001b[0mimg_height\u001b[0m\u001b[1;33m)\u001b[0m\u001b[1;33m,\u001b[0m \u001b[0mcls_label\u001b[0m\u001b[1;33m=\u001b[0m\u001b[0mCLS\u001b[0m\u001b[1;33m)\u001b[0m\u001b[1;33m\u001b[0m\u001b[1;33m\u001b[0m\u001b[0m\n\u001b[0m",
      "\u001b[1;32m<ipython-input-5-452456b105b8>\u001b[0m in \u001b[0;36mtrain\u001b[1;34m(DirPath, img_size, cls_label)\u001b[0m\n\u001b[0;32m     50\u001b[0m             \u001b[1;32melse\u001b[0m\u001b[1;33m:\u001b[0m \u001b[0mloss_AveCnt\u001b[0m \u001b[1;33m+=\u001b[0m \u001b[1;36m1\u001b[0m\u001b[1;33m\u001b[0m\u001b[1;33m\u001b[0m\u001b[0m\n\u001b[0;32m     51\u001b[0m             \u001b[0mloss_ls\u001b[0m \u001b[1;33m=\u001b[0m \u001b[1;33m[\u001b[0m\u001b[1;33m]\u001b[0m\u001b[1;33m\u001b[0m\u001b[1;33m\u001b[0m\u001b[0m\n\u001b[1;32m---> 52\u001b[1;33m             \u001b[0mprint\u001b[0m\u001b[1;33m(\u001b[0m\u001b[1;34m'iter >>'\u001b[0m\u001b[1;33m,\u001b[0m \u001b[0mcount\u001b[0m\u001b[1;33m,\u001b[0m \u001b[1;34m',loss_ave >>'\u001b[0m\u001b[1;33m,\u001b[0m \u001b[0mloss_ave\u001b[0m\u001b[1;33m,\u001b[0m \u001b[1;34m'accuracy >>'\u001b[0m\u001b[1;33m,\u001b[0m \u001b[0macc\u001b[0m\u001b[1;33m)\u001b[0m\u001b[1;33m\u001b[0m\u001b[1;33m\u001b[0m\u001b[0m\n\u001b[0m\u001b[0;32m     53\u001b[0m         \u001b[1;32melse\u001b[0m\u001b[1;33m:\u001b[0m\u001b[1;33m\u001b[0m\u001b[1;33m\u001b[0m\u001b[0m\n\u001b[0;32m     54\u001b[0m             \u001b[0mmb_ind\u001b[0m \u001b[1;33m=\u001b[0m \u001b[0mtrain_ind\u001b[0m\u001b[1;33m[\u001b[0m\u001b[0mmbi\u001b[0m\u001b[1;33m:\u001b[0m \u001b[0mmbi\u001b[0m\u001b[1;33m+\u001b[0m\u001b[0mmb\u001b[0m\u001b[1;33m]\u001b[0m\u001b[1;33m\u001b[0m\u001b[1;33m\u001b[0m\u001b[0m\n",
      "\u001b[1;31mUnboundLocalError\u001b[0m: local variable 'acc' referenced before assignment"
     ]
    }
   ],
   "source": [
    "# データを読み込むフォルダを指定する\n",
    "DirPath = '../../DataSet/AngleDetection/training/*'\n",
    "#print(DirPath)\n",
    "\n",
    "num_classes = 36\n",
    "img_width, img_height = 64, 64\n",
    "CLS = np.arange(0, 180, 5).astype('str')\n",
    "\n",
    "#train(DirPath, img_size=(64, 64), cls_label=CLS)\n",
    "train(DirPath, img_size=(img_width, img_height), cls_label=CLS)"
   ]
  },
  {
   "cell_type": "code",
   "execution_count": null,
   "metadata": {},
   "outputs": [],
   "source": []
  }
 ],
 "metadata": {
  "kernelspec": {
   "display_name": "Python 3.7.7 64-bit ('tools': virtualenv)",
   "language": "python",
   "name": "python37764bittoolsvirtualenvf3a6e0a1a17d471ca2d9c8ab9ef82ac9"
  },
  "language_info": {
   "codemirror_mode": {
    "name": "ipython",
    "version": 3
   },
   "file_extension": ".py",
   "mimetype": "text/x-python",
   "name": "python",
   "nbconvert_exporter": "python",
   "pygments_lexer": "ipython3",
   "version": "3.7.7-final"
  }
 },
 "nbformat": 4,
 "nbformat_minor": 4
}