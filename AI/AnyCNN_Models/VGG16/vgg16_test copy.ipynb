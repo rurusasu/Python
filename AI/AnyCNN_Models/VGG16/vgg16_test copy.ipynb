{
 "cells": [
  {
   "cell_type": "code",
   "execution_count": 11,
   "metadata": {},
   "outputs": [
    {
     "output_type": "execute_result",
     "data": {
      "text/plain": "'3.7.7 (default, May  6 2020, 11:45:54) [MSC v.1916 64 bit (AMD64)]'"
     },
     "metadata": {},
     "execution_count": 11
    }
   ],
   "source": [
    "# 検証環境\n",
    "\n",
    "# [こちらのサイト](https://qiita.com/anieca/items/9dfe3ef46e7b655bf3ee) を参考にした。\n",
    "\n",
    "\n",
    "import sys\n",
    "\n",
    "sys.version"
   ]
  },
  {
   "cell_type": "code",
   "execution_count": 12,
   "metadata": {},
   "outputs": [],
   "source": [
    "import tensorflow as tf\n",
    "from tensorflow.keras import layers, Model\n",
    "\n",
    "class CBR(Model):\n",
    "    def __init__(self, filters, kernel_size, strides):\n",
    "        super().__init__()\n",
    "\n",
    "        params = {\n",
    "            \"filters\": filters,\n",
    "            \"kernel_size\": kernel_size,\n",
    "            \"strides\": strides,\n",
    "            \"padding\": \"same\",\n",
    "            \"use_bias\": True,\n",
    "            \"kernel_initializer\": \"he_normal\",\n",
    "        }\n",
    "\n",
    "        self.layers_ = [\n",
    "            layers.Conv2D(**params),\n",
    "            layers.BatchNormalization(),\n",
    "            layers.ReLU()\n",
    "        ]\n",
    "\n",
    "\n",
    "    def call(self, inputs):\n",
    "        for layer in self.layers_:\n",
    "            inputs = layer(inputs)\n",
    "        return inputs"
   ]
  },
  {
   "cell_type": "code",
   "execution_count": 13,
   "metadata": {},
   "outputs": [],
   "source": [
    "class VGG16(Model):\n",
    "    def __init__(self, output_size=1000):\n",
    "        super().__init__()\n",
    "        self.laeyrs_=[\n",
    "            CBR(64, 3, 1),\n",
    "            CBR(64, 3, 1),\n",
    "            layers.MaxPool2D(2, padding=\"same\"),\n",
    "            CBR(128, 3, 1), \n",
    "            CBR(128, 3, 1),\n",
    "            layers.MaxPool2D(2, padding=\"same\"),\n",
    "            CBR(256, 3, 1),\n",
    "            CBR(256, 3, 1),\n",
    "            CBR(256, 3, 1),\n",
    "            layers.MaxPool2D(2, padding=\"same\"),\n",
    "            CBR(512, 3, 1),\n",
    "            CBR(512, 3, 1),\n",
    "            CBR(512, 3, 1),\n",
    "            layers.MaxPool2D(2, padding=\"same\"),\n",
    "            layers.Flatten(),\n",
    "            layers.Dense(4096),\n",
    "            layers.Dense(4096),\n",
    "            layers.Dense(output_size, activation=\"softmax\"),\n",
    "        ]\n",
    "\n",
    "    def call(self, inputs):\n",
    "        for layer in self.laeyrs_:\n",
    "            inputs = layer(inputs)\n",
    "        return inputs"
   ]
  },
  {
   "cell_type": "code",
   "execution_count": 14,
   "metadata": {},
   "outputs": [],
   "source": [
    "\n",
    "def load_model(input_shape=None, output_size=10):\n",
    "    \"\"\"モデルを読み込む\n",
    "    Args:\n",
    "        output_size(int):\n",
    "    Returns:\n",
    "        model(Object): tf.keras.Model を継承したオブジェクト\n",
    "    \"\"\"\n",
    "\n",
    "    model = VGG16(output_size)\n",
    "    return model"
   ]
  },
  {
   "cell_type": "code",
   "execution_count": 15,
   "metadata": {},
   "outputs": [
    {
     "output_type": "error",
     "ename": "ModuleNotFoundError",
     "evalue": "No module named 'src'",
     "traceback": [
      "\u001b[1;31m---------------------------------------------------------------------------\u001b[0m",
      "\u001b[1;31mModuleNotFoundError\u001b[0m                       Traceback (most recent call last)",
      "\u001b[1;32m<ipython-input-15-7c25c5eb1c32>\u001b[0m in \u001b[0;36m<module>\u001b[1;34m\u001b[0m\n\u001b[0;32m      2\u001b[0m \u001b[1;32mimport\u001b[0m \u001b[0mtensorflow\u001b[0m \u001b[1;32mas\u001b[0m \u001b[0mtf\u001b[0m\u001b[1;33m\u001b[0m\u001b[1;33m\u001b[0m\u001b[0m\n\u001b[0;32m      3\u001b[0m \u001b[1;33m\u001b[0m\u001b[0m\n\u001b[1;32m----> 4\u001b[1;33m \u001b[1;32mfrom\u001b[0m \u001b[0msrc\u001b[0m\u001b[1;33m.\u001b[0m\u001b[0mutils\u001b[0m \u001b[1;32mimport\u001b[0m \u001b[0mload_dataset\u001b[0m\u001b[1;33m,\u001b[0m \u001b[0mget_args\u001b[0m\u001b[1;33m,\u001b[0m \u001b[0mget_current_time\u001b[0m\u001b[1;33m\u001b[0m\u001b[1;33m\u001b[0m\u001b[0m\n\u001b[0m\u001b[0;32m      5\u001b[0m \u001b[1;33m\u001b[0m\u001b[0m\n\u001b[0;32m      6\u001b[0m \u001b[1;32mdef\u001b[0m \u001b[0mbuiltin_train\u001b[0m\u001b[1;33m(\u001b[0m\u001b[0margs\u001b[0m\u001b[1;33m)\u001b[0m\u001b[1;33m:\u001b[0m\u001b[1;33m\u001b[0m\u001b[1;33m\u001b[0m\u001b[0m\n",
      "\u001b[1;31mModuleNotFoundError\u001b[0m: No module named 'src'"
     ]
    }
   ],
   "source": [
    "import os\n",
    "import tensorflow as tf\n",
    "\n",
    "from src.utils import load_dataset, get_args, get_current_time\n",
    "\n",
    "def builtin_train(args):\n",
    "    # load dataset and model\n",
    "    (train_images, train_labels), (test_images, test_labels) = load_dataset(args.data)\n",
    "    input_shape = train_images[: args.batch_size, :, :, :].shape\n",
    "    output_size = max(train_labels) + 1\n",
    "    model = load_model(input_shape=input_shape, output_size=output_size)\n",
    "    model.summary()\n",
    "\n",
    "    # set tensorboard configs\n",
    "    logdir = os.path.join(args.logdir, get_current_time())\n",
    "    tensorboard_callback = tf.keras.callbacks.TensorBoard(log_dir=logdir)\n",
    "\n",
    "    # loss, optimizer, metrics, setting\n",
    "    model.compile(\n",
    "        optimizer = tf.keras.optimizers.Adam(),\n",
    "        loss = \"sparse_categorical_crossentropy\",\n",
    "        metrics = [\"accuracy\"],\n",
    "    )\n",
    "\n",
    "    # dataset config (and validation, callback config)\n",
    "    fit_params = {}\n",
    "    fit_params[\"batch_size\"] = args.batch_size\n",
    "    fit_params[\"epochs\"] = args.max_epoch\n",
    "    if args.step_per_epoch:\n",
    "        fit_params[\"step_per_epoch\"] = args.steps_per_epoch\n",
    "    fit_params[verbose] = 1\n",
    "    fit_params[\"callbacks\"] = [tensorboard_callback]\n",
    "    fit_params[\"validation_data\"] = (test_images, test_labels)\n",
    "\n",
    "    # start train and test\n",
    "    model.fit(train_images, train_labels, **fit_params)"
   ]
  },
  {
   "cell_type": "code",
   "execution_count": 19,
   "metadata": {
    "tags": []
   },
   "outputs": [
    {
     "output_type": "execute_result",
     "data": {
      "text/plain": "['d:\\\\My_programing\\\\python\\\\AI\\\\AnyCNN_Models\\\\VGG16',\n 'C:\\\\Program Files\\\\Microsoft VS Code',\n 'c:\\\\Users\\\\rurus\\\\.vscode\\\\extensions\\\\ms-python.python-2020.8.109390\\\\pythonFiles',\n 'c:\\\\Users\\\\rurus\\\\.vscode\\\\extensions\\\\ms-python.python-2020.8.109390\\\\pythonFiles\\\\lib\\\\python',\n 'C:\\\\Users\\\\rurus\\\\Miniconda3\\\\python37.zip',\n 'C:\\\\Users\\\\rurus\\\\Miniconda3\\\\DLLs',\n 'C:\\\\Users\\\\rurus\\\\Miniconda3\\\\lib',\n 'C:\\\\Users\\\\rurus\\\\Miniconda3',\n '',\n 'C:\\\\Users\\\\rurus\\\\Miniconda3\\\\lib\\\\site-packages',\n 'C:\\\\Users\\\\rurus\\\\Miniconda3\\\\lib\\\\site-packages\\\\win32',\n 'C:\\\\Users\\\\rurus\\\\Miniconda3\\\\lib\\\\site-packages\\\\win32\\\\lib',\n 'C:\\\\Users\\\\rurus\\\\Miniconda3\\\\lib\\\\site-packages\\\\Pythonwin',\n 'C:\\\\Users\\\\rurus\\\\Miniconda3\\\\lib\\\\site-packages\\\\IPython\\\\extensions',\n 'C:\\\\Users\\\\rurus\\\\.ipython']"
     },
     "metadata": {},
     "execution_count": 19
    }
   ],
   "source": [
    "os.getcwd\n",
    "sys.path"
   ]
  },
  {
   "cell_type": "code",
   "execution_count": null,
   "metadata": {},
   "outputs": [],
   "source": []
  }
 ],
 "metadata": {
  "language_info": {
   "codemirror_mode": {
    "name": "ipython",
    "version": 3
   },
   "file_extension": ".py",
   "mimetype": "text/x-python",
   "name": "python",
   "nbconvert_exporter": "python",
   "pygments_lexer": "ipython3",
   "version": "3.7.7-final"
  },
  "orig_nbformat": 2,
  "kernelspec": {
   "name": "python3",
   "display_name": "Python 3"
  }
 },
 "nbformat": 4,
 "nbformat_minor": 2
}