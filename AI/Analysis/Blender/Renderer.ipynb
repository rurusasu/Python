{
 "metadata": {
  "language_info": {
   "codemirror_mode": {
    "name": "ipython",
    "version": 3
   },
   "file_extension": ".py",
   "mimetype": "text/x-python",
   "name": "python",
   "nbconvert_exporter": "python",
   "pygments_lexer": "ipython3",
   "version": "3.8.5"
  },
  "orig_nbformat": 2,
  "kernelspec": {
   "name": "python385jvsc74a57bd00eecd040b31a140d4c1a4abfb9821f369b6a9e45dafd8a2bb8398d6490c0b8f2",
   "display_name": "Python 3.8.5 64-bit ('base': conda)"
  },
  "metadata": {
   "interpreter": {
    "hash": "0eecd040b31a140d4c1a4abfb9821f369b6a9e45dafd8a2bb8398d6490c0b8f2"
   }
  }
 },
 "nbformat": 4,
 "nbformat_minor": 2,
 "cells": [
  {
   "source": [
    "# Renderer"
   ],
   "cell_type": "markdown",
   "metadata": {}
  },
  {
   "cell_type": "code",
   "execution_count": 22,
   "metadata": {},
   "outputs": [],
   "source": [
    "import os\n",
    "import sys\n",
    "sys.path.append(\"..\")\n",
    "from glob import glob\n",
    "\n",
    "from src.config.config import cfg"
   ]
  },
  {
   "cell_type": "code",
   "execution_count": 23,
   "metadata": {},
   "outputs": [],
   "source": [
    "import numpy as np"
   ]
  },
  {
   "source": [
    "## Renderer Class"
   ],
   "cell_type": "markdown",
   "metadata": {}
  },
  {
   "cell_type": "code",
   "execution_count": 24,
   "metadata": {},
   "outputs": [],
   "source": [
    "class Renderer(object):\n",
    "    intrinsic_matrix = {\n",
    "        'linemod': np.array([[572.4114, 0., 325.2611],\n",
    "                                                  [0., 573.57043, 242.04899],\n",
    "                                                  [0., 0., 1.]]),\n",
    "        # 'blender': np.array([[280.0, 0.0, 128.0],\n",
    "        #                      [0.0, 280.0, 128.0],\n",
    "        #                      [0.0, 0.0, 1.0]]),\n",
    "        'blender': np.array([[700.,    0.,  320.],\n",
    "                                                  [0.,  700.,  240.],\n",
    "                                                  [0.,    0.,    1.]])\n",
    "    }\n",
    "\n",
    "    def __init__(self, object_name: str):\n",
    "        \"\"\"\n",
    "        Renderer の初期化\n",
    "\n",
    "        Arg:\n",
    "            object_name (str): 対象とするオブジェクト名\n",
    "        \"\"\"\n",
    "        self.object_name = object_name\n",
    "        self.linemod_dir = cfg.LINEMOD_DIR\n",
    "        self.pvnet_linemod_dir = cfg.PVNET_LINEMOD_DIR\n",
    "        self.parent_dir_path = cfg.DATA_DIR\n",
    "\n",
    "        self.bg_imgs_path = os.path.join(self.parent_dir_path, 'bg_imgs.npy')\n",
    "        self.poses_path = os.path.join(self.parent_dir_path, 'blender_poses', '{}_poses.npy').format(object_name)\n",
    "        self.output_dir_path = os.path.join(self.pvnet_linemod_dir,'renders/{}').format(object_name)\n",
    "        self.blender_path = cfg.BLENDER_PATH\n",
    "        self.blank_blend = os.path.join(self.parent_dir_path, 'blank.blend')\n",
    "        self.py_path = os.path.join(cfg.BLENDER_DIR, 'render_backend.py')\n",
    "        self.obj_path = os.path.join(self.pvnet_linemod_dir,'{}/{}.ply').format(object_name, object_name)\n",
    "        self.plane_height_path = os.path.join(self.parent_dir_path, 'plane_height.pkl')\n",
    "\n",
    "    def get_bg_imgs(self):\n",
    "        if os.path.exists(self.bg_imgs_path):\n",
    "            return\n",
    "\n",
    "        img_paths = glob(os.path.join(cfg.SUN, 'JPEGImages/*'))\n",
    "        bg_imgs = []\n",
    "\n",
    "        for img_path in img_paths:\n",
    "            img = Image.open(img_path)\n",
    "            row, col = img.size\n",
    "            if row > 500 and col > 500:\n",
    "                bg_imgs.append(img_path)\n",
    "\n",
    "        np.save(self.bg_imgs_path, bg_imgs)\n",
    "\n",
    "    def project_model(self, model_3d, pose, camera_type):\n",
    "        camera_model_2d = np.dot(model_3d, pose[:, :3].T) + pose[:, 3]\n",
    "        camera_model_2d = np.dot(camera_model_2d, self.intrinsic_matrix[camera_type].T)\n",
    "        return camera_model_2d[:, :2] / camera_model_2d[:, 2:]\n",
    "\n",
    "    @staticmethod\n",
    "    def exr_to_png(exr_path):\n",
    "        depth_path = exr_path.replace('.png0001.exr', '.png')\n",
    "        exr_image = OpenEXR.InputFile(exr_path)\n",
    "        dw = exr_image.header()['dataWindow']\n",
    "        (width, height) = (dw.max.x - dw.min.x + 1, dw.max.y - dw.min.y + 1)\n",
    "\n",
    "        def read_exr(s, width, height):\n",
    "            mat = np.fromstring(s, dtype=np.float32)\n",
    "            mat = mat.reshape(height, width)\n",
    "            return mat\n",
    "\n",
    "        dmap, _, _ = [read_exr(s, width, height) for s in exr_image.channels('BGR', Imath.PixelType(Imath.PixelType.FLOAT))]\n",
    "        dmap = Image.fromarray((dmap != 1).astype(np.int32))\n",
    "        dmap.save(depth_path)\n",
    "        exr_image.close()\n",
    "        os.system('rm {}'.format(exr_path))\n",
    "\n",
    "    def sample_poses(self):\n",
    "        statistician = DataStatistics(self.object_name)\n",
    "        statistician.sample_poses()\n",
    "\n",
    "    def get_plane_height(self):\n",
    "        if os.path.exists(self.plane_height_path):\n",
    "            plane_height = read_pickle(self.plane_height_path)\n",
    "        else:\n",
    "            plane_height = {}\n",
    "\n",
    "        if self.object_name in plane_height:\n",
    "            return plane_height[self.object_name]\n",
    "        else:\n",
    "            pose_transformer = PoseTransformer(self.object_name)\n",
    "            model = pose_transformer.get_blender_model()\n",
    "            height = np.min(model[:, -1])\n",
    "            plane_height[self.object_name] = height\n",
    "            save_pickle(plane_height, self.plane_height_path)\n",
    "            return height\n",
    "\n",
    "    def run(self):\n",
    "        \"\"\" Render images\n",
    "        1. prepare background images\n",
    "        2. sample poses from the pose distribution of training data\n",
    "        3. call the blender to render images\n",
    "        \"\"\"\n",
    "        self.get_bg_imgs()\n",
    "        self.sample_poses()\n",
    "\n",
    "        if not os.path.exists(self.output_dir_path):\n",
    "            os.makedirs(self.output_dir_path)\n",
    "\n",
    "        os.system('{} {} --background --python {} -- --input {} --output_dir {} --bg_imgs {} --poses_path {}'.\n",
    "                  format(self.blender_path, self.blank_blend, self.py_path, self.obj_path,\n",
    "                         self.output_dir_path, self.bg_imgs_path, self.poses_path))\n",
    "        depth_paths = glob(os.path.join(self.output_dir_path, '*.exr'))\n",
    "        for depth_path in depth_paths:\n",
    "            self.exr_to_png(depth_path)\n",
    "\n",
    "    @staticmethod\n",
    "    def multi_thread_render():\n",
    "        # objects = ['ape', 'benchvise', 'bowl', 'can', 'cat', 'cup', 'driller', 'duck',\n",
    "        #            'glue', 'holepuncher', 'iron', 'lamp', 'phone', 'cam', 'eggbox']\n",
    "        objects = ['lamp', 'phone']\n",
    "\n",
    "        def render(object_name):\n",
    "            renderer = Renderer(object_name)\n",
    "            renderer.run()\n",
    "\n",
    "        with Pool(processes=2) as pool:\n",
    "            pool.map(render, objects)"
   ]
  },
  {
   "source": [
    "## インスタンス生成"
   ],
   "cell_type": "markdown",
   "metadata": {}
  },
  {
   "cell_type": "code",
   "execution_count": 25,
   "metadata": {},
   "outputs": [],
   "source": [
    "object_name = 'ape'\n",
    "\n",
    "renderer=Renderer(object_name=object_name)"
   ]
  },
  {
   "cell_type": "code",
   "execution_count": 26,
   "metadata": {},
   "outputs": [
    {
     "output_type": "error",
     "ename": "AttributeError",
     "evalue": "'EasyDict' object has no attribute 'SUN'",
     "traceback": [
      "\u001b[0;31m---------------------------------------------------------------------------\u001b[0m",
      "\u001b[0;31mAttributeError\u001b[0m                            Traceback (most recent call last)",
      "\u001b[0;32m<ipython-input-26-952fd0220e27>\u001b[0m in \u001b[0;36m<module>\u001b[0;34m\u001b[0m\n\u001b[0;32m----> 1\u001b[0;31m \u001b[0mrenderer\u001b[0m\u001b[0;34m.\u001b[0m\u001b[0mrun\u001b[0m\u001b[0;34m(\u001b[0m\u001b[0;34m)\u001b[0m\u001b[0;34m\u001b[0m\u001b[0;34m\u001b[0m\u001b[0m\n\u001b[0m",
      "\u001b[0;32m<ipython-input-24-6b4d6c4d3612>\u001b[0m in \u001b[0;36mrun\u001b[0;34m(self)\u001b[0m\n\u001b[1;32m     97\u001b[0m         \u001b[0;36m3.\u001b[0m \u001b[0mcall\u001b[0m \u001b[0mthe\u001b[0m \u001b[0mblender\u001b[0m \u001b[0mto\u001b[0m \u001b[0mrender\u001b[0m \u001b[0mimages\u001b[0m\u001b[0;34m\u001b[0m\u001b[0;34m\u001b[0m\u001b[0m\n\u001b[1;32m     98\u001b[0m         \"\"\"\n\u001b[0;32m---> 99\u001b[0;31m         \u001b[0mself\u001b[0m\u001b[0;34m.\u001b[0m\u001b[0mget_bg_imgs\u001b[0m\u001b[0;34m(\u001b[0m\u001b[0;34m)\u001b[0m\u001b[0;34m\u001b[0m\u001b[0;34m\u001b[0m\u001b[0m\n\u001b[0m\u001b[1;32m    100\u001b[0m         \u001b[0mself\u001b[0m\u001b[0;34m.\u001b[0m\u001b[0msample_poses\u001b[0m\u001b[0;34m(\u001b[0m\u001b[0;34m)\u001b[0m\u001b[0;34m\u001b[0m\u001b[0;34m\u001b[0m\u001b[0m\n\u001b[1;32m    101\u001b[0m \u001b[0;34m\u001b[0m\u001b[0m\n",
      "\u001b[0;32m<ipython-input-24-6b4d6c4d3612>\u001b[0m in \u001b[0;36mget_bg_imgs\u001b[0;34m(self)\u001b[0m\n\u001b[1;32m     37\u001b[0m             \u001b[0;32mreturn\u001b[0m\u001b[0;34m\u001b[0m\u001b[0;34m\u001b[0m\u001b[0m\n\u001b[1;32m     38\u001b[0m \u001b[0;34m\u001b[0m\u001b[0m\n\u001b[0;32m---> 39\u001b[0;31m         \u001b[0mimg_paths\u001b[0m \u001b[0;34m=\u001b[0m \u001b[0mglob\u001b[0m\u001b[0;34m(\u001b[0m\u001b[0mos\u001b[0m\u001b[0;34m.\u001b[0m\u001b[0mpath\u001b[0m\u001b[0;34m.\u001b[0m\u001b[0mjoin\u001b[0m\u001b[0;34m(\u001b[0m\u001b[0mcfg\u001b[0m\u001b[0;34m.\u001b[0m\u001b[0mSUN\u001b[0m\u001b[0;34m,\u001b[0m \u001b[0;34m'JPEGImages/*'\u001b[0m\u001b[0;34m)\u001b[0m\u001b[0;34m)\u001b[0m\u001b[0;34m\u001b[0m\u001b[0;34m\u001b[0m\u001b[0m\n\u001b[0m\u001b[1;32m     40\u001b[0m         \u001b[0mbg_imgs\u001b[0m \u001b[0;34m=\u001b[0m \u001b[0;34m[\u001b[0m\u001b[0;34m]\u001b[0m\u001b[0;34m\u001b[0m\u001b[0;34m\u001b[0m\u001b[0m\n\u001b[1;32m     41\u001b[0m \u001b[0;34m\u001b[0m\u001b[0m\n",
      "\u001b[0;31mAttributeError\u001b[0m: 'EasyDict' object has no attribute 'SUN'"
     ]
    }
   ],
   "source": [
    "renderer.run()"
   ]
  },
  {
   "cell_type": "code",
   "execution_count": null,
   "metadata": {},
   "outputs": [],
   "source": []
  }
 ]
}