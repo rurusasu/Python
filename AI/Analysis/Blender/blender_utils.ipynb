{
 "metadata": {
  "language_info": {
   "codemirror_mode": {
    "name": "ipython",
    "version": 3
   },
   "file_extension": ".py",
   "mimetype": "text/x-python",
   "name": "python",
   "nbconvert_exporter": "python",
   "pygments_lexer": "ipython3",
   "version": "3.8.8"
  },
  "orig_nbformat": 2,
  "kernelspec": {
   "name": "python388jvsc74a57bd00eecd040b31a140d4c1a4abfb9821f369b6a9e45dafd8a2bb8398d6490c0b8f2",
   "display_name": "Python 3.8.8 64-bit ('base': conda)"
  },
  "metadata": {
   "interpreter": {
    "hash": "0eecd040b31a140d4c1a4abfb9821f369b6a9e45dafd8a2bb8398d6490c0b8f2"
   }
  }
 },
 "nbformat": 4,
 "nbformat_minor": 2,
 "cells": [
  {
   "source": [
    "# blender_utils"
   ],
   "cell_type": "markdown",
   "metadata": {}
  },
  {
   "source": [
    "参考: [zju3dv/pvnet-rendering](https://github.com/zju3dv/pvnet-rendering/blob/master/base_utils.py)"
   ],
   "cell_type": "markdown",
   "metadata": {}
  },
  {
   "cell_type": "code",
   "execution_count": 1,
   "metadata": {},
   "outputs": [],
   "source": [
    "import os\n",
    "import sys\n",
    "sys.path.append('..')\n",
    "sys.path.append('../../')\n",
    "\n",
    "import numpy as np\n",
    "\n",
    "from src.config.config import cfg\n",
    "from src.datasets.LineMod.LineModDB import LineModDB\n",
    "from src.utils.base_utils import read_ply_model"
   ]
  },
  {
   "cell_type": "code",
   "execution_count": 2,
   "metadata": {},
   "outputs": [],
   "source": [
    "from matplotlib import pyplot as plt\n",
    "%matplotlib inline"
   ]
  },
  {
   "source": [
    "## Setup"
   ],
   "cell_type": "markdown",
   "metadata": {}
  },
  {
   "cell_type": "code",
   "execution_count": 3,
   "metadata": {},
   "outputs": [],
   "source": [
    "pvnet_linemod_dir = cfg.PVNET_LINEMOD_DIR\n",
    "linemod_dir = cfg.LINEMOD_DIR\n",
    "obj_name = 'ape'"
   ]
  },
  {
   "source": [
    "## 1. ModelAligner Test"
   ],
   "cell_type": "markdown",
   "metadata": {}
  },
  {
   "cell_type": "code",
   "execution_count": 4,
   "metadata": {},
   "outputs": [],
   "source": [
    "from blender_utils import ModelAligner"
   ]
  },
  {
   "source": [
    "### インスタンス生成"
   ],
   "cell_type": "markdown",
   "metadata": {}
  },
  {
   "cell_type": "code",
   "execution_count": 5,
   "metadata": {},
   "outputs": [],
   "source": [
    "aligner = ModelAligner(obj_name=obj_name,\n",
    "                                                pvnet_linemod_dir=pvnet_linemod_dir,\n",
    "                                                linemod_dir=linemod_dir)"
   ]
  },
  {
   "source": [
    "### 1.1. get_translation_transform Test"
   ],
   "cell_type": "markdown",
   "metadata": {}
  },
  {
   "cell_type": "code",
   "execution_count": 6,
   "metadata": {},
   "outputs": [
    {
     "output_type": "stream",
     "name": "stdout",
     "text": [
      "translation_transform type\n<class 'numpy.ndarray'>\ntranslation_transform =\n[ 0.00642697  0.00273947 -0.0337945 ]\n"
     ]
    }
   ],
   "source": [
    "translation_transform = aligner.get_translation_transform()\n",
    "\n",
    "print('translation_transform type')\n",
    "print(type(translation_transform))\n",
    "print('translation_transform =')\n",
    "print(translation_transform)"
   ]
  },
  {
   "cell_type": "code",
   "execution_count": 7,
   "metadata": {},
   "outputs": [],
   "source": [
    "## 2. "
   ]
  },
  {
   "cell_type": "code",
   "execution_count": 8,
   "metadata": {},
   "outputs": [],
   "source": [
    "class PoseTransformer(object):\n",
    "    rotation_transform = np.array([[1., 0., 0.],\n",
    "                                                                     [0., -1., 0.],\n",
    "                                                                     [0., 0., -1.]])\n",
    "    translation_transforms = {}\n",
    "    obj_name_to_number = {\n",
    "        'ape': '001',\n",
    "        'can': '004',\n",
    "        'cat': '005',\n",
    "        'driller': '006',\n",
    "        'duck': '007',\n",
    "        'eggbox': '008',\n",
    "        'glue': '009',\n",
    "        'holepuncher': '010'\n",
    "    }\n",
    "    blender_models={}\n",
    "\n",
    "    def __init__(self,\n",
    "                              obj_name: str,\n",
    "                              pvnet_linemod_dir: str,\n",
    "                              linemod_dir: str):\n",
    "        \"\"\"\n",
    "        PoseTransformer の初期化関数\n",
    "\n",
    "        Args:\n",
    "            obj_name(str): LineMod データセットに含まれるオブジェクト名\n",
    "            pvnet_linemod_dir(str): PVNet_LineMod データセットのディレクトリパス\n",
    "            linemod_dir(str): LineMod データセットのディレクトリパス\n",
    "        \"\"\"\n",
    "        self.obj_name = obj_name\n",
    "        self.blender_model_path = os.path.join(pvnet_linemod_dir, '{}/{}.ply'.format(obj_name, obj_name))\n",
    "        self.orig_model_path = os.path.join(linemod_dir, '{}/mesh.ply'.format(obj_name))\n",
    "        self.model_aligner = ModelAligner(obj_name,\n",
    "                                                                                pvnet_linemod_dir,\n",
    "                                                                                linemod_dir)\n",
    "\n",
    "\n",
    "    def orig_pose_to_blender_pose(self, pose: np.matrix) -> np.matrix:\n",
    "        \"\"\"\n",
    "        オリジナルの LineMod データセットのオブジェクトの姿勢から Blender 上 でのオブジェクトの姿勢に変換するための関数\n",
    "\n",
    "        Arg:\n",
    "            pose(np.matrix): オリジナルの LineMod データセットのオブジェクトの姿勢情報([R|t] 行列)\n",
    "\n",
    "        Return:\n",
    "            (np.matrix): Blender 上 でのオブジェクトの姿勢情報([R|t] 行列)\n",
    "        \"\"\"\n",
    "        rot, tra = pose[:, :3], pose[:, 3]\n",
    "        tra = tra + np.dot(rot, self.model_aligner.get_translation_transform())\n",
    "        rot = np.dot(rot, self.rotation_transform)\n",
    "        return np.concatenate([rot, np.reshape(tra, newshape=[3, 1])], axis=-1)\n",
    "\n",
    "\n",
    "    \n",
    "\n",
    "\n",
    "    def orig_pose_to_blender_euler(self, pose):\n",
    "        blender_pose = self.orig_pose_to_blender_pose(pose)\n",
    "        return self.blender_pose_to_blender_euler(blender_pose)"
   ]
  },
  {
   "source": [
    "## 2. PoseTransformer"
   ],
   "cell_type": "markdown",
   "metadata": {}
  },
  {
   "cell_type": "code",
   "execution_count": 9,
   "metadata": {},
   "outputs": [],
   "source": [
    "from blender_utils import PoseTransformer"
   ]
  },
  {
   "source": [
    "### 2.1. インスタンス生成"
   ],
   "cell_type": "markdown",
   "metadata": {}
  },
  {
   "cell_type": "code",
   "execution_count": 10,
   "metadata": {},
   "outputs": [],
   "source": [
    "pose_transformer = PoseTransformer(obj_name,\n",
    "                                                                               pvnet_linemod_dir,\n",
    "                                                                               linemod_dir)"
   ]
  },
  {
   "source": [
    "### 2.2. orig_pose_to_blender_pose Test"
   ],
   "cell_type": "markdown",
   "metadata": {}
  },
  {
   "cell_type": "code",
   "execution_count": 11,
   "metadata": {},
   "outputs": [],
   "source": [
    "from src.datasets.LineMod.LineModDB import read_pose"
   ]
  },
  {
   "cell_type": "code",
   "execution_count": 12,
   "metadata": {},
   "outputs": [
    {
     "output_type": "stream",
     "name": "stdout",
     "text": [
      "pose = [[-0.0963063  0.994044  -0.0510079 -0.111814 ]\n [-0.573321  -0.0135081  0.81922   -0.0783622]\n [ 0.813651   0.10814    0.571207   1.03612  ]]\nRT = [[-0.0963063  -0.994044    0.0510079  -0.10798602]\n [-0.573321    0.0135081  -0.81922    -0.10976905]\n [ 0.813651   -0.10814    -0.571207    1.0223418 ]]\n"
     ]
    }
   ],
   "source": [
    "img_num = 0\n",
    "rt_dir = os.path.join(linemod_dir,\n",
    "                                          obj_name,\n",
    "                                          'data')\n",
    "pose = read_pose(os.path.join(rt_dir, 'rot{}.rot'.format(img_num)),\n",
    "                                      os.path.join(rt_dir, 'tra{}.tra'.format(img_num)))\n",
    "print('pose =', pose)\n",
    "\n",
    "RT = pose_transformer.orig_pose_to_blender_pose(pose).astype(np.float32)\n",
    "print('RT =', RT)\n",
    "#print(RT)"
   ]
  },
  {
   "source": [
    "## 2.3. orig_pose_to_blender_euler Test"
   ],
   "cell_type": "markdown",
   "metadata": {}
  },
  {
   "cell_type": "code",
   "execution_count": 13,
   "metadata": {},
   "outputs": [
    {
     "output_type": "stream",
     "name": "stdout",
     "text": [
      "pose = [[-0.0963063  0.994044  -0.0510079 -0.111814 ]\n [-0.573321  -0.0135081  0.81922   -0.0783622]\n [ 0.813651   0.10814    0.571207   1.03612  ]]\n"
     ]
    },
    {
     "output_type": "error",
     "ename": "NameError",
     "evalue": "name 'mat2euler' is not defined",
     "traceback": [
      "\u001b[0;31m---------------------------------------------------------------------------\u001b[0m",
      "\u001b[0;31mNameError\u001b[0m                                 Traceback (most recent call last)",
      "\u001b[0;32m<ipython-input-13-0aec8fbdf28c>\u001b[0m in \u001b[0;36m<module>\u001b[0;34m\u001b[0m\n\u001b[1;32m      7\u001b[0m \u001b[0mprint\u001b[0m\u001b[0;34m(\u001b[0m\u001b[0;34m'pose ='\u001b[0m\u001b[0;34m,\u001b[0m \u001b[0mpose\u001b[0m\u001b[0;34m)\u001b[0m\u001b[0;34m\u001b[0m\u001b[0;34m\u001b[0m\u001b[0m\n\u001b[1;32m      8\u001b[0m \u001b[0;34m\u001b[0m\u001b[0m\n\u001b[0;32m----> 9\u001b[0;31m \u001b[0meuler\u001b[0m \u001b[0;34m=\u001b[0m \u001b[0mpose_transformer\u001b[0m\u001b[0;34m.\u001b[0m\u001b[0morig_pose_to_blender_euler\u001b[0m\u001b[0;34m(\u001b[0m\u001b[0mpose\u001b[0m\u001b[0;34m)\u001b[0m\u001b[0;34m\u001b[0m\u001b[0;34m\u001b[0m\u001b[0m\n\u001b[0m\u001b[1;32m     10\u001b[0m \u001b[0mprint\u001b[0m\u001b[0;34m(\u001b[0m\u001b[0;34m'euler ='\u001b[0m\u001b[0;34m,\u001b[0m \u001b[0;34m)\u001b[0m\u001b[0;34m\u001b[0m\u001b[0;34m\u001b[0m\u001b[0m\n",
      "\u001b[0;32m/media/miki/DATA/My_programing/python/AI/Analysis/Blender/blender_utils.py\u001b[0m in \u001b[0;36morig_pose_to_blender_euler\u001b[0;34m(self, pose)\u001b[0m\n\u001b[1;32m    181\u001b[0m     \u001b[0;32mdef\u001b[0m \u001b[0morig_pose_to_blender_euler\u001b[0m\u001b[0;34m(\u001b[0m\u001b[0mself\u001b[0m\u001b[0;34m,\u001b[0m \u001b[0mpose\u001b[0m\u001b[0;34m)\u001b[0m\u001b[0;34m:\u001b[0m\u001b[0;34m\u001b[0m\u001b[0;34m\u001b[0m\u001b[0m\n\u001b[1;32m    182\u001b[0m         \u001b[0mblender_pose\u001b[0m \u001b[0;34m=\u001b[0m \u001b[0mself\u001b[0m\u001b[0;34m.\u001b[0m\u001b[0morig_pose_to_blender_pose\u001b[0m\u001b[0;34m(\u001b[0m\u001b[0mpose\u001b[0m\u001b[0;34m)\u001b[0m\u001b[0;34m\u001b[0m\u001b[0;34m\u001b[0m\u001b[0m\n\u001b[0;32m--> 183\u001b[0;31m         \u001b[0;32mreturn\u001b[0m \u001b[0mself\u001b[0m\u001b[0;34m.\u001b[0m\u001b[0mblender_pose_to_blender_euler\u001b[0m\u001b[0;34m(\u001b[0m\u001b[0mblender_pose\u001b[0m\u001b[0;34m)\u001b[0m\u001b[0;34m\u001b[0m\u001b[0;34m\u001b[0m\u001b[0m\n\u001b[0m\u001b[1;32m    184\u001b[0m \u001b[0;34m\u001b[0m\u001b[0m\n\u001b[1;32m    185\u001b[0m \u001b[0;31m# we could also define the camera matrix\u001b[0m\u001b[0;34m\u001b[0m\u001b[0;34m\u001b[0m\u001b[0;34m\u001b[0m\u001b[0m\n",
      "\u001b[0;32m/media/miki/DATA/My_programing/python/AI/Analysis/Blender/blender_utils.py\u001b[0m in \u001b[0;36mblender_pose_to_blender_euler\u001b[0;34m(pose)\u001b[0m\n\u001b[1;32m    173\u001b[0m             \u001b[0;34m[\u001b[0m\u001b[0mtype\u001b[0m\u001b[0;34m]\u001b[0m\u001b[0;34m:\u001b[0m \u001b[0;34m[\u001b[0m\u001b[0mdescription\u001b[0m\u001b[0;34m]\u001b[0m\u001b[0;34m\u001b[0m\u001b[0;34m\u001b[0m\u001b[0m\n\u001b[1;32m    174\u001b[0m         \"\"\"\n\u001b[0;32m--> 175\u001b[0;31m         \u001b[0meuler\u001b[0m \u001b[0;34m=\u001b[0m \u001b[0;34m[\u001b[0m\u001b[0mr\u001b[0m \u001b[0;34m/\u001b[0m \u001b[0mnp\u001b[0m\u001b[0;34m.\u001b[0m\u001b[0mpi\u001b[0m \u001b[0;34m*\u001b[0m \u001b[0;36m180\u001b[0m \u001b[0;32mfor\u001b[0m \u001b[0mr\u001b[0m \u001b[0;32min\u001b[0m \u001b[0mmat2euler\u001b[0m\u001b[0;34m(\u001b[0m\u001b[0mpose\u001b[0m\u001b[0;34m,\u001b[0m \u001b[0maxes\u001b[0m\u001b[0;34m=\u001b[0m\u001b[0;34m'szxz'\u001b[0m\u001b[0;34m)\u001b[0m\u001b[0;34m]\u001b[0m\u001b[0;34m\u001b[0m\u001b[0;34m\u001b[0m\u001b[0m\n\u001b[0m\u001b[1;32m    176\u001b[0m         \u001b[0meuler\u001b[0m\u001b[0;34m[\u001b[0m\u001b[0;36m0\u001b[0m\u001b[0;34m]\u001b[0m \u001b[0;34m=\u001b[0m \u001b[0;34m-\u001b[0m\u001b[0;34m(\u001b[0m\u001b[0meuler\u001b[0m\u001b[0;34m[\u001b[0m\u001b[0;36m0\u001b[0m\u001b[0;34m]\u001b[0m \u001b[0;34m+\u001b[0m \u001b[0;36m90\u001b[0m\u001b[0;34m)\u001b[0m \u001b[0;34m%\u001b[0m \u001b[0;36m360\u001b[0m\u001b[0;34m\u001b[0m\u001b[0;34m\u001b[0m\u001b[0m\n\u001b[1;32m    177\u001b[0m         \u001b[0meuler\u001b[0m\u001b[0;34m[\u001b[0m\u001b[0;36m1\u001b[0m\u001b[0;34m]\u001b[0m \u001b[0;34m=\u001b[0m \u001b[0meuler\u001b[0m\u001b[0;34m[\u001b[0m\u001b[0;36m1\u001b[0m\u001b[0;34m]\u001b[0m \u001b[0;34m-\u001b[0m \u001b[0;36m90\u001b[0m\u001b[0;34m\u001b[0m\u001b[0;34m\u001b[0m\u001b[0m\n",
      "\u001b[0;31mNameError\u001b[0m: name 'mat2euler' is not defined"
     ]
    }
   ],
   "source": [
    "img_num = 0\n",
    "rt_dir = os.path.join(linemod_dir,\n",
    "                                          obj_name,\n",
    "                                          'data')\n",
    "pose = read_pose(os.path.join(rt_dir, 'rot{}.rot'.format(img_num)),\n",
    "                                      os.path.join(rt_dir, 'tra{}.tra'.format(img_num)))\n",
    "print('pose =', pose)\n",
    "\n",
    "euler = pose_transformer.orig_pose_to_blender_euler(pose)\n",
    "print('euler =', )"
   ]
  },
  {
   "cell_type": "code",
   "execution_count": null,
   "metadata": {},
   "outputs": [],
   "source": []
  }
 ]
}