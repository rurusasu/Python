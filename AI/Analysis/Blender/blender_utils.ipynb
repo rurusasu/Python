{
 "metadata": {
  "language_info": {
   "codemirror_mode": {
    "name": "ipython",
    "version": 3
   },
   "file_extension": ".py",
   "mimetype": "text/x-python",
   "name": "python",
   "nbconvert_exporter": "python",
   "pygments_lexer": "ipython3",
   "version": "3.8.8"
  },
  "orig_nbformat": 2,
  "kernelspec": {
   "name": "python388jvsc74a57bd00eecd040b31a140d4c1a4abfb9821f369b6a9e45dafd8a2bb8398d6490c0b8f2",
   "display_name": "Python 3.8.8 64-bit ('base': conda)"
  },
  "metadata": {
   "interpreter": {
    "hash": "0eecd040b31a140d4c1a4abfb9821f369b6a9e45dafd8a2bb8398d6490c0b8f2"
   }
  }
 },
 "nbformat": 4,
 "nbformat_minor": 2,
 "cells": [
  {
   "source": [
    "# blender_utils"
   ],
   "cell_type": "markdown",
   "metadata": {}
  },
  {
   "source": [
    "参考: [zju3dv/pvnet-rendering](https://github.com/zju3dv/pvnet-rendering/blob/master/base_utils.py)"
   ],
   "cell_type": "markdown",
   "metadata": {}
  },
  {
   "cell_type": "code",
   "execution_count": 1,
   "metadata": {},
   "outputs": [],
   "source": [
    "import os\n",
    "import sys\n",
    "sys.path.append('..')\n",
    "sys.path.append('../../')\n",
    "\n",
    "import numpy as np\n",
    "\n",
    "from src.config.config import cfg\n",
    "from src.datasets.LineMod.LineModDB import LineModDB\n",
    "from src.utils.base_utils import read_ply_model"
   ]
  },
  {
   "cell_type": "code",
   "execution_count": 2,
   "metadata": {},
   "outputs": [],
   "source": [
    "from matplotlib import pyplot as plt\n",
    "%matplotlib inline"
   ]
  },
  {
   "source": [
    "## Setup"
   ],
   "cell_type": "markdown",
   "metadata": {}
  },
  {
   "cell_type": "code",
   "execution_count": 3,
   "metadata": {},
   "outputs": [],
   "source": [
    "pvnet_linemod_dir = cfg.PVNET_LINEMOD_DIR\n",
    "linemod_dir = cfg.LINEMOD_DIR\n",
    "obj_name = 'ape'"
   ]
  },
  {
   "source": [
    "## 1. ModelAligner Test"
   ],
   "cell_type": "markdown",
   "metadata": {}
  },
  {
   "cell_type": "code",
   "execution_count": 4,
   "metadata": {},
   "outputs": [],
   "source": [
    "from blender_utils import ModelAligner"
   ]
  },
  {
   "source": [
    "### インスタンス生成"
   ],
   "cell_type": "markdown",
   "metadata": {}
  },
  {
   "cell_type": "code",
   "execution_count": 5,
   "metadata": {},
   "outputs": [],
   "source": [
    "aligner = ModelAligner(obj_name=obj_name,\n",
    "                                                pvnet_linemod_dir=pvnet_linemod_dir,\n",
    "                                                linemod_dir=linemod_dir)"
   ]
  },
  {
   "source": [
    "### 1.1. get_translation_transform Test"
   ],
   "cell_type": "markdown",
   "metadata": {}
  },
  {
   "cell_type": "code",
   "execution_count": 6,
   "metadata": {},
   "outputs": [
    {
     "output_type": "stream",
     "name": "stdout",
     "text": [
      "translation_transform type\n<class 'numpy.ndarray'>\ntranslation_transform =\n[ 0.00642697  0.00273947 -0.0337945 ]\n"
     ]
    }
   ],
   "source": [
    "translation_transform = aligner.get_translation_transform()\n",
    "\n",
    "print('translation_transform type')\n",
    "print(type(translation_transform))\n",
    "print('translation_transform =')\n",
    "print(translation_transform)"
   ]
  },
  {
   "source": [
    "## 2. PoseTransformer"
   ],
   "cell_type": "markdown",
   "metadata": {}
  },
  {
   "cell_type": "code",
   "execution_count": 7,
   "metadata": {},
   "outputs": [],
   "source": [
    "from blender_utils import PoseTransformer"
   ]
  },
  {
   "source": [
    "### 2.1. インスタンス生成"
   ],
   "cell_type": "markdown",
   "metadata": {}
  },
  {
   "cell_type": "code",
   "execution_count": 8,
   "metadata": {},
   "outputs": [],
   "source": [
    "pose_transformer = PoseTransformer(obj_name,\n",
    "                                                                               pvnet_linemod_dir,\n",
    "                                                                               linemod_dir)"
   ]
  },
  {
   "source": [
    "### 2.2. orig_pose_to_blender_pose Test"
   ],
   "cell_type": "markdown",
   "metadata": {}
  },
  {
   "cell_type": "code",
   "execution_count": 9,
   "metadata": {},
   "outputs": [],
   "source": [
    "from src.datasets.LineMod.LineModDB import read_pose"
   ]
  },
  {
   "cell_type": "code",
   "execution_count": 10,
   "metadata": {},
   "outputs": [
    {
     "output_type": "stream",
     "name": "stdout",
     "text": [
      "pose = [[-0.0963063  0.994044  -0.0510079 -0.111814 ]\n [-0.573321  -0.0135081  0.81922   -0.0783622]\n [ 0.813651   0.10814    0.571207   1.03612  ]]\nRT = [[-0.0963063  -0.994044    0.0510079  -0.10798602]\n [-0.573321    0.0135081  -0.81922    -0.10976905]\n [ 0.813651   -0.10814    -0.571207    1.0223418 ]]\n"
     ]
    }
   ],
   "source": [
    "img_num = 0\n",
    "rt_dir = os.path.join(linemod_dir,\n",
    "                                          obj_name,\n",
    "                                          'data')\n",
    "pose = read_pose(os.path.join(rt_dir, 'rot{}.rot'.format(img_num)),\n",
    "                                      os.path.join(rt_dir, 'tra{}.tra'.format(img_num)))\n",
    "print('pose =', pose)\n",
    "\n",
    "RT = pose_transformer.orig_pose_to_blender_pose(pose).astype(np.float32)\n",
    "print('RT =', RT)\n",
    "#print(RT)"
   ]
  },
  {
   "source": [
    "## 2.3. orig_pose_to_blender_euler Test"
   ],
   "cell_type": "markdown",
   "metadata": {}
  },
  {
   "cell_type": "code",
   "execution_count": 12,
   "metadata": {},
   "outputs": [
    {
     "output_type": "stream",
     "name": "stdout",
     "text": [
      "pose = [[-0.0963063  0.994044  -0.0510079 -0.111814 ]\n [-0.573321  -0.0135081  0.81922   -0.0783622]\n [ 0.813651   0.10814    0.571207   1.03612  ]]\neuler = [172.42935241  34.83444354   3.56286401]\n"
     ]
    }
   ],
   "source": [
    "img_num = 0\n",
    "rt_dir = os.path.join(linemod_dir,\n",
    "                                          obj_name,\n",
    "                                          'data')\n",
    "pose = read_pose(os.path.join(rt_dir, 'rot{}.rot'.format(img_num)),\n",
    "                                      os.path.join(rt_dir, 'tra{}.tra'.format(img_num)))\n",
    "print('pose =', pose)\n",
    "\n",
    "euler = pose_transformer.orig_pose_to_blender_euler(pose)\n",
    "print('euler =', euler)"
   ]
  },
  {
   "cell_type": "code",
   "execution_count": null,
   "metadata": {},
   "outputs": [],
   "source": []
  }
 ]
}