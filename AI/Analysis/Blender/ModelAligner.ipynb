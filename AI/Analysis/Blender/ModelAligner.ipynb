{
 "metadata": {
  "language_info": {
   "codemirror_mode": {
    "name": "ipython",
    "version": 3
   },
   "file_extension": ".py",
   "mimetype": "text/x-python",
   "name": "python",
   "nbconvert_exporter": "python",
   "pygments_lexer": "ipython3",
   "version": "3.8.8"
  },
  "orig_nbformat": 2,
  "kernelspec": {
   "name": "python388jvsc74a57bd00eecd040b31a140d4c1a4abfb9821f369b6a9e45dafd8a2bb8398d6490c0b8f2",
   "display_name": "Python 3.8.8 64-bit ('base': conda)"
  },
  "metadata": {
   "interpreter": {
    "hash": "0eecd040b31a140d4c1a4abfb9821f369b6a9e45dafd8a2bb8398d6490c0b8f2"
   }
  }
 },
 "nbformat": 4,
 "nbformat_minor": 2,
 "cells": [
  {
   "source": [
    "# ModelAligner"
   ],
   "cell_type": "markdown",
   "metadata": {}
  },
  {
   "cell_type": "code",
   "execution_count": 18,
   "metadata": {},
   "outputs": [],
   "source": [
    "import os\n",
    "import sys\n",
    "sys.path.append('..')\n",
    "sys.path.append('../../')\n",
    "\n",
    "from src.config.config import cfg\n",
    "from src.datasets.LineMod.LineModDB import LineModDB\n",
    "from src.utils.base_utils import read_ply_model"
   ]
  },
  {
   "cell_type": "code",
   "execution_count": 19,
   "metadata": {},
   "outputs": [],
   "source": [
    "import numpy as np"
   ]
  },
  {
   "cell_type": "code",
   "execution_count": 20,
   "metadata": {},
   "outputs": [],
   "source": [
    "class ModelAligner(object):\n",
    "    \"\"\"\n",
    "    オブジェクトの姿勢をオリジナルの LineMod のものと Blender 上のものに変換するクラス\n",
    "    \"\"\"\n",
    "    rotation_transform = np.array([[1., 0., 0.],\n",
    "                                   [0., -1., 0.],\n",
    "                                   [0., 0., -1.]])\n",
    "    translation_transforms = {\n",
    "        # 'cat': np.array([-0.00577495, -0.01259045, -0.04062323])\n",
    "    }\n",
    "    intrinsic_matrix = {\n",
    "        'linemod': np.array([[572.4114, 0., 325.2611],\n",
    "                              [0., 573.57043, 242.04899],\n",
    "                              [0., 0., 1.]]),\n",
    "        # 'blender': np.array([[280.0, 0.0, 128.0],\n",
    "        #                      [0.0, 280.0, 128.0],\n",
    "        #                      [0.0, 0.0, 1.0]]),\n",
    "        'blender': np.array([[700.,    0.,  320.],\n",
    "                             [0.,  700.,  240.],\n",
    "                             [0.,    0.,    1.]])\n",
    "    }\n",
    "\n",
    "    def __init__(self,\n",
    "                              obj_name: str,\n",
    "                              pvnet_linemod_dir: str,\n",
    "                              linemod_dir: str):\n",
    "        \"\"\"\n",
    "        ModelAligner の初期化関数\n",
    "\n",
    "        Args:\n",
    "            obj_name(str): LineMod データセットに含まれるオブジェクト名\n",
    "            pvnet_linemod_dir(str): PVNet_LineMod データセットのディレクトリパス\n",
    "            linemod_dir(str): LineMod データセットのディレクトリパス\n",
    "        \"\"\"\n",
    "        self.obj_name = obj_name\n",
    "        self.linemod_dir = linemod_dir\n",
    "        self.LineModDB = LineModDB(linemod_dir = self.linemod_dir,\n",
    "                                                                       obj_name=self.obj_name)\n",
    "        self.blender_model_path = os.path.join(pvnet_linemod_dir,\n",
    "                                                                                           '{}/{}.ply'.format(obj_name, obj_name))\n",
    "        self.R_p2w, self.t_p2w, self.s_p2w = self.setup_p2w_transform()\n",
    "\n",
    "    @staticmethod\n",
    "    def setup_p2w_transform():\n",
    "        transform1 = np.array([[0.161513626575, -0.827108919621, 0.538334608078, -0.245206743479],\n",
    "                                                        [-0.986692547798, -0.124983474612, 0.104004733264, -0.050683632493],\n",
    "                                                        [-0.018740313128, -0.547968924046, -0.836288750172, 0.387638419867]])\n",
    "        transform2 = np.array([[0.976471602917, 0.201606079936, -0.076541729271, -0.000718327821],\n",
    "                                                        [-0.196746662259, 0.978194475174, 0.066531419754, 0.000077120210],\n",
    "                                                        [0.088285841048, -0.049906700850, 0.994844079018, -0.001409600372]])\n",
    "\n",
    "        R1 = transform1[:, :3]\n",
    "        t1 = transform1[:, 3]\n",
    "        R2 = transform2[:, :3]\n",
    "        t2 = transform2[:, 3]\n",
    "\n",
    "        # printer system to world system\n",
    "        t_p2w = np.dot(R2, t1) + t2\n",
    "        R_p2w = np.dot(R2, R1)\n",
    "        s_p2w = 0.85\n",
    "        return R_p2w, t_p2w, s_p2w\n",
    "\n",
    "    def pose_p2w(self, RT):\n",
    "        \"\"\"\n",
    "        ある姿勢行列を別の姿勢行列に変換する関数\n",
    "\n",
    "        Arg:\n",
    "            RT(np.matrix): 変換前の姿勢行列\n",
    "        \n",
    "        Return:\n",
    "            (np.matrix): 変換後の姿勢行列\n",
    "        \"\"\"\n",
    "        t,R = RT[:,3],RT[:,:3]\n",
    "        R_w2c = np.dot(R, self.R_p2w.T)\n",
    "        t_w2c = -np.dot(R_w2c,self.t_p2w)+self.s_p2w*t\n",
    "        return np.concatenate([R_w2c, t_w2c[:,None]],1)\n",
    "\n",
    "    def get_translation_transform(self) -> np.ndarray:\n",
    "        \"\"\"\n",
    "        Blender 上で作成したオブジェクトの3Dモデルとオリジナルの LineMod オブジェクトの3Dモデルを読み出し，この2つのオブジェクトの相対的並進配列を返す関数\n",
    "\n",
    "        Return:\n",
    "            (np.ndarray): 2つのオブジェクトの相対的並進配列\n",
    "        \"\"\"\n",
    "        if self.obj_name in self.translation_transforms:\n",
    "            return self.translation_transforms[self.obj_name]\n",
    "\n",
    "        blender_model = read_ply_model(self.blender_model_path)\n",
    "        orig_model = self.LineModDB.load_ply_model()\n",
    "        blender_model = np.dot(blender_model, self.rotation_transform.T)\n",
    "        translation_transform = np.mean(orig_model, axis=0) - np.mean(blender_model, axis=0)\n",
    "        self.translation_transforms[self.obj_name] = translation_transform\n",
    "\n",
    "        return translation_transform"
   ]
  },
  {
   "source": [
    "## Setup"
   ],
   "cell_type": "markdown",
   "metadata": {}
  },
  {
   "cell_type": "code",
   "execution_count": 21,
   "metadata": {},
   "outputs": [],
   "source": [
    "pvnet_linemod_dir = cfg.PVNET_LINEMOD_DIR\n",
    "linemod_dir = cfg.LINEMOD_DIR\n",
    "obj_name = 'ape'"
   ]
  },
  {
   "source": [
    "## インスタンス生成"
   ],
   "cell_type": "markdown",
   "metadata": {}
  },
  {
   "cell_type": "code",
   "execution_count": 22,
   "metadata": {},
   "outputs": [],
   "source": [
    "aligner = ModelAligner(obj_name=obj_name,\n",
    "                                                pvnet_linemod_dir=pvnet_linemod_dir,\n",
    "                                                linemod_dir=linemod_dir)"
   ]
  },
  {
   "source": [
    "## get_translation_transform Test"
   ],
   "cell_type": "markdown",
   "metadata": {}
  },
  {
   "cell_type": "code",
   "execution_count": 23,
   "metadata": {},
   "outputs": [
    {
     "output_type": "stream",
     "name": "stdout",
     "text": [
      "translation_transform type\n<class 'numpy.ndarray'>\ntranslation_transform =\n[ 0.00642697  0.00273947 -0.0337945 ]\n"
     ]
    }
   ],
   "source": [
    "translation_transform = aligner.get_translation_transform()\n",
    "\n",
    "print('translation_transform type')\n",
    "print(type(translation_transform))\n",
    "print('translation_transform =')\n",
    "print(translation_transform)"
   ]
  }
 ]
}