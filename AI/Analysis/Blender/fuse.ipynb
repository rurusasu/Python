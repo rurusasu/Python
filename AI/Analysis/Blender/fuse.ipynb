{
 "metadata": {
  "language_info": {
   "codemirror_mode": {
    "name": "ipython",
    "version": 3
   },
   "file_extension": ".py",
   "mimetype": "text/x-python",
   "name": "python",
   "nbconvert_exporter": "python",
   "pygments_lexer": "ipython3",
   "version": "3.8.8"
  },
  "orig_nbformat": 2,
  "kernelspec": {
   "name": "python388jvsc74a57bd00eecd040b31a140d4c1a4abfb9821f369b6a9e45dafd8a2bb8398d6490c0b8f2",
   "display_name": "Python 3.8.8 64-bit ('base': conda)"
  },
  "metadata": {
   "interpreter": {
    "hash": "0eecd040b31a140d4c1a4abfb9821f369b6a9e45dafd8a2bb8398d6490c0b8f2"
   }
  }
 },
 "nbformat": 4,
 "nbformat_minor": 2,
 "cells": [
  {
   "source": [
    "# fuser"
   ],
   "cell_type": "markdown",
   "metadata": {}
  },
  {
   "cell_type": "code",
   "execution_count": 12,
   "metadata": {},
   "outputs": [],
   "source": [
    "import os\n",
    "import sys\n",
    "sys.path.append('.')\n",
    "sys.path.append('..')\n",
    "sys.path.append('../../')\n",
    "from concurrent.futures import ProcessPoolExecutor\n",
    "\n",
    "import numpy as np\n",
    "\n",
    "from src.config.config import cfg"
   ]
  },
  {
   "source": [
    "## Setup"
   ],
   "cell_type": "markdown",
   "metadata": {}
  },
  {
   "cell_type": "code",
   "execution_count": null,
   "metadata": {},
   "outputs": [],
   "source": [
    "from src.utils.utils import MakeDir\n",
    "\n",
    "tmp_dir = MakeDir(cfg.TEMP_DIR, newly=True)\n",
    "#output_dir = tmp_dir\n",
    "pvnet_linemod_dir = cfg.PVNET_LINEMOD_DIR\n",
    "linemod_dir = cfg.LINEMOD_DIR\n",
    "obj_name = 'ape'\n",
    "# background_dir='/home/liuyuan/data/SUN2012pascalformat/JPEGImages'\n",
    "#background_dir = cfg.TEST_IMG_ORG_DIR\n",
    "\n",
    "#fuse_num=10000\n",
    "#worker_num=2\n",
    "#prepare_dataset_parallel(output_dir, pvnet_linemod_dir, linemod_dir, fuse_num, background_dir, cache_dir, worker_num)"
   ]
  },
  {
   "source": [
    "## __collect_train_val_test_info Test"
   ],
   "cell_type": "markdown",
   "metadata": {}
  },
  {
   "cell_type": "code",
   "execution_count": 13,
   "metadata": {},
   "outputs": [],
   "source": [
    "def __collect_train_val_test_info(pvnet_linemod_dir: str,\n",
    "                                                                      obj_name: str) -> list:\n",
    "    \"\"\"\n",
    "    PVNet LineMod データセットのカテゴリごとに保存されている training.txt と test.txt ファイルから訓練とテストとして使用するファイル名のリストを返す関数\n",
    "\n",
    "    Args:\n",
    "        pvnet_linemod_dir(str): PVNet_LineMod ディレクトリパス\n",
    "        obj_name(str): LineMod データセットに含まれるオブジェクト名\n",
    "\n",
    "    Return:\n",
    "        test_fns(list): テストデータとして使用される画像のファイル名\n",
    "        train_fns(list): 訓練データとして使用される画像のフィアル名\n",
    "    \"\"\"\n",
    "    with open(os.path.join(pvnet_linemod_dir, obj_name, 'test.txt'), 'r') as f:\n",
    "        test_fns = [line.strip().split('/')[-1] for line in f.readlines()]\n",
    "\n",
    "    with open(os.path.join(pvnet_linemod_dir, obj_name, 'train.txt'), 'r') as f:\n",
    "        train_fns=[line.strip().split('/')[-1] for line in f.readlines()]\n",
    "\n",
    "    return test_fns, train_fns"
   ]
  },
  {
   "cell_type": "code",
   "execution_count": 29,
   "metadata": {},
   "outputs": [
    {
     "output_type": "stream",
     "name": "stdout",
     "text": [
      "fns =\n000000.jpg\n"
     ]
    }
   ],
   "source": [
    "fns = __collect_train_val_test_info(pvnet_linemod_dir=pvnet_linemod_dir,\n",
    "                                                                        obj_name=obj_name)\n",
    "\n",
    "print('fns =')\n",
    "print(fns[0][0])"
   ]
  },
  {
   "source": [
    "## ModelAligner をロード"
   ],
   "cell_type": "markdown",
   "metadata": {}
  },
  {
   "cell_type": "code",
   "execution_count": 14,
   "metadata": {},
   "outputs": [],
   "source": [
    "from Blender.ModelAligner import ModelAligner"
   ]
  },
  {
   "source": [
    "## PoseTransformer"
   ],
   "cell_type": "markdown",
   "metadata": {}
  },
  {
   "cell_type": "code",
   "execution_count": 15,
   "metadata": {},
   "outputs": [],
   "source": [
    "class PoseTransformer(object):\n",
    "    rotation_transform = np.array([[1., 0., 0.],\n",
    "                                                                     [0., -1., 0.],\n",
    "                                                                     [0., 0., -1.]])\n",
    "    translation_transforms = {}\n",
    "    obj_name_to_number = {\n",
    "        'ape': '001',\n",
    "        'can': '004',\n",
    "        'cat': '005',\n",
    "        'driller': '006',\n",
    "        'duck': '007',\n",
    "        'eggbox': '008',\n",
    "        'glue': '009',\n",
    "        'holepuncher': '010'\n",
    "    }\n",
    "    blender_models={}\n",
    "\n",
    "    def __init__(self,\n",
    "                              obj_name: str,\n",
    "                              pvnet_linemod_dir: str,\n",
    "                              linemod_dir: str):\n",
    "        \"\"\"\n",
    "        PoseTransformer の初期化関数\n",
    "\n",
    "        Args:\n",
    "            obj_name(str): LineMod データセットに含まれるオブジェクト名\n",
    "            pvnet_linemod_dir(str): PVNet_LineMod データセットのディレクトリパス\n",
    "            linemod_dir(str): LineMod データセットのディレクトリパス\n",
    "        \"\"\"\n",
    "        self.obj_name = obj_name\n",
    "        self.blender_model_path = os.path.join(pvnet_linemod_dir,\n",
    "                                                                                           '{}/{}.ply'.format(obj_name, obj_name))\n",
    "        self.orig_model_path = os.path.join(linemod_dir, \n",
    "                                                                                   '{}/mesh.ply'.format(obj_name))\n",
    "        self.model_aligner = ModelAligner(obj_name,\n",
    "                                                                                pvnet_linemod_dir,\n",
    "                                                                                linemod_dir)\n",
    "\n",
    "    def orig_pose_to_blender_pose(self, pose: np.matrix) -> np.matrix:\n",
    "        \"\"\"\n",
    "        オリジナルの LineMod データセットのオブジェクトの姿勢から Blender 上 でのオブジェクトの姿勢に変換するための関数\n",
    "\n",
    "        Arg:\n",
    "            pose(np.matrix): オリジナルの LineMod データセットのオブジェクトの姿勢情報([R|t] 行列)\n",
    "\n",
    "        Return:\n",
    "            (np.matrix): Blender 上 でのオブジェクトの姿勢情報([R|t] 行列)\n",
    "        \"\"\"\n",
    "        rot, tra = pose[:, :3], pose[:, 3]\n",
    "        tra = tra + np.dot(rot, self.model_aligner.get_translation_transform())\n",
    "        rot = np.dot(rot, self.rotation_transform)\n",
    "        return np.concatenate([rot, np.reshape(tra, newshape=[3, 1])], axis=-1)"
   ]
  },
  {
   "cell_type": "code",
   "execution_count": 33,
   "metadata": {},
   "outputs": [
    {
     "output_type": "stream",
     "name": "stdout",
     "text": [
      "pose =\n[[-0.0963063  0.994044  -0.0510079 -0.111814 ]\n [-0.573321  -0.0135081  0.81922   -0.0783622]\n [ 0.813651   0.10814    0.571207   1.03612  ]]\n"
     ]
    }
   ],
   "source": [
    "img_num = 0\n",
    "\n",
    "rt_dir = os.path.join(linemod_dir,\n",
    "                                          obj_name,\n",
    "                                          'data')\n",
    "\n",
    "pose = read_pose(os.path.join(rt_dir, 'rot{}.rot'.format(img_num)),\n",
    "                                      os.path.join(rt_dir, 'tra{}.tra'.format(img_num)))\n",
    "print('pose =')\n",
    "print(pose)"
   ]
  },
  {
   "cell_type": "code",
   "execution_count": 36,
   "metadata": {},
   "outputs": [
    {
     "output_type": "stream",
     "name": "stdout",
     "text": [
      "RT =\n[[-0.0963063  -0.994044    0.0510079  -0.10798602]\n [-0.573321    0.0135081  -0.81922    -0.10976905]\n [ 0.813651   -0.10814    -0.571207    1.0223418 ]]\n"
     ]
    }
   ],
   "source": [
    "pose_transformer = PoseTransformer(obj_name,\n",
    "                                                                               pvnet_linemod_dir,\n",
    "                                                                               linemod_dir)\n",
    "RT = pose_transformer.orig_pose_to_blender_pose(pose).astype(np.float32)\n",
    "print('RT =')\n",
    "print(RT)"
   ]
  },
  {
   "source": [
    "## _collect_linemod_set_info Test"
   ],
   "cell_type": "markdown",
   "metadata": {}
  },
  {
   "cell_type": "code",
   "execution_count": 16,
   "metadata": {},
   "outputs": [],
   "source": [
    "from src.datasets.LineMod.LineModDB import read_pose"
   ]
  },
  {
   "cell_type": "code",
   "execution_count": 17,
   "metadata": {},
   "outputs": [],
   "source": [
    "def _collect_linemod_set_info(pvnet_linemod_dir: str,\n",
    "                                                                 obj_name: str,\n",
    "                                                                 linemod_dir: str,\n",
    "                                                                 cache_dir: str = './') -> list:\n",
    "        \"\"\"\n",
    "        PVNet LineMod データセット と LineMod データセットの各オブジェクトについて以下の情報を読み出し，'_info.pkl' として保存する関数\n",
    "\n",
    "        * rgb_pth: JPEG 画像のパス\n",
    "        * dpt_pth: JPEG 画像に対応する Mask 画像のパス\n",
    "        * RT: 対象オブジェクトの姿勢情報\n",
    "\n",
    "        Args:\n",
    "            pvnet_linemod_dir (str): PVNet_LineMod データセットのディレクトリパス\n",
    "            obj_name (str): LineMod データセットに含まれるオブジェクト名\n",
    "            linemod_dir (str): LineMod データセットのディレクトリパス\n",
    "            cache_dir (str, optional): オブジェクトごとに作成される _info.pkl データの保存先のパス. Defaults to './'.\n",
    "\n",
    "        Returns:\n",
    "            database(list): カテゴリごとに上記の情報が保存された辞書のリスト\n",
    "        \"\"\"\n",
    "        database=[]\n",
    "        if os.path.exists(os.path.join(cache_dir,'{}_info.pkl').format(obj_name)):\n",
    "            return read_pickle(os.path.join(cache_dir,'{}_info.pkl').format(obj_name))\n",
    "\n",
    "        _, train_fns = __collect_train_val_test_info(pvnet_linemod_dir, obj_name)\n",
    "        print('begin generate database {}'.format(obj_name))\n",
    "        # PVNet LineMod データセットから情報を取得\n",
    "        # 画像\n",
    "        rgb_dir = os.path.join(pvnet_linemod_dir,\n",
    "                                                      obj_name,\n",
    "                                                      'JPEGImages')\n",
    "        # マスク画像\n",
    "        msk_dir = os.path.join(pvnet_linemod_dir,\n",
    "                                                        obj_name,\n",
    "                                                        'mask')\n",
    "        # 姿勢\n",
    "        rt_dir = os.path.join(linemod_dir,\n",
    "                                                  obj_name,\n",
    "                                                  'data')\n",
    "        img_num = len(os.listdir(rgb_dir))\n",
    "        for k in range(img_num):\n",
    "            data = {}\n",
    "            data['rgb_pth'] = os.path.join(rgb_dir, '{:06}.jpg'.format(k))\n",
    "            data['dpt_pth'] = os.path.join(msk_dir, '{:04}.png'.format(k))\n",
    "            if data['rgb_pth'].split('/')[-1] not in train_fns: continue # 訓練で使用するファイル名に含まれていなければ、次のファイルへ\n",
    "\n",
    "            pose = read_pose(os.path.join(rt_dir, 'rot{}.rot'.format(k)),\n",
    "                                                  os.path.join(rt_dir, 'tra{}.tra'.format(k)))\n",
    "            pose_transformer = PoseTransformer(obj_name,\n",
    "                                                                                           pvnet_linemod_dir,\n",
    "                                                                                           linemod_dir)\n",
    "            data['RT'] = pose_transformer.orig_pose_to_blender_pose(pose).astype(np.float32)\n",
    "            database.append(data)\n",
    "\n",
    "        print('success generate database {} len {}'.format(obj_name, len(database)))\n",
    "        save_pickle(database, os.path.join(cache_dir,'{}_info.pkl').format(obj_name))\n",
    "        return database"
   ]
  },
  {
   "cell_type": "code",
   "execution_count": 20,
   "metadata": {},
   "outputs": [
    {
     "output_type": "stream",
     "name": "stdout",
     "text": [
      "begin generate database ape\n",
      "success generate database ape len 186\n"
     ]
    },
    {
     "output_type": "error",
     "ename": "NameError",
     "evalue": "name 'save_pickle' is not defined",
     "traceback": [
      "\u001b[0;31m---------------------------------------------------------------------------\u001b[0m",
      "\u001b[0;31mNameError\u001b[0m                                 Traceback (most recent call last)",
      "\u001b[0;32m<ipython-input-20-657f7eb49c84>\u001b[0m in \u001b[0;36m<module>\u001b[0;34m\u001b[0m\n\u001b[1;32m      1\u001b[0m \u001b[0mcache_dir\u001b[0m\u001b[0;34m=\u001b[0m \u001b[0mtmp_dir\u001b[0m\u001b[0;34m\u001b[0m\u001b[0;34m\u001b[0m\u001b[0m\n\u001b[1;32m      2\u001b[0m \u001b[0;34m\u001b[0m\u001b[0m\n\u001b[0;32m----> 3\u001b[0;31m data_base = _collect_linemod_set_info(pvnet_linemod_dir ,\n\u001b[0m\u001b[1;32m      4\u001b[0m                                                                                    \u001b[0mobj_name\u001b[0m\u001b[0;34m,\u001b[0m\u001b[0;34m\u001b[0m\u001b[0;34m\u001b[0m\u001b[0m\n\u001b[1;32m      5\u001b[0m                                                                                    \u001b[0mlinemod_dir\u001b[0m\u001b[0;34m,\u001b[0m\u001b[0;34m\u001b[0m\u001b[0;34m\u001b[0m\u001b[0m\n",
      "\u001b[0;32m<ipython-input-17-b36cd3605e3b>\u001b[0m in \u001b[0;36m_collect_linemod_set_info\u001b[0;34m(pvnet_linemod_dir, obj_name, linemod_dir, cache_dir)\u001b[0m\n\u001b[1;32m     54\u001b[0m \u001b[0;34m\u001b[0m\u001b[0m\n\u001b[1;32m     55\u001b[0m         \u001b[0mprint\u001b[0m\u001b[0;34m(\u001b[0m\u001b[0;34m'success generate database {} len {}'\u001b[0m\u001b[0;34m.\u001b[0m\u001b[0mformat\u001b[0m\u001b[0;34m(\u001b[0m\u001b[0mobj_name\u001b[0m\u001b[0;34m,\u001b[0m \u001b[0mlen\u001b[0m\u001b[0;34m(\u001b[0m\u001b[0mdatabase\u001b[0m\u001b[0;34m)\u001b[0m\u001b[0;34m)\u001b[0m\u001b[0;34m)\u001b[0m\u001b[0;34m\u001b[0m\u001b[0;34m\u001b[0m\u001b[0m\n\u001b[0;32m---> 56\u001b[0;31m         \u001b[0msave_pickle\u001b[0m\u001b[0;34m(\u001b[0m\u001b[0mdatabase\u001b[0m\u001b[0;34m,\u001b[0m \u001b[0mos\u001b[0m\u001b[0;34m.\u001b[0m\u001b[0mpath\u001b[0m\u001b[0;34m.\u001b[0m\u001b[0mjoin\u001b[0m\u001b[0;34m(\u001b[0m\u001b[0mcache_dir\u001b[0m\u001b[0;34m,\u001b[0m\u001b[0;34m'{}_info.pkl'\u001b[0m\u001b[0;34m)\u001b[0m\u001b[0;34m.\u001b[0m\u001b[0mformat\u001b[0m\u001b[0;34m(\u001b[0m\u001b[0mobj_name\u001b[0m\u001b[0;34m)\u001b[0m\u001b[0;34m)\u001b[0m\u001b[0;34m\u001b[0m\u001b[0;34m\u001b[0m\u001b[0m\n\u001b[0m\u001b[1;32m     57\u001b[0m         \u001b[0;32mreturn\u001b[0m \u001b[0mdatabase\u001b[0m\u001b[0;34m\u001b[0m\u001b[0;34m\u001b[0m\u001b[0m\n",
      "\u001b[0;31mNameError\u001b[0m: name 'save_pickle' is not defined"
     ]
    }
   ],
   "source": [
    "cache_dir= tmp_dir\n",
    "\n",
    "data_base = _collect_linemod_set_info(pvnet_linemod_dir ,\n",
    "                                                                                   obj_name,\n",
    "                                                                                   linemod_dir,\n",
    "                                                                                   cache_dir)"
   ]
  },
  {
   "source": [
    "## fuser function"
   ],
   "cell_type": "markdown",
   "metadata": {}
  },
  {
   "cell_type": "code",
   "execution_count": 18,
   "metadata": {},
   "outputs": [],
   "source": [
    "def prepare_dataset_parallel(output_dir: str,\n",
    "                                                              pvnet_linemod_dir: str,\n",
    "                                                              linemod_dir: str,\n",
    "                                                              fuse_num: int,\n",
    "                                                              background_dir,\n",
    "                                                              cache_dir,\n",
    "                                                              worker_num=8):\n",
    "    \"\"\"\n",
    "    データセットの準備を並列して行う関数\n",
    "\n",
    "    Args:\n",
    "        output_dir (str): [description]\n",
    "        pvnet_linemod_dir (str): PVNet で作成された LINEMODデータセットが保存されているディレクトリパス\n",
    "        linemod_dir (str): オリジナルのLINEMODデータセットが保存されているディレクトリパス\n",
    "        fuse_num (int): [description]\n",
    "        background_dir ([type]): [description]\n",
    "        cache_dir ([type]): キャッシュを保存するディレクトリパス\n",
    "        worker_num (int, optional): [description]. Defaults to 8.\n",
    "    \"\"\"\n",
    "    exector=ProcessPoolExecutor(max_workers=worker_num)\n",
    "    futures=[]\n",
    "\n",
    "    for cls_name in linemod_cls_names:\n",
    "        collect_linemod_set_info(pvnet_linemod_dir,\n",
    "                                                              cls_name,\n",
    "                                                              linemod_dir,\n",
    "                                                              cache_dir)\n",
    "    randomly_read_background(background_dir, cache_dir)\n",
    "\n",
    "    for idx in np.arange(fuse_num):\n",
    "        seed=np.random.randint(5000)\n",
    "        futures.append(exector.submit(\n",
    "                                            prepare_dataset_single,\n",
    "                                            output_dir,\n",
    "                                            idx,\n",
    "                                            linemod_cls_names,\n",
    "                                            pvnet_linemod_dir,\n",
    "                                            linemod_dir,\n",
    "                                            background_dir,\n",
    "                                            cache_dir,\n",
    "                                            seed))\n",
    "\n",
    "    for f in futures:\n",
    "        f.result()"
   ]
  },
  {
   "source": [
    "## Setup"
   ],
   "cell_type": "markdown",
   "metadata": {}
  },
  {
   "cell_type": "code",
   "execution_count": 19,
   "metadata": {},
   "outputs": [],
   "source": []
  },
  {
   "cell_type": "code",
   "execution_count": null,
   "metadata": {},
   "outputs": [],
   "source": []
  }
 ]
}