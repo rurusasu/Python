{
 "metadata": {
  "language_info": {
   "codemirror_mode": {
    "name": "ipython",
    "version": 3
   },
   "file_extension": ".py",
   "mimetype": "text/x-python",
   "name": "python",
   "nbconvert_exporter": "python",
   "pygments_lexer": "ipython3",
   "version": "3.8.8"
  },
  "orig_nbformat": 2,
  "kernelspec": {
   "name": "python388jvsc74a57bd00eecd040b31a140d4c1a4abfb9821f369b6a9e45dafd8a2bb8398d6490c0b8f2",
   "display_name": "Python 3.8.8 64-bit ('base': conda)"
  }
 },
 "nbformat": 4,
 "nbformat_minor": 2,
 "cells": [
  {
   "source": [
    "# DataStatistics"
   ],
   "cell_type": "markdown",
   "metadata": {}
  },
  {
   "cell_type": "code",
   "execution_count": 23,
   "metadata": {},
   "outputs": [],
   "source": [
    "import sys\n",
    "sys.path.append('.')\n",
    "sys.path.append('..')\n",
    "from glob import glob\n",
    "\n",
    "import numpy as np\n",
    "from PIL import Image\n",
    "\n",
    "from blender_utils import PoseTransformer\n",
    "from src.config.config import cfg\n",
    "from src.datasets.LineMod.LineModDB import read_pose"
   ]
  },
  {
   "source": [
    "## Setup"
   ],
   "cell_type": "markdown",
   "metadata": {}
  },
  {
   "cell_type": "code",
   "execution_count": 24,
   "metadata": {},
   "outputs": [],
   "source": [
    "linemod_dir = cfg.LINEMOD_DIR\n",
    "pvnet_linemod_dir = cfg.PVNET_LINEMOD_DIR\n",
    "object_name = 'ape'"
   ]
  },
  {
   "cell_type": "code",
   "execution_count": 25,
   "metadata": {},
   "outputs": [],
   "source": [
    "class DataStatistics(object):\n",
    "    # world_to_camera_pose = np.array([[-1.19209304e-07,   1.00000000e+00,  -2.98023188e-08, 1.19209304e-07],\n",
    "    #                                  [-8.94069672e-08,   2.22044605e-16,  -1.00000000e+00, 8.94069672e-08],\n",
    "    #                                  [-1.00000000e+00,  -8.94069672e-08,   1.19209304e-07, 1.00000000e+00]])\n",
    "    world_to_camera_pose = np.array(\n",
    "        [[-1.00000024e+00,  -8.74227979e-08,  -5.02429621e-15, 8.74227979e-08],\n",
    "        [5.02429621e-15,   1.34358856e-07,  -1.00000012e+00, -1.34358856e-07],\n",
    "        [8.74227979e-08,  -1.00000012e+00,   1.34358856e-07, 1.00000012e+00]])\n",
    "\n",
    "    def __init__(self,\n",
    "                              linemod_dir: str,\n",
    "                              pvnet_linemod_dir: str,\n",
    "                              object_name):\n",
    "        self.obj_name = object_name\n",
    "        self.linemod_dir = cfg.LINEMOD_DIR\n",
    "        self.pvnet_linemod_dir = cfg.PVNET_LINEMOD_DIR\n",
    "        self.parent_dir_path = cfg.DATA_DIR\n",
    "\n",
    "        self.mask_path = os.path.join(self.pvnet_linemod_dir,'{}/mask/*.png'.format(object_name))\n",
    "        self.dir_path = os.path.join(self.linemod_dir,'{}/data'.format(object_name))\n",
    "\n",
    "        dataset_pose_dir_path = os.path.join(self.parent_dir_path, 'dataset_poses')\n",
    "        os.system('mkdir -p {}'.format(dataset_pose_dir_path))\n",
    "        self.dataset_poses_path = os.path.join(dataset_pose_dir_path, '{}_poses.npy'.format(object_name))\n",
    "        blender_pose_dir_path = os.path.join(self.parent_dir_path, 'blender_poses')\n",
    "        os.system('mkdir -p {}'.format(blender_pose_dir_path))\n",
    "        self.blender_poses_path = os.path.join(blender_pose_dir_path, '{}_poses.npy'.format(object_name))\n",
    "        os.system('mkdir -p {}'.format(blender_pose_dir_path))\n",
    "\n",
    "        self.pose_transformer = PoseTransformer(self.obj_name,\n",
    "                                                                                               self.pvnet_linemod_dir,\n",
    "                                                                                               self.linemod_dir)\n",
    "\n",
    "    def get_proper_crop_size(self):\n",
    "        \"\"\"\n",
    "        mask path のディレクトリ内に存在するすべての .png 画像の大きさを求め，その中で 最大の幅と高さ および 最小の幅と高さ を返す関数\n",
    "        \"\"\"\n",
    "        mask_paths = glob(self.mask_path)\n",
    "        widths = []\n",
    "        heights = []\n",
    "\n",
    "        for mask_path in mask_paths:\n",
    "            mask = Image.open(mask_path).convert('1')\n",
    "            mask = np.array(mask).astype(np.int32)\n",
    "            row_col = np.argwhere(mask == 1)\n",
    "            min_row, max_row = np.min(row_col[:, 0]), np.max(row_col[:, 0])\n",
    "            min_col, max_col = np.min(row_col[:, 1]), np.max(row_col[:, 1])\n",
    "            width = max_col - min_col\n",
    "            height = max_row - min_row\n",
    "            widths.append(width)\n",
    "            heights.append(height)\n",
    "\n",
    "        widths = np.array(widths)\n",
    "        heights = np.array(heights)\n",
    "        print('min width: {}, max width: {}'.format(np.min(widths), np.max(widths)))\n",
    "        print('min height: {}, max height: {}'.format(np.min(heights), np.max(heights)))\n",
    "\n",
    "    def get_quat_translation(self, object_to_camera_pose):\n",
    "\n",
    "        object_to_camera_pose = np.append(object_to_camera_pose, [[0, 0, 0, 1]], axis=0)\n",
    "        world_to_camera_pose = np.append(self.world_to_camera_pose, [[0, 0, 0, 1]], axis=0)\n",
    "        object_to_world_pose = np.dot(np.linalg.inv(world_to_camera_pose), object_to_camera_pose)\n",
    "        quat = mat2quat(object_to_world_pose[:3, :3])\n",
    "        translation = object_to_world_pose[:3, 3]\n",
    "        return quat, translation\n",
    "\n",
    "    def get_dataset_poses(self):\n",
    "        if os.path.exists(self.dataset_poses_path):\n",
    "            poses = np.load(self.dataset_poses_path)\n",
    "            return poses[:, :3], poses[:, 3:]\n",
    "\n",
    "        eulers = []\n",
    "        translations = []\n",
    "        train_set = np.loadtxt(os.path.join(self.pvnet_linemod_dir, '{}/training_range.txt'.format(self.obj_name)),np.int32)\n",
    "        for idx in train_set:\n",
    "            rot_path = os.path.join(self.dir_path, 'rot{}.rot'.format(idx))\n",
    "            tra_path = os.path.join(self.dir_path, 'tra{}.tra'.format(idx))\n",
    "            pose = read_pose(rot_path, tra_path)\n",
    "            euler = self.pose_transformer.orig_pose_to_blender_euler(pose)\n",
    "            eulers.append(euler)\n",
    "            translations.append(pose[:, 3])\n",
    "\n",
    "        eulers = np.array(eulers)\n",
    "        translations = np.array(translations)\n",
    "        np.save(self.dataset_poses_path, np.concatenate([eulers, translations], axis=-1))\n",
    "\n",
    "        return eulers, translations\n",
    "\n",
    "    def sample_sphere(self, num_samples):\n",
    "        \"\"\" sample angles from the sphere\n",
    "        reference: https://zhuanlan.zhihu.com/p/25988652?group_id=828963677192491008\n",
    "        \"\"\"\n",
    "        flat_objects = ['037_scissors', '051_large_clamp', '052_extra_large_clamp']\n",
    "        if self.object_name in flat_objects:\n",
    "            begin_elevation = 30\n",
    "        else:\n",
    "            begin_elevation = 0\n",
    "        ratio = (begin_elevation + 90) / 180\n",
    "        num_points = int(num_samples // (1 - ratio))\n",
    "        phi = (np.sqrt(5) - 1.0) / 2.\n",
    "        azimuths = []\n",
    "        elevations = []\n",
    "        for n in range(num_points - num_samples, num_points):\n",
    "            z = 2. * n / num_points - 1.\n",
    "            azimuths.append(np.rad2deg(2 * np.pi * n * phi % (2 * np.pi)))\n",
    "            elevations.append(np.rad2deg(np.arcsin(z)))\n",
    "        return np.array(azimuths), np.array(elevations)\n",
    "\n",
    "    def sample_poses(self):\n",
    "        eulers, translations = self.get_dataset_poses()\n",
    "        num_samples = cfg.NUM_SYN\n",
    "        azimuths, elevations = self.sample_sphere(num_samples)\n",
    "        euler_sampler = stats.gaussian_kde(eulers.T)\n",
    "        eulers = euler_sampler.resample(num_samples).T\n",
    "        eulers[:, 0] = azimuths\n",
    "        eulers[:, 1] = elevations\n",
    "        translation_sampler = stats.gaussian_kde(translations.T)\n",
    "        translations = translation_sampler.resample(num_samples).T\n",
    "        np.save(self.blender_poses_path, np.concatenate([eulers, translations], axis=-1))"
   ]
  },
  {
   "source": [
    "## インスタンス生成"
   ],
   "cell_type": "markdown",
   "metadata": {}
  },
  {
   "cell_type": "code",
   "execution_count": 26,
   "metadata": {},
   "outputs": [],
   "source": [
    "ds = DataStatistics(linemod_dir = linemod_dir,\n",
    "                                       pvnet_linemod_dir = pvnet_linemod_dir,\n",
    "                                       object_name = object_name)"
   ]
  },
  {
   "source": [
    "## get_proper_crop_size Test"
   ],
   "cell_type": "markdown",
   "metadata": {}
  },
  {
   "cell_type": "code",
   "execution_count": 27,
   "metadata": {},
   "outputs": [
    {
     "output_type": "stream",
     "name": "stdout",
     "text": [
      "min width: 34, max width: 67\nmin height: 35, max height: 88\n"
     ]
    }
   ],
   "source": [
    "ds.get_proper_crop_size()"
   ]
  },
  {
   "source": [
    "## get_dataset_poses"
   ],
   "cell_type": "markdown",
   "metadata": {}
  },
  {
   "cell_type": "code",
   "execution_count": 28,
   "metadata": {},
   "outputs": [
    {
     "output_type": "error",
     "ename": "AttributeError",
     "evalue": "'PoseTransformer' object has no attribute 'orig_pose_to_blender_euler'",
     "traceback": [
      "\u001b[0;31m---------------------------------------------------------------------------\u001b[0m",
      "\u001b[0;31mAttributeError\u001b[0m                            Traceback (most recent call last)",
      "\u001b[0;32m<ipython-input-28-3d46e661be1f>\u001b[0m in \u001b[0;36m<module>\u001b[0;34m\u001b[0m\n\u001b[0;32m----> 1\u001b[0;31m \u001b[0meulers\u001b[0m\u001b[0;34m,\u001b[0m \u001b[0mtranslations\u001b[0m \u001b[0;34m=\u001b[0m \u001b[0mds\u001b[0m\u001b[0;34m.\u001b[0m\u001b[0mget_dataset_poses\u001b[0m\u001b[0;34m(\u001b[0m\u001b[0;34m)\u001b[0m\u001b[0;34m\u001b[0m\u001b[0;34m\u001b[0m\u001b[0m\n\u001b[0m",
      "\u001b[0;32m<ipython-input-25-17d2f6fddbb7>\u001b[0m in \u001b[0;36mget_dataset_poses\u001b[0;34m(self)\u001b[0m\n\u001b[1;32m     77\u001b[0m             \u001b[0mtra_path\u001b[0m \u001b[0;34m=\u001b[0m \u001b[0mos\u001b[0m\u001b[0;34m.\u001b[0m\u001b[0mpath\u001b[0m\u001b[0;34m.\u001b[0m\u001b[0mjoin\u001b[0m\u001b[0;34m(\u001b[0m\u001b[0mself\u001b[0m\u001b[0;34m.\u001b[0m\u001b[0mdir_path\u001b[0m\u001b[0;34m,\u001b[0m \u001b[0;34m'tra{}.tra'\u001b[0m\u001b[0;34m.\u001b[0m\u001b[0mformat\u001b[0m\u001b[0;34m(\u001b[0m\u001b[0midx\u001b[0m\u001b[0;34m)\u001b[0m\u001b[0;34m)\u001b[0m\u001b[0;34m\u001b[0m\u001b[0;34m\u001b[0m\u001b[0m\n\u001b[1;32m     78\u001b[0m             \u001b[0mpose\u001b[0m \u001b[0;34m=\u001b[0m \u001b[0mread_pose\u001b[0m\u001b[0;34m(\u001b[0m\u001b[0mrot_path\u001b[0m\u001b[0;34m,\u001b[0m \u001b[0mtra_path\u001b[0m\u001b[0;34m)\u001b[0m\u001b[0;34m\u001b[0m\u001b[0;34m\u001b[0m\u001b[0m\n\u001b[0;32m---> 79\u001b[0;31m             \u001b[0meuler\u001b[0m \u001b[0;34m=\u001b[0m \u001b[0mself\u001b[0m\u001b[0;34m.\u001b[0m\u001b[0mpose_transformer\u001b[0m\u001b[0;34m.\u001b[0m\u001b[0morig_pose_to_blender_euler\u001b[0m\u001b[0;34m(\u001b[0m\u001b[0mpose\u001b[0m\u001b[0;34m)\u001b[0m\u001b[0;34m\u001b[0m\u001b[0;34m\u001b[0m\u001b[0m\n\u001b[0m\u001b[1;32m     80\u001b[0m             \u001b[0meulers\u001b[0m\u001b[0;34m.\u001b[0m\u001b[0mappend\u001b[0m\u001b[0;34m(\u001b[0m\u001b[0meuler\u001b[0m\u001b[0;34m)\u001b[0m\u001b[0;34m\u001b[0m\u001b[0;34m\u001b[0m\u001b[0m\n\u001b[1;32m     81\u001b[0m             \u001b[0mtranslations\u001b[0m\u001b[0;34m.\u001b[0m\u001b[0mappend\u001b[0m\u001b[0;34m(\u001b[0m\u001b[0mpose\u001b[0m\u001b[0;34m[\u001b[0m\u001b[0;34m:\u001b[0m\u001b[0;34m,\u001b[0m \u001b[0;36m3\u001b[0m\u001b[0;34m]\u001b[0m\u001b[0;34m)\u001b[0m\u001b[0;34m\u001b[0m\u001b[0;34m\u001b[0m\u001b[0m\n",
      "\u001b[0;31mAttributeError\u001b[0m: 'PoseTransformer' object has no attribute 'orig_pose_to_blender_euler'"
     ]
    }
   ],
   "source": [
    "eulers, translations = ds.get_dataset_poses()"
   ]
  },
  {
   "cell_type": "code",
   "execution_count": null,
   "metadata": {},
   "outputs": [],
   "source": []
  }
 ]
}