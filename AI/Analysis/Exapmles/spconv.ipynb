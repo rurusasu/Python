{
 "metadata": {
  "language_info": {
   "codemirror_mode": {
    "name": "ipython",
    "version": 3
   },
   "file_extension": ".py",
   "mimetype": "text/x-python",
   "name": "python",
   "nbconvert_exporter": "python",
   "pygments_lexer": "ipython3",
   "version": "3.8.5"
  },
  "orig_nbformat": 2,
  "kernelspec": {
   "name": "python385jvsc74a57bd00eecd040b31a140d4c1a4abfb9821f369b6a9e45dafd8a2bb8398d6490c0b8f2",
   "display_name": "Python 3.8.5 64-bit ('base': conda)"
  },
  "metadata": {
   "interpreter": {
    "hash": "0eecd040b31a140d4c1a4abfb9821f369b6a9e45dafd8a2bb8398d6490c0b8f2"
   }
  }
 },
 "nbformat": 4,
 "nbformat_minor": 2,
 "cells": [
  {
   "source": [
    "# spconv サンプル"
   ],
   "cell_type": "markdown",
   "metadata": {}
  },
  {
   "source": [
    "以下のサイトを参考に作成\n",
    "https://codechina.csdn.net/mirrors/traveller59/spconv/-/blob/master/README.md"
   ],
   "cell_type": "markdown",
   "metadata": {}
  },
  {
   "cell_type": "code",
   "execution_count": 2,
   "metadata": {},
   "outputs": [],
   "source": [
    "import spconv\n",
    "from torch import nn"
   ]
  },
  {
   "cell_type": "code",
   "execution_count": null,
   "metadata": {},
   "outputs": [],
   "source": [
    "class ExampleNet(nn.Module):\n",
    "    def __init__(self, shape):\n",
    "        super().__init__()\n",
    "        self.net = spconv.SparseSequential(\n",
    "            spconv.SparseConv3d(32, 64, 3), # nn.Conv3dと同じですが、group and all ([d > 1, s > 1])はサポートしていません。\n",
    "            nn.BatchNorm1d(64), # SparseSequentialでは、非空間的なレイヤーを直接使用することができます。\n",
    "            nn.ReLU(),\n",
    "            spconv.SubMConv3d(64, 64, 3, indice_key=\"subm0\"),\n",
    "            nn.BatchNorm1d(64),\n",
    "            nn.ReLU(),\n",
    "            # サブマニフォールドコンボリューションを使用する場合、そのインデックスを共有することでインデックス生成時間を短縮することができます。\n",
    "            spconv.SubMConv3d(64, 64, 3, indice_key=\"subm0\"),\n",
    "            nn.BatchNorm1d(64),\n",
    "            nn.ReLU(),\n",
    "            spconv.SparseConvTranspose3d(64, 64, 3, 2),\n",
    "            nn.BatchNorm1d(64),\n",
    "            nn.ReLU(),\n",
    "            spconv.ToDense() # spconvのテンソルをdenseに変換し、NCHW形式に変換します。\n",
    "            nn.Conv3d(64, 64, 3),\n",
    "            nn.BatchNorm1d(64),\n",
    "            nn.ReLU(),\n",
    "        )\n",
    "        self.shape = shape\n",
    "    \n",
    "    def forward(self, features, coors, batch_size):\n",
    "        coors = coors.int() # torchと違い、このライブラリはint座標しか受け付けません。\n",
    "        x  = spconv.SparseConvTensor(features, coors, self.shape, batch_size)\n",
    "        return self.net(x) # dense()"
   ]
  }
 ]
}