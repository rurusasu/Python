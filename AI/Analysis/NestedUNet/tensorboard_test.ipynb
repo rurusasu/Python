{
 "metadata": {
  "language_info": {
   "codemirror_mode": {
    "name": "ipython",
    "version": 3
   },
   "file_extension": ".py",
   "mimetype": "text/x-python",
   "name": "python",
   "nbconvert_exporter": "python",
   "pygments_lexer": "ipython3",
   "version": "3.8.8"
  },
  "orig_nbformat": 2,
  "kernelspec": {
   "name": "python3",
   "display_name": "Python 3.8.8 64-bit ('base': conda)"
  },
  "interpreter": {
   "hash": "0eecd040b31a140d4c1a4abfb9821f369b6a9e45dafd8a2bb8398d6490c0b8f2"
  }
 },
 "nbformat": 4,
 "nbformat_minor": 2,
 "cells": [
  {
   "source": [
    "# PyTorchで作成したモデル，損失などを<br>TensorBoardで可視化するためのテスト"
   ],
   "cell_type": "markdown",
   "metadata": {}
  },
  {
   "source": [
    "## Log を保存するためのディレクトリの作成"
   ],
   "cell_type": "markdown",
   "metadata": {}
  },
  {
   "cell_type": "code",
   "execution_count": 2,
   "metadata": {},
   "outputs": [
    {
     "output_type": "error",
     "ename": "ImportError",
     "evalue": "cannot import name 'makedir' from 'utils' (/media/miki/DATA/My_programing/python/AI/Analysis/NestedUNet/utils.py)",
     "traceback": [
      "\u001b[0;31m---------------------------------------------------------------------------\u001b[0m",
      "\u001b[0;31mImportError\u001b[0m                               Traceback (most recent call last)",
      "\u001b[0;32m<ipython-input-2-1eb24f21ac45>\u001b[0m in \u001b[0;36m<module>\u001b[0;34m\u001b[0m\n\u001b[1;32m      4\u001b[0m \u001b[0msys\u001b[0m\u001b[0;34m.\u001b[0m\u001b[0mpath\u001b[0m\u001b[0;34m.\u001b[0m\u001b[0mappend\u001b[0m\u001b[0;34m(\u001b[0m\u001b[0;34m\"..\"\u001b[0m\u001b[0;34m)\u001b[0m\u001b[0;34m\u001b[0m\u001b[0;34m\u001b[0m\u001b[0m\n\u001b[1;32m      5\u001b[0m \u001b[0;32mfrom\u001b[0m \u001b[0msrc\u001b[0m\u001b[0;34m.\u001b[0m\u001b[0mconfig\u001b[0m\u001b[0;34m.\u001b[0m\u001b[0mconfig\u001b[0m \u001b[0;32mimport\u001b[0m \u001b[0mcfg\u001b[0m\u001b[0;34m\u001b[0m\u001b[0;34m\u001b[0m\u001b[0m\n\u001b[0;32m----> 6\u001b[0;31m \u001b[0;32mfrom\u001b[0m \u001b[0mutils\u001b[0m \u001b[0;32mimport\u001b[0m \u001b[0mmakedir\u001b[0m\u001b[0;34m\u001b[0m\u001b[0;34m\u001b[0m\u001b[0m\n\u001b[0m",
      "\u001b[0;31mImportError\u001b[0m: cannot import name 'makedir' from 'utils' (/media/miki/DATA/My_programing/python/AI/Analysis/NestedUNet/utils.py)"
     ]
    }
   ],
   "source": [
    "import os\r\n",
    "import sys\r\n",
    "sys.path.append(\".\")\r\n",
    "sys.path.append(\"..\")\r\n",
    "from src.config.config import cfg\r\n",
    "from utils import makedir"
   ]
  },
  {
   "cell_type": "code",
   "execution_count": 2,
   "metadata": {},
   "outputs": [],
   "source": [
    "log_dir = makedir(cfg.NESTED_UNET_DIR, 'log')"
   ]
  },
  {
   "source": [
    "## ログを記録するために SummaryWriter インスタンスを作成する"
   ],
   "cell_type": "markdown",
   "metadata": {}
  },
  {
   "cell_type": "code",
   "execution_count": 3,
   "metadata": {},
   "outputs": [],
   "source": [
    "from torch.utils.tensorboard import SummaryWriter\n",
    "writer = SummaryWriter(log_dir)"
   ]
  },
  {
   "source": [
    "## スカラーログを記録する"
   ],
   "cell_type": "markdown",
   "metadata": {}
  },
  {
   "source": [
    "スカラー値をログ記録するには、add_scalar(tag, scalar_value, global_step=None, walltime=None) を使用する．\n",
    "例えば、単純な線形回帰訓練を作成して、add_scalar を使用して損失値をログ記録する場合:"
   ],
   "cell_type": "markdown",
   "metadata": {}
  },
  {
   "cell_type": "code",
   "execution_count": 4,
   "metadata": {},
   "outputs": [],
   "source": [
    "# imports\n",
    "import matplotlib.pyplot as plt\n",
    "import numpy as np\n",
    "\n",
    "import torch\n",
    "import torchvision\n",
    "import torchvision.transforms as transforms\n",
    "\n",
    "import torch.nn as nn\n",
    "import torch.nn.functional as F\n",
    "import torch.optim as optim\n",
    "\n",
    "# transforms\n",
    "transform = transforms.Compose(\n",
    "    [transforms.ToTensor(),\n",
    "    transforms.Normalize((0.5,), (0.5,))])\n",
    "\n",
    "# datasets\n",
    "#trainset = torchvision.datasets.FashionMNIST('./data', download=True, train=True, transform=transform)\n",
    "trainset = torchvision.datasets.FashionMNIST(cfg.DATA_DIR, download=True, train=True, transform=transform)\n",
    "#testset = torchvision.datasets.FashionMNIST('./data', download=True, train=False, transform=transform)\n",
    "testset = torchvision.datasets.FashionMNIST(cfg.DATA_DIR, download=True, train=False, transform=transform)\n",
    "\n",
    "# dataloaders\n",
    "trainloader = torch.utils.data.DataLoader(trainset, batch_size=4, shuffle=True, num_workers=2)\n",
    "\n",
    "\n",
    "testloader = torch.utils.data.DataLoader(testset, batch_size=4, shuffle=False, num_workers=2)\n",
    "\n",
    "# constant for classes\n",
    "classes = ('T-shirt/top',\n",
    "                'Trouser',\n",
    "                'Pullover',\n",
    "                'Dress',\n",
    "                'Coat',\n",
    "                'Sandal',\n",
    "                'Shirt',\n",
    "                'Sneaker',\n",
    "                'Bag',\n",
    "                'Ankle Boot')\n",
    "\n",
    "# helper function to show an image\n",
    "# (used in the `plot_classes_preds` function below)\n",
    "def matplotlib_imshow(img, one_channel=False):\n",
    "    if one_channel:\n",
    "        img = img.mean(dim=0)\n",
    "    img = img / 2 + 0.5     # unnormalize\n",
    "    npimg = img.numpy()\n",
    "    if one_channel:\n",
    "        plt.imshow(npimg, cmap=\"Greys\")\n",
    "    else:\n",
    "        plt.imshow(np.transpose(npimg, (1, 2, 0)))"
   ]
  },
  {
   "cell_type": "code",
   "execution_count": 5,
   "metadata": {},
   "outputs": [],
   "source": [
    "class Net(nn.Module):\n",
    "    def __init__(self):\n",
    "        super(Net, self).__init__()\n",
    "        self.conv1 = nn.Conv2d(1, 6, 5)\n",
    "        self.pool = nn.MaxPool2d(2, 2)\n",
    "        self.conv2 = nn.Conv2d(6, 16, 5)\n",
    "        self.fc1 = nn.Linear(16 * 4 * 4, 120)\n",
    "        self.fc2 = nn.Linear(120, 84)\n",
    "        self.fc3 = nn.Linear(84, 10)\n",
    "\n",
    "    def forward(self, x):\n",
    "        x = self.pool(F.relu(self.conv1(x)))\n",
    "        x = self.pool(F.relu(self.conv2(x)))\n",
    "        x = x.view(-1, 16 * 4 * 4)\n",
    "        x = F.relu(self.fc1(x))\n",
    "        x = F.relu(self.fc2(x))\n",
    "        x = self.fc3(x)\n",
    "        return x\n",
    "\n",
    "\n",
    "net = Net()"
   ]
  },
  {
   "cell_type": "code",
   "execution_count": 6,
   "metadata": {},
   "outputs": [],
   "source": [
    "criterion = nn.CrossEntropyLoss()\r\n",
    "optimizer = optim.SGD(net.parameters(), lr=0.001, momentum=0.9)"
   ]
  },
  {
   "source": [
    "## 2. TensorBoard に書く"
   ],
   "cell_type": "markdown",
   "metadata": {}
  },
  {
   "cell_type": "code",
   "execution_count": 7,
   "metadata": {},
   "outputs": [
    {
     "output_type": "display_data",
     "data": {
      "text/plain": "<Figure size 432x288 with 1 Axes>",
      "image/svg+xml": "<?xml version=\"1.0\" encoding=\"utf-8\" standalone=\"no\"?>\r\n<!DOCTYPE svg PUBLIC \"-//W3C//DTD SVG 1.1//EN\"\r\n  \"http://www.w3.org/Graphics/SVG/1.1/DTD/svg11.dtd\">\r\n<!-- Created with matplotlib (https://matplotlib.org/) -->\r\n<svg height=\"121.321606pt\" version=\"1.1\" viewBox=\"0 0 374.352357 121.321606\" width=\"374.352357pt\" xmlns=\"http://www.w3.org/2000/svg\" xmlns:xlink=\"http://www.w3.org/1999/xlink\">\r\n <metadata>\r\n  <rdf:RDF xmlns:cc=\"http://creativecommons.org/ns#\" xmlns:dc=\"http://purl.org/dc/elements/1.1/\" xmlns:rdf=\"http://www.w3.org/1999/02/22-rdf-syntax-ns#\">\r\n   <cc:Work>\r\n    <dc:type rdf:resource=\"http://purl.org/dc/dcmitype/StillImage\"/>\r\n    <dc:date>2021-04-07T10:51:31.541639</dc:date>\r\n    <dc:format>image/svg+xml</dc:format>\r\n    <dc:creator>\r\n     <cc:Agent>\r\n      <dc:title>Matplotlib v3.3.4, https://matplotlib.org/</dc:title>\r\n     </cc:Agent>\r\n    </dc:creator>\r\n   </cc:Work>\r\n  </rdf:RDF>\r\n </metadata>\r\n <defs>\r\n  <style type=\"text/css\">*{stroke-linecap:butt;stroke-linejoin:round;}</style>\r\n </defs>\r\n <g id=\"figure_1\">\r\n  <g id=\"patch_1\">\r\n   <path d=\"M -0 121.321606 \r\nL 374.352357 121.321606 \r\nL 374.352357 0 \r\nL -0 0 \r\nz\r\n\" style=\"fill:none;\"/>\r\n  </g>\r\n  <g id=\"axes_1\">\r\n   <g id=\"patch_2\">\r\n    <path d=\"M 26.925 97.443481 \r\nL 361.725 97.443481 \r\nL 361.725 9.627088 \r\nL 26.925 9.627088 \r\nz\r\n\" style=\"fill:#ffffff;\"/>\r\n   </g>\r\n   <g clip-path=\"url(#p575f2da0fd)\">\r\n    <image height=\"88\" id=\"imagebf2331ac8f\" transform=\"scale(1 -1)translate(0 -88)\" width=\"335\" x=\"26.925\" xlink:href=\"data:image/png;base64,\r\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\" y=\"-9.443481\"/>\r\n   </g>\r\n   <g id=\"matplotlib.axis_1\">\r\n    <g id=\"xtick_1\">\r\n     <g id=\"line2d_1\">\r\n      <defs>\r\n       <path d=\"M 0 0 \r\nL 0 3.5 \r\n\" id=\"m4986e59ea7\" style=\"stroke:#000000;stroke-width:0.8;\"/>\r\n      </defs>\r\n      <g>\r\n       <use style=\"stroke:#000000;stroke-width:0.8;\" x=\"28.297131\" xlink:href=\"#m4986e59ea7\" y=\"97.443481\"/>\r\n      </g>\r\n     </g>\r\n     <g id=\"text_1\">\r\n      <!-- 0 -->\r\n      <g transform=\"translate(25.115881 112.041919)scale(0.1 -0.1)\">\r\n       <defs>\r\n        <path d=\"M 31.78125 66.40625 \r\nQ 24.171875 66.40625 20.328125 58.90625 \r\nQ 16.5 51.421875 16.5 36.375 \r\nQ 16.5 21.390625 20.328125 13.890625 \r\nQ 24.171875 6.390625 31.78125 6.390625 \r\nQ 39.453125 6.390625 43.28125 13.890625 \r\nQ 47.125 21.390625 47.125 36.375 \r\nQ 47.125 51.421875 43.28125 58.90625 \r\nQ 39.453125 66.40625 31.78125 66.40625 \r\nz\r\nM 31.78125 74.21875 \r\nQ 44.046875 74.21875 50.515625 64.515625 \r\nQ 56.984375 54.828125 56.984375 36.375 \r\nQ 56.984375 17.96875 50.515625 8.265625 \r\nQ 44.046875 -1.421875 31.78125 -1.421875 \r\nQ 19.53125 -1.421875 13.0625 8.265625 \r\nQ 6.59375 17.96875 6.59375 36.375 \r\nQ 6.59375 54.828125 13.0625 64.515625 \r\nQ 19.53125 74.21875 31.78125 74.21875 \r\nz\r\n\" id=\"DejaVuSans-48\"/>\r\n       </defs>\r\n       <use xlink:href=\"#DejaVuSans-48\"/>\r\n      </g>\r\n     </g>\r\n    </g>\r\n    <g id=\"xtick_2\">\r\n     <g id=\"line2d_2\">\r\n      <g>\r\n       <use style=\"stroke:#000000;stroke-width:0.8;\" x=\"83.182377\" xlink:href=\"#m4986e59ea7\" y=\"97.443481\"/>\r\n      </g>\r\n     </g>\r\n     <g id=\"text_2\">\r\n      <!-- 20 -->\r\n      <g transform=\"translate(76.819877 112.041919)scale(0.1 -0.1)\">\r\n       <defs>\r\n        <path d=\"M 19.1875 8.296875 \r\nL 53.609375 8.296875 \r\nL 53.609375 0 \r\nL 7.328125 0 \r\nL 7.328125 8.296875 \r\nQ 12.9375 14.109375 22.625 23.890625 \r\nQ 32.328125 33.6875 34.8125 36.53125 \r\nQ 39.546875 41.84375 41.421875 45.53125 \r\nQ 43.3125 49.21875 43.3125 52.78125 \r\nQ 43.3125 58.59375 39.234375 62.25 \r\nQ 35.15625 65.921875 28.609375 65.921875 \r\nQ 23.96875 65.921875 18.8125 64.3125 \r\nQ 13.671875 62.703125 7.8125 59.421875 \r\nL 7.8125 69.390625 \r\nQ 13.765625 71.78125 18.9375 73 \r\nQ 24.125 74.21875 28.421875 74.21875 \r\nQ 39.75 74.21875 46.484375 68.546875 \r\nQ 53.21875 62.890625 53.21875 53.421875 \r\nQ 53.21875 48.921875 51.53125 44.890625 \r\nQ 49.859375 40.875 45.40625 35.40625 \r\nQ 44.1875 33.984375 37.640625 27.21875 \r\nQ 31.109375 20.453125 19.1875 8.296875 \r\nz\r\n\" id=\"DejaVuSans-50\"/>\r\n       </defs>\r\n       <use xlink:href=\"#DejaVuSans-50\"/>\r\n       <use x=\"63.623047\" xlink:href=\"#DejaVuSans-48\"/>\r\n      </g>\r\n     </g>\r\n    </g>\r\n    <g id=\"xtick_3\">\r\n     <g id=\"line2d_3\">\r\n      <g>\r\n       <use style=\"stroke:#000000;stroke-width:0.8;\" x=\"138.067623\" xlink:href=\"#m4986e59ea7\" y=\"97.443481\"/>\r\n      </g>\r\n     </g>\r\n     <g id=\"text_3\">\r\n      <!-- 40 -->\r\n      <g transform=\"translate(131.705123 112.041919)scale(0.1 -0.1)\">\r\n       <defs>\r\n        <path d=\"M 37.796875 64.3125 \r\nL 12.890625 25.390625 \r\nL 37.796875 25.390625 \r\nz\r\nM 35.203125 72.90625 \r\nL 47.609375 72.90625 \r\nL 47.609375 25.390625 \r\nL 58.015625 25.390625 \r\nL 58.015625 17.1875 \r\nL 47.609375 17.1875 \r\nL 47.609375 0 \r\nL 37.796875 0 \r\nL 37.796875 17.1875 \r\nL 4.890625 17.1875 \r\nL 4.890625 26.703125 \r\nz\r\n\" id=\"DejaVuSans-52\"/>\r\n       </defs>\r\n       <use xlink:href=\"#DejaVuSans-52\"/>\r\n       <use x=\"63.623047\" xlink:href=\"#DejaVuSans-48\"/>\r\n      </g>\r\n     </g>\r\n    </g>\r\n    <g id=\"xtick_4\">\r\n     <g id=\"line2d_4\">\r\n      <g>\r\n       <use style=\"stroke:#000000;stroke-width:0.8;\" x=\"192.952869\" xlink:href=\"#m4986e59ea7\" y=\"97.443481\"/>\r\n      </g>\r\n     </g>\r\n     <g id=\"text_4\">\r\n      <!-- 60 -->\r\n      <g transform=\"translate(186.590369 112.041919)scale(0.1 -0.1)\">\r\n       <defs>\r\n        <path d=\"M 33.015625 40.375 \r\nQ 26.375 40.375 22.484375 35.828125 \r\nQ 18.609375 31.296875 18.609375 23.390625 \r\nQ 18.609375 15.53125 22.484375 10.953125 \r\nQ 26.375 6.390625 33.015625 6.390625 \r\nQ 39.65625 6.390625 43.53125 10.953125 \r\nQ 47.40625 15.53125 47.40625 23.390625 \r\nQ 47.40625 31.296875 43.53125 35.828125 \r\nQ 39.65625 40.375 33.015625 40.375 \r\nz\r\nM 52.59375 71.296875 \r\nL 52.59375 62.3125 \r\nQ 48.875 64.0625 45.09375 64.984375 \r\nQ 41.3125 65.921875 37.59375 65.921875 \r\nQ 27.828125 65.921875 22.671875 59.328125 \r\nQ 17.53125 52.734375 16.796875 39.40625 \r\nQ 19.671875 43.65625 24.015625 45.921875 \r\nQ 28.375 48.1875 33.59375 48.1875 \r\nQ 44.578125 48.1875 50.953125 41.515625 \r\nQ 57.328125 34.859375 57.328125 23.390625 \r\nQ 57.328125 12.15625 50.6875 5.359375 \r\nQ 44.046875 -1.421875 33.015625 -1.421875 \r\nQ 20.359375 -1.421875 13.671875 8.265625 \r\nQ 6.984375 17.96875 6.984375 36.375 \r\nQ 6.984375 53.65625 15.1875 63.9375 \r\nQ 23.390625 74.21875 37.203125 74.21875 \r\nQ 40.921875 74.21875 44.703125 73.484375 \r\nQ 48.484375 72.75 52.59375 71.296875 \r\nz\r\n\" id=\"DejaVuSans-54\"/>\r\n       </defs>\r\n       <use xlink:href=\"#DejaVuSans-54\"/>\r\n       <use x=\"63.623047\" xlink:href=\"#DejaVuSans-48\"/>\r\n      </g>\r\n     </g>\r\n    </g>\r\n    <g id=\"xtick_5\">\r\n     <g id=\"line2d_5\">\r\n      <g>\r\n       <use style=\"stroke:#000000;stroke-width:0.8;\" x=\"247.838115\" xlink:href=\"#m4986e59ea7\" y=\"97.443481\"/>\r\n      </g>\r\n     </g>\r\n     <g id=\"text_5\">\r\n      <!-- 80 -->\r\n      <g transform=\"translate(241.475615 112.041919)scale(0.1 -0.1)\">\r\n       <defs>\r\n        <path d=\"M 31.78125 34.625 \r\nQ 24.75 34.625 20.71875 30.859375 \r\nQ 16.703125 27.09375 16.703125 20.515625 \r\nQ 16.703125 13.921875 20.71875 10.15625 \r\nQ 24.75 6.390625 31.78125 6.390625 \r\nQ 38.8125 6.390625 42.859375 10.171875 \r\nQ 46.921875 13.96875 46.921875 20.515625 \r\nQ 46.921875 27.09375 42.890625 30.859375 \r\nQ 38.875 34.625 31.78125 34.625 \r\nz\r\nM 21.921875 38.8125 \r\nQ 15.578125 40.375 12.03125 44.71875 \r\nQ 8.5 49.078125 8.5 55.328125 \r\nQ 8.5 64.0625 14.71875 69.140625 \r\nQ 20.953125 74.21875 31.78125 74.21875 \r\nQ 42.671875 74.21875 48.875 69.140625 \r\nQ 55.078125 64.0625 55.078125 55.328125 \r\nQ 55.078125 49.078125 51.53125 44.71875 \r\nQ 48 40.375 41.703125 38.8125 \r\nQ 48.828125 37.15625 52.796875 32.3125 \r\nQ 56.78125 27.484375 56.78125 20.515625 \r\nQ 56.78125 9.90625 50.3125 4.234375 \r\nQ 43.84375 -1.421875 31.78125 -1.421875 \r\nQ 19.734375 -1.421875 13.25 4.234375 \r\nQ 6.78125 9.90625 6.78125 20.515625 \r\nQ 6.78125 27.484375 10.78125 32.3125 \r\nQ 14.796875 37.15625 21.921875 38.8125 \r\nz\r\nM 18.3125 54.390625 \r\nQ 18.3125 48.734375 21.84375 45.5625 \r\nQ 25.390625 42.390625 31.78125 42.390625 \r\nQ 38.140625 42.390625 41.71875 45.5625 \r\nQ 45.3125 48.734375 45.3125 54.390625 \r\nQ 45.3125 60.0625 41.71875 63.234375 \r\nQ 38.140625 66.40625 31.78125 66.40625 \r\nQ 25.390625 66.40625 21.84375 63.234375 \r\nQ 18.3125 60.0625 18.3125 54.390625 \r\nz\r\n\" id=\"DejaVuSans-56\"/>\r\n       </defs>\r\n       <use xlink:href=\"#DejaVuSans-56\"/>\r\n       <use x=\"63.623047\" xlink:href=\"#DejaVuSans-48\"/>\r\n      </g>\r\n     </g>\r\n    </g>\r\n    <g id=\"xtick_6\">\r\n     <g id=\"line2d_6\">\r\n      <g>\r\n       <use style=\"stroke:#000000;stroke-width:0.8;\" x=\"302.723361\" xlink:href=\"#m4986e59ea7\" y=\"97.443481\"/>\r\n      </g>\r\n     </g>\r\n     <g id=\"text_6\">\r\n      <!-- 100 -->\r\n      <g transform=\"translate(293.179611 112.041919)scale(0.1 -0.1)\">\r\n       <defs>\r\n        <path d=\"M 12.40625 8.296875 \r\nL 28.515625 8.296875 \r\nL 28.515625 63.921875 \r\nL 10.984375 60.40625 \r\nL 10.984375 69.390625 \r\nL 28.421875 72.90625 \r\nL 38.28125 72.90625 \r\nL 38.28125 8.296875 \r\nL 54.390625 8.296875 \r\nL 54.390625 0 \r\nL 12.40625 0 \r\nz\r\n\" id=\"DejaVuSans-49\"/>\r\n       </defs>\r\n       <use xlink:href=\"#DejaVuSans-49\"/>\r\n       <use x=\"63.623047\" xlink:href=\"#DejaVuSans-48\"/>\r\n       <use x=\"127.246094\" xlink:href=\"#DejaVuSans-48\"/>\r\n      </g>\r\n     </g>\r\n    </g>\r\n    <g id=\"xtick_7\">\r\n     <g id=\"line2d_7\">\r\n      <g>\r\n       <use style=\"stroke:#000000;stroke-width:0.8;\" x=\"357.608607\" xlink:href=\"#m4986e59ea7\" y=\"97.443481\"/>\r\n      </g>\r\n     </g>\r\n     <g id=\"text_7\">\r\n      <!-- 120 -->\r\n      <g transform=\"translate(348.064857 112.041919)scale(0.1 -0.1)\">\r\n       <use xlink:href=\"#DejaVuSans-49\"/>\r\n       <use x=\"63.623047\" xlink:href=\"#DejaVuSans-50\"/>\r\n       <use x=\"127.246094\" xlink:href=\"#DejaVuSans-48\"/>\r\n      </g>\r\n     </g>\r\n    </g>\r\n   </g>\r\n   <g id=\"matplotlib.axis_2\">\r\n    <g id=\"ytick_1\">\r\n     <g id=\"line2d_8\">\r\n      <defs>\r\n       <path d=\"M 0 0 \r\nL -3.5 0 \r\n\" id=\"m0f1830666b\" style=\"stroke:#000000;stroke-width:0.8;\"/>\r\n      </defs>\r\n      <g>\r\n       <use style=\"stroke:#000000;stroke-width:0.8;\" x=\"26.925\" xlink:href=\"#m0f1830666b\" y=\"10.999219\"/>\r\n      </g>\r\n     </g>\r\n     <g id=\"text_8\">\r\n      <!-- 0 -->\r\n      <g transform=\"translate(13.5625 14.798437)scale(0.1 -0.1)\">\r\n       <use xlink:href=\"#DejaVuSans-48\"/>\r\n      </g>\r\n     </g>\r\n    </g>\r\n    <g id=\"ytick_2\">\r\n     <g id=\"line2d_9\">\r\n      <g>\r\n       <use style=\"stroke:#000000;stroke-width:0.8;\" x=\"26.925\" xlink:href=\"#m0f1830666b\" y=\"38.441842\"/>\r\n      </g>\r\n     </g>\r\n     <g id=\"text_9\">\r\n      <!-- 10 -->\r\n      <g transform=\"translate(7.2 42.24106)scale(0.1 -0.1)\">\r\n       <use xlink:href=\"#DejaVuSans-49\"/>\r\n       <use x=\"63.623047\" xlink:href=\"#DejaVuSans-48\"/>\r\n      </g>\r\n     </g>\r\n    </g>\r\n    <g id=\"ytick_3\">\r\n     <g id=\"line2d_10\">\r\n      <g>\r\n       <use style=\"stroke:#000000;stroke-width:0.8;\" x=\"26.925\" xlink:href=\"#m0f1830666b\" y=\"65.884465\"/>\r\n      </g>\r\n     </g>\r\n     <g id=\"text_10\">\r\n      <!-- 20 -->\r\n      <g transform=\"translate(7.2 69.683683)scale(0.1 -0.1)\">\r\n       <use xlink:href=\"#DejaVuSans-50\"/>\r\n       <use x=\"63.623047\" xlink:href=\"#DejaVuSans-48\"/>\r\n      </g>\r\n     </g>\r\n    </g>\r\n    <g id=\"ytick_4\">\r\n     <g id=\"line2d_11\">\r\n      <g>\r\n       <use style=\"stroke:#000000;stroke-width:0.8;\" x=\"26.925\" xlink:href=\"#m0f1830666b\" y=\"93.327088\"/>\r\n      </g>\r\n     </g>\r\n     <g id=\"text_11\">\r\n      <!-- 30 -->\r\n      <g transform=\"translate(7.2 97.126306)scale(0.1 -0.1)\">\r\n       <defs>\r\n        <path d=\"M 40.578125 39.3125 \r\nQ 47.65625 37.796875 51.625 33 \r\nQ 55.609375 28.21875 55.609375 21.1875 \r\nQ 55.609375 10.40625 48.1875 4.484375 \r\nQ 40.765625 -1.421875 27.09375 -1.421875 \r\nQ 22.515625 -1.421875 17.65625 -0.515625 \r\nQ 12.796875 0.390625 7.625 2.203125 \r\nL 7.625 11.71875 \r\nQ 11.71875 9.328125 16.59375 8.109375 \r\nQ 21.484375 6.890625 26.8125 6.890625 \r\nQ 36.078125 6.890625 40.9375 10.546875 \r\nQ 45.796875 14.203125 45.796875 21.1875 \r\nQ 45.796875 27.640625 41.28125 31.265625 \r\nQ 36.765625 34.90625 28.71875 34.90625 \r\nL 20.21875 34.90625 \r\nL 20.21875 43.015625 \r\nL 29.109375 43.015625 \r\nQ 36.375 43.015625 40.234375 45.921875 \r\nQ 44.09375 48.828125 44.09375 54.296875 \r\nQ 44.09375 59.90625 40.109375 62.90625 \r\nQ 36.140625 65.921875 28.71875 65.921875 \r\nQ 24.65625 65.921875 20.015625 65.03125 \r\nQ 15.375 64.15625 9.8125 62.3125 \r\nL 9.8125 71.09375 \r\nQ 15.4375 72.65625 20.34375 73.4375 \r\nQ 25.25 74.21875 29.59375 74.21875 \r\nQ 40.828125 74.21875 47.359375 69.109375 \r\nQ 53.90625 64.015625 53.90625 55.328125 \r\nQ 53.90625 49.265625 50.4375 45.09375 \r\nQ 46.96875 40.921875 40.578125 39.3125 \r\nz\r\n\" id=\"DejaVuSans-51\"/>\r\n       </defs>\r\n       <use xlink:href=\"#DejaVuSans-51\"/>\r\n       <use x=\"63.623047\" xlink:href=\"#DejaVuSans-48\"/>\r\n      </g>\r\n     </g>\r\n    </g>\r\n   </g>\r\n   <g id=\"patch_3\">\r\n    <path d=\"M 26.925 97.443481 \r\nL 26.925 9.627088 \r\n\" style=\"fill:none;stroke:#000000;stroke-linecap:square;stroke-linejoin:miter;stroke-width:0.8;\"/>\r\n   </g>\r\n   <g id=\"patch_4\">\r\n    <path d=\"M 361.725 97.443481 \r\nL 361.725 9.627088 \r\n\" style=\"fill:none;stroke:#000000;stroke-linecap:square;stroke-linejoin:miter;stroke-width:0.8;\"/>\r\n   </g>\r\n   <g id=\"patch_5\">\r\n    <path d=\"M 26.925 97.443481 \r\nL 361.725 97.443481 \r\n\" style=\"fill:none;stroke:#000000;stroke-linecap:square;stroke-linejoin:miter;stroke-width:0.8;\"/>\r\n   </g>\r\n   <g id=\"patch_6\">\r\n    <path d=\"M 26.925 9.627088 \r\nL 361.725 9.627088 \r\n\" style=\"fill:none;stroke:#000000;stroke-linecap:square;stroke-linejoin:miter;stroke-width:0.8;\"/>\r\n   </g>\r\n  </g>\r\n </g>\r\n <defs>\r\n  <clipPath id=\"p575f2da0fd\">\r\n   <rect height=\"87.816393\" width=\"334.8\" x=\"26.925\" y=\"9.627088\"/>\r\n  </clipPath>\r\n </defs>\r\n</svg>\r\n",
      "image/png": "[encoded data removed]"
     },
     "metadata": {
      "needs_background": "light"
     }
    }
   ],
   "source": [
    "# get some random training images\n",
    "dataiter = iter(trainloader)\n",
    "images, labels = dataiter.next()\n",
    "\n",
    "# create grid of images\n",
    "img_grid = torchvision.utils.make_grid(images)\n",
    "\n",
    "# show images\n",
    "matplotlib_imshow(img_grid, one_channel=True)\n",
    "\n",
    "# write to tensorboard\n",
    "writer.add_image('four_fashion_mnist_images', img_grid)"
   ]
  },
  {
   "cell_type": "code",
   "execution_count": 8,
   "metadata": {},
   "outputs": [],
   "source": [
    "writer.add_graph(net, images)\n",
    "writer.close()"
   ]
  },
  {
   "cell_type": "code",
   "execution_count": 9,
   "metadata": {},
   "outputs": [],
   "source": [
    "# helper functions\n",
    "\n",
    "def images_to_probs(net, images):\n",
    "    '''\n",
    "    Generates predictions and corresponding probabilities from a trained\n",
    "    network and a list of images\n",
    "    '''\n",
    "    output = net(images)\n",
    "    # convert output probabilities to predicted class\n",
    "    _, preds_tensor = torch.max(output, 1)\n",
    "    preds = np.squeeze(preds_tensor.numpy())\n",
    "    return preds, [F.softmax(el, dim=0)[i].item() for i, el in zip(preds, output)]\n",
    "\n",
    "\n",
    "def plot_classes_preds(net, images, labels):\n",
    "    '''\n",
    "    Generates matplotlib Figure using a trained network, along with images\n",
    "    and labels from a batch, that shows the network's top prediction along\n",
    "    with its probability, alongside the actual label, coloring this\n",
    "    information based on whether the prediction was correct or not.\n",
    "    Uses the \"images_to_probs\" function.\n",
    "    '''\n",
    "    preds, probs = images_to_probs(net, images)\n",
    "    # plot the images in the batch, along with predicted and true labels\n",
    "    fig = plt.figure(figsize=(12, 48))\n",
    "    for idx in np.arange(4):\n",
    "        ax = fig.add_subplot(1, 4, idx+1, xticks=[], yticks=[])\n",
    "        matplotlib_imshow(images[idx], one_channel=True)\n",
    "        ax.set_title(\"{0}, {1:.1f}%\\n(label: {2})\".format(\n",
    "            classes[preds[idx]],\n",
    "            probs[idx] * 100.0,\n",
    "            classes[labels[idx]]),\n",
    "                    color=(\"green\" if preds[idx]==labels[idx].item() else \"red\"))\n",
    "    return fig"
   ]
  },
  {
   "cell_type": "code",
   "execution_count": 10,
   "metadata": {},
   "outputs": [
    {
     "output_type": "stream",
     "name": "stdout",
     "text": [
      "Finished Training\n"
     ]
    }
   ],
   "source": [
    "running_loss = 0.0\n",
    "for epoch in range(1):  # loop over the dataset multiple times\n",
    "\n",
    "    for i, data in enumerate(trainloader, 0):\n",
    "\n",
    "        # get the inputs; data is a list of [inputs, labels]\n",
    "        inputs, labels = data\n",
    "\n",
    "        # zero the parameter gradients\n",
    "        optimizer.zero_grad()\n",
    "\n",
    "        # forward + backward + optimize\n",
    "        outputs = net(inputs)\n",
    "        loss = criterion(outputs, labels)\n",
    "        loss.backward()\n",
    "        optimizer.step()\n",
    "\n",
    "        running_loss += loss.item()\n",
    "        if i % 1000 == 999:    # every 1000 mini-batches...\n",
    "\n",
    "            # ...log the running loss\n",
    "            writer.add_scalar('training loss',\n",
    "                            running_loss / 1000,\n",
    "                            epoch * len(trainloader) + i)\n",
    "\n",
    "            # ...log a Matplotlib Figure showing the model's predictions on a\n",
    "            # random mini-batch\n",
    "            writer.add_figure('predictions vs. actuals',\n",
    "                            plot_classes_preds(net, inputs, labels),\n",
    "                            global_step=epoch * len(trainloader) + i)\n",
    "            running_loss = 0.0\n",
    "print('Finished Training')"
   ]
  },
  {
   "source": [
    "## magics を使って，ノートブック内で TensorBoard を起動する．"
   ],
   "cell_type": "markdown",
   "metadata": {}
  },
  {
   "cell_type": "code",
   "execution_count": 11,
   "metadata": {},
   "outputs": [],
   "source": [
    "import cgi, html\n",
    "cgi.escape = html.escape"
   ]
  },
  {
   "cell_type": "code",
   "execution_count": 16,
   "metadata": {},
   "outputs": [
    {
     "output_type": "stream",
     "name": "stdout",
     "text": [
      "The tensorboard extension is already loaded. To reload it, use:\n  %reload_ext tensorboard\n"
     ]
    },
    {
     "output_type": "display_data",
     "data": {
      "text/plain": "Reusing TensorBoard on port 6006 (pid 7344), started 21:38:04 ago. (Use '!kill 7344' to kill it.)"
     },
     "metadata": {}
    }
   ],
   "source": [
    "%load_ext tensorboard\n",
    "%tensorboard --logdir=log_dir"
   ]
  },
  {
   "cell_type": "code",
   "execution_count": 13,
   "metadata": {},
   "outputs": [],
   "source": [
    "# summary writer を必要としない場合，close()メソッドを呼び出す\n",
    "writer.close()"
   ]
  },
  {
   "cell_type": "code",
   "execution_count": 14,
   "metadata": {},
   "outputs": [
    {
     "output_type": "stream",
     "name": "stdout",
     "text": [
      "Known TensorBoard instances:\n  - port 6006: logdir log_dir (started 23:38:55 ago; pid 15984)\n  - port 6006: logdir D:\\DATA\\R2_Miki\\python\\AI\\Analysis\\NestedUNet\\log (started 17:14:57 ago; pid 25928)\n  - port 6006: logdir log_file (started 21:31:53 ago; pid 27328)\n  - port 6006: logdir log_dir/ (started 20:21:16 ago; pid 27344)\n  - port 6006: logdir logs (started 23:27:03 ago; pid 6288)\n  - port 6006: logdir log_dir (started 21:36:38 ago; pid 7344)\n"
     ]
    }
   ],
   "source": [
    "from tensorboard import notebook\n",
    "notebook.list() # View open TensorBoard instances"
   ]
  },
  {
   "cell_type": "code",
   "execution_count": 15,
   "metadata": {},
   "outputs": [
    {
     "output_type": "stream",
     "name": "stdout",
     "text": [
      "Selecting TensorBoard with logdir D:\\DATA\\R2_Miki\\python\\AI\\Analysis\\NestedUNet\\log (started 17:14:57 ago; port 6006, pid 25928).\n"
     ]
    },
    {
     "output_type": "display_data",
     "data": {
      "text/plain": "<IPython.core.display.HTML object>",
      "text/html": "\n      <iframe id=\"tensorboard-frame-4bb99441ff910c6f\" width=\"100%\" height=\"1000\" frameborder=\"0\">\n      </iframe>\n      <script>\n        (function() {\n          const frame = document.getElementById(\"tensorboard-frame-4bb99441ff910c6f\");\n          const url = new URL(\"http://localhost\");\n          url.port = 6006;\n          frame.src = url;\n        })();\n      </script>\n  "
     },
     "metadata": {}
    }
   ],
   "source": [
    "# Control TensorBoard display. If no port is provided, \n",
    "# the most recently launched TensorBoard is used\n",
    "notebook.display(port=6006, height=1000)"
   ]
  },
  {
   "cell_type": "code",
   "execution_count": null,
   "metadata": {},
   "outputs": [],
   "source": []
  }
 ]
}