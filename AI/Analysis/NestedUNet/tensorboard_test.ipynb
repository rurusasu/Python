{
 "metadata": {
  "language_info": {
   "codemirror_mode": {
    "name": "ipython",
    "version": 3
   },
   "file_extension": ".py",
   "mimetype": "text/x-python",
   "name": "python",
   "nbconvert_exporter": "python",
   "pygments_lexer": "ipython3",
   "version": "3.8.8-final"
  },
  "orig_nbformat": 2,
  "kernelspec": {
   "name": "python388jvsc74a57bd0927e85032942f05ca8198db1ba7768f07447e48e9749cf73f657c77e29e9464d",
   "display_name": "Python 3.8.8 64-bit (conda)"
  }
 },
 "nbformat": 4,
 "nbformat_minor": 2,
 "cells": [
  {
   "source": [
    "# PyTorchで作成したモデル，損失などを<br>TensorBoardで可視化するためのテスト"
   ],
   "cell_type": "markdown",
   "metadata": {}
  },
  {
   "source": [
    "## Log を保存するためのディレクトリの作成"
   ],
   "cell_type": "markdown",
   "metadata": {}
  },
  {
   "cell_type": "code",
   "execution_count": 53,
   "metadata": {},
   "outputs": [],
   "source": [
    "import os\r\n",
    "import sys\r\n",
    "sys.path.append(\".\")\r\n",
    "sys.path.append(\"..\")\r\n",
    "from src.config.config import cfg\r\n",
    "from utils import makedir"
   ]
  },
  {
   "cell_type": "code",
   "execution_count": 54,
   "metadata": {},
   "outputs": [],
   "source": [
    "log_dir = makedir(cfg.NESTED_UNET_DIR, 'log')"
   ]
  },
  {
   "source": [
    "## ログを記録するために SummaryWriter インスタンスを作成する"
   ],
   "cell_type": "markdown",
   "metadata": {}
  },
  {
   "cell_type": "code",
   "execution_count": 55,
   "metadata": {},
   "outputs": [],
   "source": [
    "from torch.utils.tensorboard import SummaryWriter\n",
    "writer = SummaryWriter(log_dir)"
   ]
  },
  {
   "source": [
    "## スカラーログを記録する"
   ],
   "cell_type": "markdown",
   "metadata": {}
  },
  {
   "source": [
    "スカラー値をログ記録するには、add_scalar(tag, scalar_value, global_step=None, walltime=None) を使用する．\n",
    "例えば、単純な線形回帰訓練を作成して、add_scalar を使用して損失値をログ記録する場合:"
   ],
   "cell_type": "markdown",
   "metadata": {}
  },
  {
   "cell_type": "code",
   "execution_count": 56,
   "metadata": {},
   "outputs": [],
   "source": [
    "# imports\n",
    "import matplotlib.pyplot as plt\n",
    "import numpy as np\n",
    "\n",
    "import torch\n",
    "import torchvision\n",
    "import torchvision.transforms as transforms\n",
    "\n",
    "import torch.nn as nn\n",
    "import torch.nn.functional as F\n",
    "import torch.optim as optim\n",
    "\n",
    "# transforms\n",
    "transform = transforms.Compose(\n",
    "    [transforms.ToTensor(),\n",
    "    transforms.Normalize((0.5,), (0.5,))])\n",
    "\n",
    "# datasets\n",
    "#trainset = torchvision.datasets.FashionMNIST('./data', download=True, train=True, transform=transform)\n",
    "trainset = torchvision.datasets.FashionMNIST(cfg.DATA_DIR, download=True, train=True, transform=transform)\n",
    "#testset = torchvision.datasets.FashionMNIST('./data', download=True, train=False, transform=transform)\n",
    "testset = torchvision.datasets.FashionMNIST(cfg.DATA_DIR, download=True, train=False, transform=transform)\n",
    "\n",
    "# dataloaders\n",
    "trainloader = torch.utils.data.DataLoader(trainset, batch_size=4, shuffle=True, num_workers=2)\n",
    "\n",
    "\n",
    "testloader = torch.utils.data.DataLoader(testset, batch_size=4, shuffle=False, num_workers=2)\n",
    "\n",
    "# constant for classes\n",
    "classes = ('T-shirt/top',\n",
    "                'Trouser',\n",
    "                'Pullover',\n",
    "                'Dress',\n",
    "                'Coat',\n",
    "                'Sandal',\n",
    "                'Shirt',\n",
    "                'Sneaker',\n",
    "                'Bag',\n",
    "                'Ankle Boot')\n",
    "\n",
    "# helper function to show an image\n",
    "# (used in the `plot_classes_preds` function below)\n",
    "def matplotlib_imshow(img, one_channel=False):\n",
    "    if one_channel:\n",
    "        img = img.mean(dim=0)\n",
    "    img = img / 2 + 0.5     # unnormalize\n",
    "    npimg = img.numpy()\n",
    "    if one_channel:\n",
    "        plt.imshow(npimg, cmap=\"Greys\")\n",
    "    else:\n",
    "        plt.imshow(np.transpose(npimg, (1, 2, 0)))"
   ]
  },
  {
   "cell_type": "code",
   "execution_count": 57,
   "metadata": {},
   "outputs": [],
   "source": [
    "class Net(nn.Module):\n",
    "    def __init__(self):\n",
    "        super(Net, self).__init__()\n",
    "        self.conv1 = nn.Conv2d(1, 6, 5)\n",
    "        self.pool = nn.MaxPool2d(2, 2)\n",
    "        self.conv2 = nn.Conv2d(6, 16, 5)\n",
    "        self.fc1 = nn.Linear(16 * 4 * 4, 120)\n",
    "        self.fc2 = nn.Linear(120, 84)\n",
    "        self.fc3 = nn.Linear(84, 10)\n",
    "\n",
    "    def forward(self, x):\n",
    "        x = self.pool(F.relu(self.conv1(x)))\n",
    "        x = self.pool(F.relu(self.conv2(x)))\n",
    "        x = x.view(-1, 16 * 4 * 4)\n",
    "        x = F.relu(self.fc1(x))\n",
    "        x = F.relu(self.fc2(x))\n",
    "        x = self.fc3(x)\n",
    "        return x\n",
    "\n",
    "\n",
    "net = Net()"
   ]
  },
  {
   "cell_type": "code",
   "execution_count": 58,
   "metadata": {},
   "outputs": [],
   "source": [
    "criterion = nn.CrossEntropyLoss()\r\n",
    "optimizer = optim.SGD(net.parameters(), lr=0.001, momentum=0.9)"
   ]
  },
  {
   "source": [
    "## 2. TensorBoard に書く"
   ],
   "cell_type": "markdown",
   "metadata": {}
  },
  {
   "cell_type": "code",
   "execution_count": 59,
   "metadata": {},
   "outputs": [
    {
     "output_type": "display_data",
     "data": {
      "text/plain": "<Figure size 432x288 with 1 Axes>",
      "image/svg+xml": "<?xml version=\"1.0\" encoding=\"utf-8\" standalone=\"no\"?>\r\n<!DOCTYPE svg PUBLIC \"-//W3C//DTD SVG 1.1//EN\"\r\n  \"http://www.w3.org/Graphics/SVG/1.1/DTD/svg11.dtd\">\r\n<!-- Created with matplotlib (https://matplotlib.org/) -->\r\n<svg height=\"121.321606pt\" version=\"1.1\" viewBox=\"0 0 374.352357 121.321606\" width=\"374.352357pt\" xmlns=\"http://www.w3.org/2000/svg\" xmlns:xlink=\"http://www.w3.org/1999/xlink\">\r\n <metadata>\r\n  <rdf:RDF xmlns:cc=\"http://creativecommons.org/ns#\" xmlns:dc=\"http://purl.org/dc/elements/1.1/\" xmlns:rdf=\"http://www.w3.org/1999/02/22-rdf-syntax-ns#\">\r\n   <cc:Work>\r\n    <dc:type rdf:resource=\"http://purl.org/dc/dcmitype/StillImage\"/>\r\n    <dc:date>2021-04-06T16:26:32.434793</dc:date>\r\n    <dc:format>image/svg+xml</dc:format>\r\n    <dc:creator>\r\n     <cc:Agent>\r\n      <dc:title>Matplotlib v3.3.4, https://matplotlib.org/</dc:title>\r\n     </cc:Agent>\r\n    </dc:creator>\r\n   </cc:Work>\r\n  </rdf:RDF>\r\n </metadata>\r\n <defs>\r\n  <style type=\"text/css\">*{stroke-linecap:butt;stroke-linejoin:round;}</style>\r\n </defs>\r\n <g id=\"figure_1\">\r\n  <g id=\"patch_1\">\r\n   <path d=\"M -0 121.321606 \r\nL 374.352357 121.321606 \r\nL 374.352357 0 \r\nL -0 0 \r\nz\r\n\" style=\"fill:none;\"/>\r\n  </g>\r\n  <g id=\"axes_1\">\r\n   <g id=\"patch_2\">\r\n    <path d=\"M 26.925 97.443481 \r\nL 361.725 97.443481 \r\nL 361.725 9.627088 \r\nL 26.925 9.627088 \r\nz\r\n\" style=\"fill:#ffffff;\"/>\r\n   </g>\r\n   <g clip-path=\"url(#p5e1a3496c7)\">\r\n    <image height=\"88\" id=\"imagee060df7b74\" transform=\"scale(1 -1)translate(0 -88)\" width=\"335\" x=\"26.925\" xlink:href=\"data:image/png;base64,\r\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\" y=\"-9.443481\"/>\r\n   </g>\r\n   <g id=\"matplotlib.axis_1\">\r\n    <g id=\"xtick_1\">\r\n     <g id=\"line2d_1\">\r\n      <defs>\r\n       <path d=\"M 0 0 \r\nL 0 3.5 \r\n\" id=\"m7918467426\" style=\"stroke:#000000;stroke-width:0.8;\"/>\r\n      </defs>\r\n      <g>\r\n       <use style=\"stroke:#000000;stroke-width:0.8;\" x=\"28.297131\" xlink:href=\"#m7918467426\" y=\"97.443481\"/>\r\n      </g>\r\n     </g>\r\n     <g id=\"text_1\">\r\n      <!-- 0 -->\r\n      <g transform=\"translate(25.115881 112.041919)scale(0.1 -0.1)\">\r\n       <defs>\r\n        <path d=\"M 31.78125 66.40625 \r\nQ 24.171875 66.40625 20.328125 58.90625 \r\nQ 16.5 51.421875 16.5 36.375 \r\nQ 16.5 21.390625 20.328125 13.890625 \r\nQ 24.171875 6.390625 31.78125 6.390625 \r\nQ 39.453125 6.390625 43.28125 13.890625 \r\nQ 47.125 21.390625 47.125 36.375 \r\nQ 47.125 51.421875 43.28125 58.90625 \r\nQ 39.453125 66.40625 31.78125 66.40625 \r\nz\r\nM 31.78125 74.21875 \r\nQ 44.046875 74.21875 50.515625 64.515625 \r\nQ 56.984375 54.828125 56.984375 36.375 \r\nQ 56.984375 17.96875 50.515625 8.265625 \r\nQ 44.046875 -1.421875 31.78125 -1.421875 \r\nQ 19.53125 -1.421875 13.0625 8.265625 \r\nQ 6.59375 17.96875 6.59375 36.375 \r\nQ 6.59375 54.828125 13.0625 64.515625 \r\nQ 19.53125 74.21875 31.78125 74.21875 \r\nz\r\n\" id=\"DejaVuSans-48\"/>\r\n       </defs>\r\n       <use xlink:href=\"#DejaVuSans-48\"/>\r\n      </g>\r\n     </g>\r\n    </g>\r\n    <g id=\"xtick_2\">\r\n     <g id=\"line2d_2\">\r\n      <g>\r\n       <use style=\"stroke:#000000;stroke-width:0.8;\" x=\"83.182377\" xlink:href=\"#m7918467426\" y=\"97.443481\"/>\r\n      </g>\r\n     </g>\r\n     <g id=\"text_2\">\r\n      <!-- 20 -->\r\n      <g transform=\"translate(76.819877 112.041919)scale(0.1 -0.1)\">\r\n       <defs>\r\n        <path d=\"M 19.1875 8.296875 \r\nL 53.609375 8.296875 \r\nL 53.609375 0 \r\nL 7.328125 0 \r\nL 7.328125 8.296875 \r\nQ 12.9375 14.109375 22.625 23.890625 \r\nQ 32.328125 33.6875 34.8125 36.53125 \r\nQ 39.546875 41.84375 41.421875 45.53125 \r\nQ 43.3125 49.21875 43.3125 52.78125 \r\nQ 43.3125 58.59375 39.234375 62.25 \r\nQ 35.15625 65.921875 28.609375 65.921875 \r\nQ 23.96875 65.921875 18.8125 64.3125 \r\nQ 13.671875 62.703125 7.8125 59.421875 \r\nL 7.8125 69.390625 \r\nQ 13.765625 71.78125 18.9375 73 \r\nQ 24.125 74.21875 28.421875 74.21875 \r\nQ 39.75 74.21875 46.484375 68.546875 \r\nQ 53.21875 62.890625 53.21875 53.421875 \r\nQ 53.21875 48.921875 51.53125 44.890625 \r\nQ 49.859375 40.875 45.40625 35.40625 \r\nQ 44.1875 33.984375 37.640625 27.21875 \r\nQ 31.109375 20.453125 19.1875 8.296875 \r\nz\r\n\" id=\"DejaVuSans-50\"/>\r\n       </defs>\r\n       <use xlink:href=\"#DejaVuSans-50\"/>\r\n       <use x=\"63.623047\" xlink:href=\"#DejaVuSans-48\"/>\r\n      </g>\r\n     </g>\r\n    </g>\r\n    <g id=\"xtick_3\">\r\n     <g id=\"line2d_3\">\r\n      <g>\r\n       <use style=\"stroke:#000000;stroke-width:0.8;\" x=\"138.067623\" xlink:href=\"#m7918467426\" y=\"97.443481\"/>\r\n      </g>\r\n     </g>\r\n     <g id=\"text_3\">\r\n      <!-- 40 -->\r\n      <g transform=\"translate(131.705123 112.041919)scale(0.1 -0.1)\">\r\n       <defs>\r\n        <path d=\"M 37.796875 64.3125 \r\nL 12.890625 25.390625 \r\nL 37.796875 25.390625 \r\nz\r\nM 35.203125 72.90625 \r\nL 47.609375 72.90625 \r\nL 47.609375 25.390625 \r\nL 58.015625 25.390625 \r\nL 58.015625 17.1875 \r\nL 47.609375 17.1875 \r\nL 47.609375 0 \r\nL 37.796875 0 \r\nL 37.796875 17.1875 \r\nL 4.890625 17.1875 \r\nL 4.890625 26.703125 \r\nz\r\n\" id=\"DejaVuSans-52\"/>\r\n       </defs>\r\n       <use xlink:href=\"#DejaVuSans-52\"/>\r\n       <use x=\"63.623047\" xlink:href=\"#DejaVuSans-48\"/>\r\n      </g>\r\n     </g>\r\n    </g>\r\n    <g id=\"xtick_4\">\r\n     <g id=\"line2d_4\">\r\n      <g>\r\n       <use style=\"stroke:#000000;stroke-width:0.8;\" x=\"192.952869\" xlink:href=\"#m7918467426\" y=\"97.443481\"/>\r\n      </g>\r\n     </g>\r\n     <g id=\"text_4\">\r\n      <!-- 60 -->\r\n      <g transform=\"translate(186.590369 112.041919)scale(0.1 -0.1)\">\r\n       <defs>\r\n        <path d=\"M 33.015625 40.375 \r\nQ 26.375 40.375 22.484375 35.828125 \r\nQ 18.609375 31.296875 18.609375 23.390625 \r\nQ 18.609375 15.53125 22.484375 10.953125 \r\nQ 26.375 6.390625 33.015625 6.390625 \r\nQ 39.65625 6.390625 43.53125 10.953125 \r\nQ 47.40625 15.53125 47.40625 23.390625 \r\nQ 47.40625 31.296875 43.53125 35.828125 \r\nQ 39.65625 40.375 33.015625 40.375 \r\nz\r\nM 52.59375 71.296875 \r\nL 52.59375 62.3125 \r\nQ 48.875 64.0625 45.09375 64.984375 \r\nQ 41.3125 65.921875 37.59375 65.921875 \r\nQ 27.828125 65.921875 22.671875 59.328125 \r\nQ 17.53125 52.734375 16.796875 39.40625 \r\nQ 19.671875 43.65625 24.015625 45.921875 \r\nQ 28.375 48.1875 33.59375 48.1875 \r\nQ 44.578125 48.1875 50.953125 41.515625 \r\nQ 57.328125 34.859375 57.328125 23.390625 \r\nQ 57.328125 12.15625 50.6875 5.359375 \r\nQ 44.046875 -1.421875 33.015625 -1.421875 \r\nQ 20.359375 -1.421875 13.671875 8.265625 \r\nQ 6.984375 17.96875 6.984375 36.375 \r\nQ 6.984375 53.65625 15.1875 63.9375 \r\nQ 23.390625 74.21875 37.203125 74.21875 \r\nQ 40.921875 74.21875 44.703125 73.484375 \r\nQ 48.484375 72.75 52.59375 71.296875 \r\nz\r\n\" id=\"DejaVuSans-54\"/>\r\n       </defs>\r\n       <use xlink:href=\"#DejaVuSans-54\"/>\r\n       <use x=\"63.623047\" xlink:href=\"#DejaVuSans-48\"/>\r\n      </g>\r\n     </g>\r\n    </g>\r\n    <g id=\"xtick_5\">\r\n     <g id=\"line2d_5\">\r\n      <g>\r\n       <use style=\"stroke:#000000;stroke-width:0.8;\" x=\"247.838115\" xlink:href=\"#m7918467426\" y=\"97.443481\"/>\r\n      </g>\r\n     </g>\r\n     <g id=\"text_5\">\r\n      <!-- 80 -->\r\n      <g transform=\"translate(241.475615 112.041919)scale(0.1 -0.1)\">\r\n       <defs>\r\n        <path d=\"M 31.78125 34.625 \r\nQ 24.75 34.625 20.71875 30.859375 \r\nQ 16.703125 27.09375 16.703125 20.515625 \r\nQ 16.703125 13.921875 20.71875 10.15625 \r\nQ 24.75 6.390625 31.78125 6.390625 \r\nQ 38.8125 6.390625 42.859375 10.171875 \r\nQ 46.921875 13.96875 46.921875 20.515625 \r\nQ 46.921875 27.09375 42.890625 30.859375 \r\nQ 38.875 34.625 31.78125 34.625 \r\nz\r\nM 21.921875 38.8125 \r\nQ 15.578125 40.375 12.03125 44.71875 \r\nQ 8.5 49.078125 8.5 55.328125 \r\nQ 8.5 64.0625 14.71875 69.140625 \r\nQ 20.953125 74.21875 31.78125 74.21875 \r\nQ 42.671875 74.21875 48.875 69.140625 \r\nQ 55.078125 64.0625 55.078125 55.328125 \r\nQ 55.078125 49.078125 51.53125 44.71875 \r\nQ 48 40.375 41.703125 38.8125 \r\nQ 48.828125 37.15625 52.796875 32.3125 \r\nQ 56.78125 27.484375 56.78125 20.515625 \r\nQ 56.78125 9.90625 50.3125 4.234375 \r\nQ 43.84375 -1.421875 31.78125 -1.421875 \r\nQ 19.734375 -1.421875 13.25 4.234375 \r\nQ 6.78125 9.90625 6.78125 20.515625 \r\nQ 6.78125 27.484375 10.78125 32.3125 \r\nQ 14.796875 37.15625 21.921875 38.8125 \r\nz\r\nM 18.3125 54.390625 \r\nQ 18.3125 48.734375 21.84375 45.5625 \r\nQ 25.390625 42.390625 31.78125 42.390625 \r\nQ 38.140625 42.390625 41.71875 45.5625 \r\nQ 45.3125 48.734375 45.3125 54.390625 \r\nQ 45.3125 60.0625 41.71875 63.234375 \r\nQ 38.140625 66.40625 31.78125 66.40625 \r\nQ 25.390625 66.40625 21.84375 63.234375 \r\nQ 18.3125 60.0625 18.3125 54.390625 \r\nz\r\n\" id=\"DejaVuSans-56\"/>\r\n       </defs>\r\n       <use xlink:href=\"#DejaVuSans-56\"/>\r\n       <use x=\"63.623047\" xlink:href=\"#DejaVuSans-48\"/>\r\n      </g>\r\n     </g>\r\n    </g>\r\n    <g id=\"xtick_6\">\r\n     <g id=\"line2d_6\">\r\n      <g>\r\n       <use style=\"stroke:#000000;stroke-width:0.8;\" x=\"302.723361\" xlink:href=\"#m7918467426\" y=\"97.443481\"/>\r\n      </g>\r\n     </g>\r\n     <g id=\"text_6\">\r\n      <!-- 100 -->\r\n      <g transform=\"translate(293.179611 112.041919)scale(0.1 -0.1)\">\r\n       <defs>\r\n        <path d=\"M 12.40625 8.296875 \r\nL 28.515625 8.296875 \r\nL 28.515625 63.921875 \r\nL 10.984375 60.40625 \r\nL 10.984375 69.390625 \r\nL 28.421875 72.90625 \r\nL 38.28125 72.90625 \r\nL 38.28125 8.296875 \r\nL 54.390625 8.296875 \r\nL 54.390625 0 \r\nL 12.40625 0 \r\nz\r\n\" id=\"DejaVuSans-49\"/>\r\n       </defs>\r\n       <use xlink:href=\"#DejaVuSans-49\"/>\r\n       <use x=\"63.623047\" xlink:href=\"#DejaVuSans-48\"/>\r\n       <use x=\"127.246094\" xlink:href=\"#DejaVuSans-48\"/>\r\n      </g>\r\n     </g>\r\n    </g>\r\n    <g id=\"xtick_7\">\r\n     <g id=\"line2d_7\">\r\n      <g>\r\n       <use style=\"stroke:#000000;stroke-width:0.8;\" x=\"357.608607\" xlink:href=\"#m7918467426\" y=\"97.443481\"/>\r\n      </g>\r\n     </g>\r\n     <g id=\"text_7\">\r\n      <!-- 120 -->\r\n      <g transform=\"translate(348.064857 112.041919)scale(0.1 -0.1)\">\r\n       <use xlink:href=\"#DejaVuSans-49\"/>\r\n       <use x=\"63.623047\" xlink:href=\"#DejaVuSans-50\"/>\r\n       <use x=\"127.246094\" xlink:href=\"#DejaVuSans-48\"/>\r\n      </g>\r\n     </g>\r\n    </g>\r\n   </g>\r\n   <g id=\"matplotlib.axis_2\">\r\n    <g id=\"ytick_1\">\r\n     <g id=\"line2d_8\">\r\n      <defs>\r\n       <path d=\"M 0 0 \r\nL -3.5 0 \r\n\" id=\"ma2caccec09\" style=\"stroke:#000000;stroke-width:0.8;\"/>\r\n      </defs>\r\n      <g>\r\n       <use style=\"stroke:#000000;stroke-width:0.8;\" x=\"26.925\" xlink:href=\"#ma2caccec09\" y=\"10.999219\"/>\r\n      </g>\r\n     </g>\r\n     <g id=\"text_8\">\r\n      <!-- 0 -->\r\n      <g transform=\"translate(13.5625 14.798437)scale(0.1 -0.1)\">\r\n       <use xlink:href=\"#DejaVuSans-48\"/>\r\n      </g>\r\n     </g>\r\n    </g>\r\n    <g id=\"ytick_2\">\r\n     <g id=\"line2d_9\">\r\n      <g>\r\n       <use style=\"stroke:#000000;stroke-width:0.8;\" x=\"26.925\" xlink:href=\"#ma2caccec09\" y=\"38.441842\"/>\r\n      </g>\r\n     </g>\r\n     <g id=\"text_9\">\r\n      <!-- 10 -->\r\n      <g transform=\"translate(7.2 42.24106)scale(0.1 -0.1)\">\r\n       <use xlink:href=\"#DejaVuSans-49\"/>\r\n       <use x=\"63.623047\" xlink:href=\"#DejaVuSans-48\"/>\r\n      </g>\r\n     </g>\r\n    </g>\r\n    <g id=\"ytick_3\">\r\n     <g id=\"line2d_10\">\r\n      <g>\r\n       <use style=\"stroke:#000000;stroke-width:0.8;\" x=\"26.925\" xlink:href=\"#ma2caccec09\" y=\"65.884465\"/>\r\n      </g>\r\n     </g>\r\n     <g id=\"text_10\">\r\n      <!-- 20 -->\r\n      <g transform=\"translate(7.2 69.683683)scale(0.1 -0.1)\">\r\n       <use xlink:href=\"#DejaVuSans-50\"/>\r\n       <use x=\"63.623047\" xlink:href=\"#DejaVuSans-48\"/>\r\n      </g>\r\n     </g>\r\n    </g>\r\n    <g id=\"ytick_4\">\r\n     <g id=\"line2d_11\">\r\n      <g>\r\n       <use style=\"stroke:#000000;stroke-width:0.8;\" x=\"26.925\" xlink:href=\"#ma2caccec09\" y=\"93.327088\"/>\r\n      </g>\r\n     </g>\r\n     <g id=\"text_11\">\r\n      <!-- 30 -->\r\n      <g transform=\"translate(7.2 97.126306)scale(0.1 -0.1)\">\r\n       <defs>\r\n        <path d=\"M 40.578125 39.3125 \r\nQ 47.65625 37.796875 51.625 33 \r\nQ 55.609375 28.21875 55.609375 21.1875 \r\nQ 55.609375 10.40625 48.1875 4.484375 \r\nQ 40.765625 -1.421875 27.09375 -1.421875 \r\nQ 22.515625 -1.421875 17.65625 -0.515625 \r\nQ 12.796875 0.390625 7.625 2.203125 \r\nL 7.625 11.71875 \r\nQ 11.71875 9.328125 16.59375 8.109375 \r\nQ 21.484375 6.890625 26.8125 6.890625 \r\nQ 36.078125 6.890625 40.9375 10.546875 \r\nQ 45.796875 14.203125 45.796875 21.1875 \r\nQ 45.796875 27.640625 41.28125 31.265625 \r\nQ 36.765625 34.90625 28.71875 34.90625 \r\nL 20.21875 34.90625 \r\nL 20.21875 43.015625 \r\nL 29.109375 43.015625 \r\nQ 36.375 43.015625 40.234375 45.921875 \r\nQ 44.09375 48.828125 44.09375 54.296875 \r\nQ 44.09375 59.90625 40.109375 62.90625 \r\nQ 36.140625 65.921875 28.71875 65.921875 \r\nQ 24.65625 65.921875 20.015625 65.03125 \r\nQ 15.375 64.15625 9.8125 62.3125 \r\nL 9.8125 71.09375 \r\nQ 15.4375 72.65625 20.34375 73.4375 \r\nQ 25.25 74.21875 29.59375 74.21875 \r\nQ 40.828125 74.21875 47.359375 69.109375 \r\nQ 53.90625 64.015625 53.90625 55.328125 \r\nQ 53.90625 49.265625 50.4375 45.09375 \r\nQ 46.96875 40.921875 40.578125 39.3125 \r\nz\r\n\" id=\"DejaVuSans-51\"/>\r\n       </defs>\r\n       <use xlink:href=\"#DejaVuSans-51\"/>\r\n       <use x=\"63.623047\" xlink:href=\"#DejaVuSans-48\"/>\r\n      </g>\r\n     </g>\r\n    </g>\r\n   </g>\r\n   <g id=\"patch_3\">\r\n    <path d=\"M 26.925 97.443481 \r\nL 26.925 9.627088 \r\n\" style=\"fill:none;stroke:#000000;stroke-linecap:square;stroke-linejoin:miter;stroke-width:0.8;\"/>\r\n   </g>\r\n   <g id=\"patch_4\">\r\n    <path d=\"M 361.725 97.443481 \r\nL 361.725 9.627088 \r\n\" style=\"fill:none;stroke:#000000;stroke-linecap:square;stroke-linejoin:miter;stroke-width:0.8;\"/>\r\n   </g>\r\n   <g id=\"patch_5\">\r\n    <path d=\"M 26.925 97.443481 \r\nL 361.725 97.443481 \r\n\" style=\"fill:none;stroke:#000000;stroke-linecap:square;stroke-linejoin:miter;stroke-width:0.8;\"/>\r\n   </g>\r\n   <g id=\"patch_6\">\r\n    <path d=\"M 26.925 9.627088 \r\nL 361.725 9.627088 \r\n\" style=\"fill:none;stroke:#000000;stroke-linecap:square;stroke-linejoin:miter;stroke-width:0.8;\"/>\r\n   </g>\r\n  </g>\r\n </g>\r\n <defs>\r\n  <clipPath id=\"p5e1a3496c7\">\r\n   <rect height=\"87.816393\" width=\"334.8\" x=\"26.925\" y=\"9.627088\"/>\r\n  </clipPath>\r\n </defs>\r\n</svg>\r\n",
      "image/png": "[encoded data removed]"
     },
     "metadata": {
      "needs_background": "light"
     }
    }
   ],
   "source": [
    "# get some random training images\n",
    "dataiter = iter(trainloader)\n",
    "images, labels = dataiter.next()\n",
    "\n",
    "# create grid of images\n",
    "img_grid = torchvision.utils.make_grid(images)\n",
    "\n",
    "# show images\n",
    "matplotlib_imshow(img_grid, one_channel=True)\n",
    "\n",
    "# write to tensorboard\n",
    "writer.add_image('four_fashion_mnist_images', img_grid)"
   ]
  },
  {
   "cell_type": "code",
   "execution_count": 60,
   "metadata": {},
   "outputs": [],
   "source": [
    "writer.add_graph(net, images)\n",
    "writer.close()"
   ]
  },
  {
   "cell_type": "code",
   "execution_count": 61,
   "metadata": {},
   "outputs": [],
   "source": [
    "# helper functions\n",
    "\n",
    "def images_to_probs(net, images):\n",
    "    '''\n",
    "    Generates predictions and corresponding probabilities from a trained\n",
    "    network and a list of images\n",
    "    '''\n",
    "    output = net(images)\n",
    "    # convert output probabilities to predicted class\n",
    "    _, preds_tensor = torch.max(output, 1)\n",
    "    preds = np.squeeze(preds_tensor.numpy())\n",
    "    return preds, [F.softmax(el, dim=0)[i].item() for i, el in zip(preds, output)]\n",
    "\n",
    "\n",
    "def plot_classes_preds(net, images, labels):\n",
    "    '''\n",
    "    Generates matplotlib Figure using a trained network, along with images\n",
    "    and labels from a batch, that shows the network's top prediction along\n",
    "    with its probability, alongside the actual label, coloring this\n",
    "    information based on whether the prediction was correct or not.\n",
    "    Uses the \"images_to_probs\" function.\n",
    "    '''\n",
    "    preds, probs = images_to_probs(net, images)\n",
    "    # plot the images in the batch, along with predicted and true labels\n",
    "    fig = plt.figure(figsize=(12, 48))\n",
    "    for idx in np.arange(4):\n",
    "        ax = fig.add_subplot(1, 4, idx+1, xticks=[], yticks=[])\n",
    "        matplotlib_imshow(images[idx], one_channel=True)\n",
    "        ax.set_title(\"{0}, {1:.1f}%\\n(label: {2})\".format(\n",
    "            classes[preds[idx]],\n",
    "            probs[idx] * 100.0,\n",
    "            classes[labels[idx]]),\n",
    "                    color=(\"green\" if preds[idx]==labels[idx].item() else \"red\"))\n",
    "    return fig"
   ]
  },
  {
   "cell_type": "code",
   "execution_count": 62,
   "metadata": {},
   "outputs": [
    {
     "output_type": "stream",
     "name": "stdout",
     "text": [
      "Finished Training\n"
     ]
    }
   ],
   "source": [
    "running_loss = 0.0\n",
    "for epoch in range(1):  # loop over the dataset multiple times\n",
    "\n",
    "    for i, data in enumerate(trainloader, 0):\n",
    "\n",
    "        # get the inputs; data is a list of [inputs, labels]\n",
    "        inputs, labels = data\n",
    "\n",
    "        # zero the parameter gradients\n",
    "        optimizer.zero_grad()\n",
    "\n",
    "        # forward + backward + optimize\n",
    "        outputs = net(inputs)\n",
    "        loss = criterion(outputs, labels)\n",
    "        loss.backward()\n",
    "        optimizer.step()\n",
    "\n",
    "        running_loss += loss.item()\n",
    "        if i % 1000 == 999:    # every 1000 mini-batches...\n",
    "\n",
    "            # ...log the running loss\n",
    "            writer.add_scalar('training loss',\n",
    "                            running_loss / 1000,\n",
    "                            epoch * len(trainloader) + i)\n",
    "\n",
    "            # ...log a Matplotlib Figure showing the model's predictions on a\n",
    "            # random mini-batch\n",
    "            writer.add_figure('predictions vs. actuals',\n",
    "                            plot_classes_preds(net, inputs, labels),\n",
    "                            global_step=epoch * len(trainloader) + i)\n",
    "            running_loss = 0.0\n",
    "print('Finished Training')"
   ]
  },
  {
   "source": [
    "## magics を使って，ノートブック内で TensorBoard を起動する．"
   ],
   "cell_type": "markdown",
   "metadata": {}
  },
  {
   "cell_type": "code",
   "execution_count": 63,
   "metadata": {},
   "outputs": [],
   "source": [
    "import cgi, html\n",
    "cgi.escape = html.escape"
   ]
  },
  {
   "cell_type": "code",
   "execution_count": 64,
   "metadata": {},
   "outputs": [
    {
     "output_type": "display_data",
     "data": {
      "text/plain": "Reusing TensorBoard on port 6006 (pid 7344), started 3:11:43 ago. (Use '!kill 7344' to kill it.)"
     },
     "metadata": {}
    }
   ],
   "source": [
    "%tensorboard --logdir=log_dir"
   ]
  },
  {
   "cell_type": "code",
   "execution_count": 65,
   "metadata": {},
   "outputs": [],
   "source": [
    "# summary writer を必要としない場合，close()メソッドを呼び出す\n",
    "writer.close()"
   ]
  },
  {
   "cell_type": "code",
   "execution_count": 66,
   "metadata": {},
   "outputs": [
    {
     "output_type": "stream",
     "name": "stdout",
     "text": [
      "Known TensorBoard instances:\n  - port 6006: logdir log_dir (started 5:14:00 ago; pid 15984)\n  - port 6006: logdir log_file (started 3:06:58 ago; pid 27328)\n  - port 6006: logdir log_dir/ (started 1:56:21 ago; pid 27344)\n  - port 6006: logdir logs (started 5:02:08 ago; pid 6288)\n  - port 6006: logdir log_dir (started 3:11:43 ago; pid 7344)\n"
     ]
    }
   ],
   "source": [
    "from tensorboard import notebook\n",
    "notebook.list() # View open TensorBoard instances"
   ]
  },
  {
   "cell_type": "code",
   "execution_count": 67,
   "metadata": {},
   "outputs": [
    {
     "output_type": "stream",
     "name": "stdout",
     "text": [
      "Selecting TensorBoard with logdir log_dir/ (started 1:56:21 ago; port 6006, pid 27344).\n"
     ]
    },
    {
     "output_type": "display_data",
     "data": {
      "text/plain": "<IPython.core.display.HTML object>",
      "text/html": "\n      <iframe id=\"tensorboard-frame-4729e0cea3f71c9e\" width=\"100%\" height=\"1000\" frameborder=\"0\">\n      </iframe>\n      <script>\n        (function() {\n          const frame = document.getElementById(\"tensorboard-frame-4729e0cea3f71c9e\");\n          const url = new URL(\"http://localhost\");\n          const port = 6006;\n          if (port) {\n            url.port = port;\n          }\n          frame.src = url;\n        })();\n      </script>\n    "
     },
     "metadata": {}
    }
   ],
   "source": [
    "# Control TensorBoard display. If no port is provided, \n",
    "# the most recently launched TensorBoard is used\n",
    "notebook.display(port=6006, height=1000)"
   ]
  },
  {
   "cell_type": "code",
   "execution_count": null,
   "metadata": {},
   "outputs": [],
   "source": []
  }
 ]
}