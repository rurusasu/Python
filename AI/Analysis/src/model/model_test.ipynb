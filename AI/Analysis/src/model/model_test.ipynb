{
 "metadata": {
  "language_info": {
   "codemirror_mode": {
    "name": "ipython",
    "version": 3
   },
   "file_extension": ".py",
   "mimetype": "text/x-python",
   "name": "python",
   "nbconvert_exporter": "python",
   "pygments_lexer": "ipython3",
   "version": "3.8.8"
  },
  "orig_nbformat": 4,
  "kernelspec": {
   "name": "python3",
   "display_name": "Python 3.8.8 64-bit ('base': conda)"
  },
  "interpreter": {
   "hash": "0eecd040b31a140d4c1a4abfb9821f369b6a9e45dafd8a2bb8398d6490c0b8f2"
  }
 },
 "nbformat": 4,
 "nbformat_minor": 2,
 "cells": [
  {
   "cell_type": "code",
   "execution_count": 173,
   "metadata": {},
   "outputs": [],
   "source": [
    "import torch\n",
    "import torch.nn as nn"
   ]
  },
  {
   "cell_type": "code",
   "execution_count": 174,
   "metadata": {},
   "outputs": [],
   "source": [
    "#input = torch.randn(1, 512, 10, 10)\n",
    "#print(input.size())\n",
    "#input = input.view(input.size()[0], -1)\n",
    "#print(input.size())"
   ]
  },
  {
   "cell_type": "code",
   "execution_count": 175,
   "metadata": {},
   "outputs": [],
   "source": [
    "#num_class = 1000\n",
    "#fc = nn.Linear(512, num_class)\n",
    "#fc = nn.Linear(512, num_class)"
   ]
  },
  {
   "cell_type": "code",
   "execution_count": 176,
   "metadata": {},
   "outputs": [],
   "source": [
    "#output = fc(input)\n",
    "#print(output.size())"
   ]
  },
  {
   "cell_type": "code",
   "execution_count": 177,
   "metadata": {},
   "outputs": [],
   "source": [
    "from resnet_org import *"
   ]
  },
  {
   "cell_type": "code",
   "execution_count": 178,
   "metadata": {},
   "outputs": [],
   "source": [
    "resnet18_8s = resnet18(pretrained=True, fully_conv=True, output_stride=8, remove_avg_pool_layer=True)"
   ]
  },
  {
   "source": [
    "# model に渡す入力を作成"
   ],
   "cell_type": "markdown",
   "metadata": {}
  },
  {
   "cell_type": "code",
   "execution_count": 179,
   "metadata": {},
   "outputs": [],
   "source": [
    "import numpy as np\n",
    "h, w = 256, 256\n",
    "#img = np.random.uniform(-1, 1, [1, 3, h, w]).astype(np.float32)\n",
    "img = np.random.uniform(-1, 1, [h, w, 3]).astype(np.float32)"
   ]
  },
  {
   "cell_type": "code",
   "execution_count": 180,
   "metadata": {},
   "outputs": [],
   "source": [
    "#from matplotlib import pyplot as plt\n",
    "#%matplotlib inline\n",
    "\n",
    "#plt.imshow(img)\n",
    "#plt.show()"
   ]
  },
  {
   "source": [
    "# model に渡す配列に変換\n",
    "\n",
    "#print(\"before resize: {}\".format(img))\n",
    "img_rs = np.reshape(img, (1, 3, h, w))\n",
    "#print(img_rs)\n",
    "img_tensor = torch.tensor(img_rs)"
   ],
   "cell_type": "code",
   "metadata": {},
   "execution_count": 181,
   "outputs": []
  },
  {
   "cell_type": "code",
   "execution_count": 182,
   "metadata": {
    "tags": []
   },
   "outputs": [],
   "source": [
    "#out = resnet18_8s(img_tensor)\n",
    "#print(out)"
   ]
  },
  {
   "source": [
    "## FCN 作成用に ResNet の出力層と GAP 層 を取り除く"
   ],
   "cell_type": "markdown",
   "metadata": {}
  },
  {
   "cell_type": "code",
   "execution_count": 183,
   "metadata": {},
   "outputs": [],
   "source": [
    "# ロードした ResNet の最終2層\n",
    "#print(*list(resnet18_8s.children())[-2:])\n",
    "\n",
    "# ロードした ResNetの GAP 層と FC層を取り除く\n",
    "# 注！ロードしたResNetを別変数に代入した場合、x2sなど、途中から出力を取り出すことができなくなる。\n",
    "#resnet = nn.Sequential(*list(resnet18_8s.children())[:-2])\n",
    "\n",
    "#print(resnet)"
   ]
  },
  {
   "source": [
    "## アップサンプリング部分の設計"
   ],
   "cell_type": "markdown",
   "metadata": {}
  },
  {
   "cell_type": "code",
   "execution_count": 184,
   "metadata": {},
   "outputs": [],
   "source": [
    "fcdim = 256\n",
    "s16dim = 256\n",
    "s8dim = 128\n",
    "s4dim = 64\n",
    "s2dim = 32\n",
    "raw_dim = 32\n",
    "ver_dim = 2\n",
    "seg_dim = 2"
   ]
  },
  {
   "cell_type": "code",
   "execution_count": 185,
   "metadata": {},
   "outputs": [],
   "source": [
    "# print(resnet18_8s.inplanes) -> 512\n",
    "# ResNetの FC層を置き換えるための層\n",
    "fc = nn.Sequential(\n",
    "    nn.Conv2d(\n",
    "        resnet18_8s.inplanes,\n",
    "        fcdim,\n",
    "        kernel_size = 3,\n",
    "        stride = 1,\n",
    "        padding = 1,\n",
    "        bias=False),\n",
    "    nn.BatchNorm2d(fcdim),\n",
    "    nn.ReLU(True),\n",
    " )\n",
    "\n",
    "# x16s -> 256\n",
    "conv16s = nn.Sequential(\n",
    "    nn.Conv2d(256+ fcdim, s16dim, 3, 1, 1, bias=False),\n",
    "    nn.BatchNorm2d(s16dim),\n",
    "    nn.LeakyReLU(0.1, True),\n",
    ")\n",
    "up32sTo16s = nn.UpsamplingBilinear2d(scale_factor=2)\n",
    "\n",
    "# x8s -> 128\n",
    "conv8s = nn.Sequential(\n",
    "    nn.Conv2d(128 + fcdim, s8dim, 3, 1, 1, bias=False),\n",
    "    nn.BatchNorm2d(s8dim),\n",
    "    nn.LeakyReLU(0.1, True),\n",
    ")\n",
    "up16sTo8s = nn.UpsamplingBilinear2d(scale_factor=2)\n",
    "\n",
    "# x4s -> 64\n",
    "conv4s = nn.Sequential(\n",
    "    nn.Conv2d(64 + s8dim, s4dim, 3, 1, 1, bias=False),\n",
    "    nn.BatchNorm2d(s4dim),\n",
    "    nn.LeakyReLU(0.1, True),\n",
    ")\n",
    "up8sTo4s = nn.UpsamplingBilinear2d(scale_factor=2)\n",
    "\n",
    "# x2s -> 64\n",
    "conv2s = nn.Sequential(\n",
    "    nn.Conv2d(64 + s4dim, s2dim, 3, 1, 1, bias=False),\n",
    "    nn.BatchNorm2d(s2dim),\n",
    "    nn.LeakyReLU(0.1, True),\n",
    ")\n",
    "up4sTo2s = nn.UpsamplingBilinear2d(scale_factor=2)\n",
    "\n",
    "convraw = nn.Sequential(\n",
    "    nn.Conv2d(3 + s2dim, raw_dim, 3, 1, 1, bias=False),\n",
    "    nn.BatchNorm2d(raw_dim),\n",
    "    nn.LeakyReLU(0.1, True),\n",
    "    nn.Conv2d(raw_dim, seg_dim + ver_dim, 1, 1),\n",
    ")\n",
    "up2sToraw = nn.UpsamplingBilinear2d(scale_factor=2)"
   ]
  },
  {
   "source": [
    "## ResNet の FC 層を置き換える"
   ],
   "cell_type": "markdown",
   "metadata": {}
  },
  {
   "cell_type": "code",
   "execution_count": 186,
   "metadata": {},
   "outputs": [],
   "source": [
    "resnet18_8s.fc = fc"
   ]
  },
  {
   "cell_type": "code",
   "execution_count": 187,
   "metadata": {
    "tags": []
   },
   "outputs": [
    {
     "output_type": "stream",
     "name": "stdout",
     "text": [
      "x2s output = torch.Size([1, 64, 128, 128])\nx4s output = torch.Size([1, 64, 64, 64])\nx8s output = torch.Size([1, 128, 32, 32])\nx16s output = torch.Size([1, 256, 16, 16])\nx32s output = torch.Size([1, 512, 8, 8])\nxfc output = torch.Size([1, 256, 8, 8])\n"
     ]
    }
   ],
   "source": [
    "x = img_tensor\n",
    "#x2s, x4s, x8s, x16s, x32s = resnet(x)\n",
    "x2s, x4s, x8s, x16s, x32s, xfc = resnet18_8s(x)\n",
    "\n",
    "print(\"x2s output = {}\".format(x2s.size()))\n",
    "print(\"x4s output = {}\".format(x4s.size()))\n",
    "print(\"x8s output = {}\".format(x8s.size()))\n",
    "print(\"x16s output = {}\".format(x16s.size()))\n",
    "print(\"x32s output = {}\".format(x32s.size()))\n",
    "print(\"xfc output = {}\".format(xfc.size()))"
   ]
  },
  {
   "cell_type": "code",
   "execution_count": 188,
   "metadata": {},
   "outputs": [],
   "source": [
    "#up16sTo8s  = nn.UpsamplingBilinear2d(scale_factor=2)\n",
    "\n",
    "#fm = up16sTo8s(xfc)\n",
    "#torch.cat([fm, x16s], 1)\n",
    "#print(fm.size())"
   ]
  },
  {
   "cell_type": "code",
   "execution_count": 189,
   "metadata": {},
   "outputs": [
    {
     "output_type": "stream",
     "name": "stdout",
     "text": [
      "xfc output = torch.Size([1, 256, 8, 8])\n32s -> 16s output = torch.Size([1, 256, 16, 16])\n16s -> 8s output = torch.Size([1, 128, 32, 32])\n"
     ]
    }
   ],
   "source": [
    "print(\"xfc output = {}\".format(xfc.size()))\n",
    "fm = up32sTo16s(xfc)\n",
    "fm = conv16s(torch.cat([fm, x16s], 1))\n",
    "\n",
    "print(\"32s -> 16s output = {}\".format(fm.size()))\n",
    "fm = up16sTo8s(fm)\n",
    "fm = conv8s(torch.cat([fm, x8s], 1))\n",
    "\n",
    "print(\"16s -> 8s output = {}\".format(fm.size()))\n",
    "fm = up8sTo4s(fm)\n",
    "fm = conv4s(torch.cat([fm, x4s], 1))\n",
    "\n",
    "fm = up4sTo2s(fm)\n",
    "fm = conv2s(torch.cat([fm, x2s], 1))\n",
    "\n",
    "fm = up2sToraw(fm)\n",
    "x = convraw(torch.cat([fm, x], 1))\n",
    "seg_pred = x[:, : seg_dim, :, :]\n",
    "ver_pred = x[:, seg_dim :, :, :]"
   ]
  },
  {
   "cell_type": "code",
   "execution_count": null,
   "metadata": {},
   "outputs": [],
   "source": []
  }
 ]
}