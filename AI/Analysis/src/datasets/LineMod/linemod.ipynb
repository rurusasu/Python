{
 "metadata": {
  "language_info": {
   "codemirror_mode": {
    "name": "ipython",
    "version": 3
   },
   "file_extension": ".py",
   "mimetype": "text/x-python",
   "name": "python",
   "nbconvert_exporter": "python",
   "pygments_lexer": "ipython3",
   "version": "3.8.5"
  },
  "orig_nbformat": 2,
  "kernelspec": {
   "name": "python385jvsc74a57bd00eecd040b31a140d4c1a4abfb9821f369b6a9e45dafd8a2bb8398d6490c0b8f2",
   "display_name": "Python 3.8.5 64-bit ('base': conda)"
  },
  "metadata": {
   "interpreter": {
    "hash": "0eecd040b31a140d4c1a4abfb9821f369b6a9e45dafd8a2bb8398d6490c0b8f2"
   }
  }
 },
 "nbformat": 4,
 "nbformat_minor": 2,
 "cells": [
  {
   "source": [
    "# LineMOD データセット読み出し"
   ],
   "cell_type": "markdown",
   "metadata": {}
  },
  {
   "cell_type": "code",
   "execution_count": 3,
   "metadata": {},
   "outputs": [],
   "source": [
    "import os\n",
    "import sys\n",
    "sys.path.append(\".\")\n",
    "sys.path.append(\"..\")"
   ]
  },
  {
   "cell_type": "code",
   "execution_count": 4,
   "metadata": {},
   "outputs": [],
   "source": [
    "linemod_objects = [\n",
    "    \"ape\",\n",
    "    \"benchviseblue\",\n",
    "    \"bowl\",\n",
    "    \"cam\",\n",
    "    \"can\",\n",
    "    \"cat\",\n",
    "    \"cup\",\n",
    "    \"driller\",\n",
    "    \"duck\",\n",
    "    \"eggbox\",\n",
    "    \"glue\",\n",
    "    \"holepuncher\",\n",
    "    \"iron\",\n",
    "    \"lamp\",\n",
    "    \"phone\"\n",
    "]"
   ]
  },
  {
   "source": [
    "## パス設定"
   ],
   "cell_type": "markdown",
   "metadata": {}
  },
  {
   "cell_type": "code",
   "execution_count": 5,
   "metadata": {},
   "outputs": [],
   "source": [
    "from config.config import cfg\n",
    "\n",
    "base_dir = cfg.LINEMOD_DIR"
   ]
  },
  {
   "cell_type": "code",
   "execution_count": 6,
   "metadata": {},
   "outputs": [],
   "source": [
    "object_name = 'ape'\n",
    "\n",
    "if object_name == 'all':\n",
    "    object_names = linemod_objects\n",
    "elif object_name in linemod_objects:\n",
    "    object_names = [object_name]\n",
    "else:\n",
    "    raise ValueError('Invalid object name: {}'.format(object_name))"
   ]
  },
  {
   "source": [
    "## その他の設定"
   ],
   "cell_type": "markdown",
   "metadata": {}
  },
  {
   "cell_type": "code",
   "execution_count": 7,
   "metadata": {},
   "outputs": [
    {
     "output_type": "stream",
     "name": "stdout",
     "text": [
      "1236\n"
     ]
    }
   ],
   "source": [
    "img_shape = (480, 960) # (h, w)\n",
    "lengths = {}\n",
    "total_length = 0\n",
    "for object_name in object_names:\n",
    "    length = len(list(filter(lambda x:x.endswith('jpg'),\n",
    "                                                os.listdir(os.path.join(\n",
    "                                                    base_dir,\n",
    "                                                    object_name,\n",
    "                                                    'data')))))\n",
    "    lengths[object_name] = length\n",
    "    total_length += length\n",
    "\n",
    "print(total_length)"
   ]
  },
  {
   "source": [
    "|object name| number of datas |\n",
    "|---|---|\n",
    "| ape | 1236 |\n",
    "| benchviseblue | 1215 |\n",
    "| bowl | 1233 |\n",
    "| cam | 1201 |\n",
    "| can | 1196 |\n",
    "| cat | 1179 |\n",
    "| cup | 1240 |\n",
    "| driller | 1188 |\n",
    "| duck | 1254 |\n",
    "| eggbox | 1253 |\n",
    "| glue | 1220 |\n",
    "| holepuncher | 1237 |\n",
    "| iron | 1152 |\n",
    "| lamp | 1227 |\n",
    "| phone | 1243 |\n",
    "| all | 18274 |"
   ],
   "cell_type": "markdown",
   "metadata": {}
  },
  {
   "source": [
    "## 3d point の読み込み"
   ],
   "cell_type": "markdown",
   "metadata": {}
  },
  {
   "cell_type": "code",
   "execution_count": 8,
   "metadata": {},
   "outputs": [],
   "source": [
    "from glob import glob\n",
    "import numpy as np"
   ]
  },
  {
   "cell_type": "code",
   "execution_count": 9,
   "metadata": {},
   "outputs": [
    {
     "output_type": "stream",
     "name": "stdout",
     "text": [
      "['/media/miki/DATA/My_programing/python/AI/Analysis/data/linemod/ape/mesh.ply', '/media/miki/DATA/My_programing/python/AI/Analysis/data/linemod/ape/OLDmesh.ply']\n"
     ]
    }
   ],
   "source": [
    "filenames = glob(os.path.join(base_dir, object_name, '*.ply'))\n",
    "\n",
    "print(filenames)"
   ]
  },
  {
   "cell_type": "code",
   "execution_count": 10,
   "metadata": {},
   "outputs": [],
   "source": [
    "def read_3d_points(filename):\n",
    "        with open(filename) as f:\n",
    "            in_vertex_list = False\n",
    "            vertices = []\n",
    "            in_mm = False\n",
    "            for line in f:\n",
    "                if in_vertex_list:\n",
    "                    vertex = line.split()[:3]\n",
    "                    vertex = np.array([[float(vertex[0])],\n",
    "                                                          [float(vertex[1])],\n",
    "                                                          [float(vertex[2])]],\n",
    "                                                          dtype=np.float32)\n",
    "                    if in_mm:\n",
    "                        vertex = vertex / np.float32(10) # mm -> cm\n",
    "                    vertex = vertex / np.float32(100) # cm -> m\n",
    "                    vertices.append(vertex)\n",
    "                    if len(vertices) >= vertex_count:\n",
    "                        break\n",
    "                elif line.startswith('element vertex'):\n",
    "                    vertex_count = int(line.split()[-1])\n",
    "                elif line.startswith('end_header'):\n",
    "                    in_vertex_list = True\n",
    "                elif line.startswith('element face'):\n",
    "                    in_mm = True\n",
    "        return vertices"
   ]
  },
  {
   "cell_type": "code",
   "execution_count": 11,
   "metadata": {
    "tags": [
     "outputPrepend"
    ]
   },
   "outputs": [
    {
     "output_type": "stream",
     "name": "stdout",
     "text": [
      "\n       [-0.0159688]], dtype=float32), array([[-0.0216407],\n       [-0.0146209],\n       [-0.0164644]], dtype=float32), array([[ 0.00045176],\n       [ 0.0395507 ],\n       [-0.0410252 ]], dtype=float32), array([[ 0.0188079 ],\n       [ 0.0189133 ],\n       [-0.06827381]], dtype=float32), array([[-0.0333898 ],\n       [-0.0073597 ],\n       [-0.00125748]], dtype=float32), array([[-0.0058811 ],\n       [-0.00097199],\n       [-0.0500007 ]], dtype=float32), array([[ 0.0157192],\n       [ 0.0133282],\n       [-0.0861312]], dtype=float32), array([[ 0.0169909],\n       [ 0.0119787],\n       [-0.0857204]], dtype=float32), array([[ 0.0387356],\n       [-0.0113963],\n       [-0.018281 ]], dtype=float32), array([[ 0.0381139],\n       [-0.0125783],\n       [-0.0193455]], dtype=float32), array([[ 0.039341 ],\n       [ 0.0012703],\n       [-0.0363044]], dtype=float32), array([[ 0.0129079 ],\n       [-0.021099  ],\n       [-0.00146649]], dtype=float32), array([[-0.0173083],\n       [-0.0217725],\n       [-0.0437112]], dtype=float32), array([[ 0.00086786],\n       [ 0.0263627 ],\n       [-0.0556059 ]], dtype=float32), array([[ 0.00171829],\n       [ 0.025903  ],\n       [-0.0569703 ]], dtype=float32), array([[-0.00562885],\n       [-0.0301228 ],\n       [-0.015268  ]], dtype=float32), array([[ 0.00645633],\n       [ 0.0239216 ],\n       [-0.00204594]], dtype=float32), array([[ 0.00824975],\n       [ 0.0240048 ],\n       [-0.00187382]], dtype=float32), array([[ 0.0204034],\n       [ 0.0326776],\n       [-0.0161836]], dtype=float32), array([[ 0.0347821 ],\n       [-0.00775958],\n       [-0.00342308]], dtype=float32), array([[-0.00501788],\n       [-0.00069142],\n       [-0.0468729 ]], dtype=float32), array([[-0.00572231],\n       [ 0.000473  ],\n       [-0.0425033 ]], dtype=float32), array([[ 0.0026939 ],\n       [ 0.0228279 ],\n       [-0.07751229]], dtype=float32), array([[ 0.0108093],\n       [-0.0112316],\n       [-0.0682319]], dtype=float32), array([[-0.00692276],\n       [-0.00585182],\n       [-0.0307255 ]], dtype=float32), array([[-0.0119269 ],\n       [-0.00328372],\n       [-0.0674763 ]], dtype=float32), array([[-0.0104391],\n       [-0.028406 ],\n       [-0.0146532]], dtype=float32), array([[ 0.0189482],\n       [ 0.0328462],\n       [-0.0447014]], dtype=float32), array([[ 0.0197006 ],\n       [ 0.00064031],\n       [-0.0796457 ]], dtype=float32), array([[ 0.0391953],\n       [ 0.0131578],\n       [-0.0170658]], dtype=float32), array([[ 0.0412092 ],\n       [-0.00574643],\n       [-0.0248449 ]], dtype=float32), array([[ 0.0410136 ],\n       [-0.00566036],\n       [-0.0267236 ]], dtype=float32), array([[ 0.0200793],\n       [ 0.0267953],\n       [-0.0528399]], dtype=float32), array([[-0.0134514 ],\n       [ 0.00965587],\n       [-0.07578669]], dtype=float32), array([[-0.00979327],\n       [ 0.0159535 ],\n       [-0.00013003]], dtype=float32), array([[-0.00128694],\n       [ 0.0303836 ],\n       [-0.0472217 ]], dtype=float32), array([[-0.0321737 ],\n       [-0.00722437],\n       [-0.00495102]], dtype=float32), array([[-0.0324252 ],\n       [-0.00428001],\n       [-0.00374989]], dtype=float32), array([[-0.0324095 ],\n       [-0.00356339],\n       [-0.00164366]], dtype=float32), array([[-0.0331108 ],\n       [-0.00607586],\n       [-0.00344055]], dtype=float32), array([[-0.0221922],\n       [-0.0267257],\n       [-0.0229681]], dtype=float32), array([[ 0.0308739],\n       [-0.0196119],\n       [-0.028571 ]], dtype=float32), array([[-0.0071668],\n       [ 0.0216652],\n       [-0.066034 ]], dtype=float32), array([[ 0.00439505],\n       [-0.00831943],\n       [-0.0785862 ]], dtype=float32), array([[ 0.00474575],\n       [-0.00771273],\n       [-0.08011679]], dtype=float32), array([[ 0.00288624],\n       [-0.00834836],\n       [-0.0777754 ]], dtype=float32), array([[-0.0125984],\n       [ 0.0123236],\n       [-0.0780483]], dtype=float32), array([[-0.0125817],\n       [ 0.0105822],\n       [-0.0789021]], dtype=float32), array([[ 0.0360355],\n       [ 0.0160904],\n       [-0.0110013]], dtype=float32), array([[-0.0126734 ],\n       [ 0.00760034],\n       [-0.07072429]], dtype=float32), array([[ 0.00603488],\n       [ 0.0154908 ],\n       [-0.0882671 ]], dtype=float32), array([[ 0.0056534],\n       [ 0.01701  ],\n       [-0.0872787]], dtype=float32), array([[ 0.0161164],\n       [ 0.037247 ],\n       [-0.0387349]], dtype=float32), array([[ 0.00526489],\n       [-0.0118284 ],\n       [ 0.00013414]], dtype=float32), array([[-0.00787051],\n       [ 0.0168451 ],\n       [-0.0162887 ]], dtype=float32), array([[-0.00391291],\n       [ 0.032455  ],\n       [-0.0433158 ]], dtype=float32), array([[-0.00316607],\n       [ 0.0316717 ],\n       [-0.0449503 ]], dtype=float32), array([[-0.00482825],\n       [ 0.0313165 ],\n       [-0.0425769 ]], dtype=float32), array([[-0.00526539],\n       [ 0.0297636 ],\n       [-0.0431911 ]], dtype=float32), array([[-0.00334092],\n       [ 0.0339898 ],\n       [-0.0427361 ]], dtype=float32), array([[ 0.0380925],\n       [ 0.0148664],\n       [-0.017103 ]], dtype=float32), array([[ 0.0111386 ],\n       [ 0.00703008],\n       [-0.0901166 ]], dtype=float32), array([[-0.00786505],\n       [ 0.0277465 ],\n       [-0.00821409]], dtype=float32), array([[-0.00724344],\n       [ 0.0268983 ],\n       [-0.00664971]], dtype=float32), array([[0.0156507 ],\n       [0.00423664],\n       [0.00054485]], dtype=float32), array([[ 0.0169613],\n       [ 0.0180107],\n       [-0.0780627]], dtype=float32), array([[ 0.03384  ],\n       [ 0.0185568],\n       [-0.0101812]], dtype=float32), array([[ 0.00170338],\n       [-0.00949883],\n       [-0.0672921 ]], dtype=float32), array([[ 0.0271318],\n       [ 0.0227767],\n       [-0.0393252]], dtype=float32), array([[-0.00490969],\n       [ 0.0263845 ],\n       [-0.0524058 ]], dtype=float32), array([[ 0.0410093 ],\n       [ 0.00983461],\n       [-0.0197126 ]], dtype=float32), array([[ 0.0188878],\n       [ 0.0287826],\n       [-0.0259863]], dtype=float32), array([[ 0.0286019],\n       [ 0.014185 ],\n       [-0.0566604]], dtype=float32), array([[-0.0105534],\n       [ 0.0128743],\n       [-0.0803818]], dtype=float32), array([[ 0.0145957],\n       [ 0.0182793],\n       [-0.0816698]], dtype=float32), array([[ 0.0130644],\n       [ 0.0188018],\n       [-0.082421 ]], dtype=float32), array([[ 0.0152883],\n       [ 0.0185612],\n       [-0.0800664]], dtype=float32), array([[ 0.0312016 ],\n       [-0.00933425],\n       [-0.00150164]], dtype=float32), array([[ 0.019819  ],\n       [ 0.0245812 ],\n       [-0.00245576]], dtype=float32), array([[ 0.0203046 ],\n       [ 0.0257465 ],\n       [-0.00359999]], dtype=float32), array([[ 0.0189795 ],\n       [ 0.0270619 ],\n       [-0.00426008]], dtype=float32), array([[ 0.0316691 ],\n       [-0.00900708],\n       [-0.0451597 ]], dtype=float32), array([[ 0.0328433 ],\n       [-0.00625009],\n       [-0.0454439 ]], dtype=float32), array([[ 0.0336291 ],\n       [-0.00480894],\n       [-0.0450482 ]], dtype=float32), array([[-0.0101269],\n       [ 0.0224557],\n       [-0.0133811]], dtype=float32), array([[-0.013031 ],\n       [ 0.0123097],\n       [-0.0653252]], dtype=float32), array([[-0.0219886 ],\n       [-0.00929008],\n       [-0.0130536 ]], dtype=float32), array([[ 0.0100446],\n       [-0.0122859],\n       [-0.0653745]], dtype=float32), array([[ 0.021025 ],\n       [ 0.0288085],\n       [-0.0492715]], dtype=float32), array([[ 0.00194225],\n       [ 0.0213981 ],\n       [-0.00048011]], dtype=float32), array([[ 0.0255707 ],\n       [ 0.00225829],\n       [-0.0662729 ]], dtype=float32), array([[ 0.025176  ],\n       [ 0.00047922],\n       [-0.0660887 ]], dtype=float32), array([[-0.0155305],\n       [-0.0010612],\n       [-0.0587268]], dtype=float32), array([[-0.0225306 ],\n       [-0.0112519 ],\n       [ 0.00085163]], dtype=float32), array([[ 0.0274772],\n       [-0.0152251],\n       [-0.0438252]], dtype=float32), array([[-0.00208079],\n       [ 0.0231363 ],\n       [-0.00151159]], dtype=float32), array([[-0.00080015],\n       [ 0.0222272 ],\n       [-0.00093399]], dtype=float32), array([[ 0.0345949 ],\n       [ 0.0167051 ],\n       [-0.00841356]], dtype=float32), array([[-0.00208279],\n       [-0.00687888],\n       [-0.0552963 ]], dtype=float32), array([[-0.0038057],\n       [-0.0068146],\n       [-0.0559142]], dtype=float32), array([[ 0.0172243],\n       [ 0.0145736],\n       [-0.0835523]], dtype=float32), array([[-0.00779285],\n       [ 0.0161776 ],\n       [-0.0503084 ]], dtype=float32), array([[ 0.0365076 ],\n       [-0.00991985],\n       [-0.0355207 ]], dtype=float32), array([[-0.0232378 ],\n       [ 0.00358186],\n       [-0.0144481 ]], dtype=float32), array([[ 9.7220596e-03],\n       [-1.2981399e-02],\n       [ 9.4810799e-05]], dtype=float32), array([[ 0.00900669],\n       [ 0.0395134 ],\n       [-0.0157214 ]], dtype=float32), array([[ 0.033188  ],\n       [ 0.00650687],\n       [-0.0490148 ]], dtype=float32), array([[ 0.0165043],\n       [ 0.0223234],\n       [-0.0609007]], dtype=float32), array([[ 0.00709146],\n       [ 0.0408596 ],\n       [-0.0234269 ]], dtype=float32), array([[-0.00752691],\n       [ 0.0251468 ],\n       [-0.0560806 ]], dtype=float32), array([[-0.0155139 ],\n       [-0.00757771],\n       [ 0.00083238]], dtype=float32), array([[-0.0106047 ],\n       [-0.00265862],\n       [-0.0203797 ]], dtype=float32), array([[-0.00156352],\n       [-0.0102999 ],\n       [-0.0458879 ]], dtype=float32), array([[-0.010111  ],\n       [-0.00439146],\n       [-0.0691382 ]], dtype=float32), array([[-0.00511191],\n       [ 0.0318874 ],\n       [-0.0408833 ]], dtype=float32), array([[ 0.00706632],\n       [-0.0117295 ],\n       [ 0.00016059]], dtype=float32), array([[ 0.0130593 ],\n       [-0.0124232 ],\n       [ 0.00010754]], dtype=float32), array([[ 0.0231617 ],\n       [-0.00416725],\n       [-0.06583741]], dtype=float32), array([[ 0.0226152],\n       [-0.0150662],\n       [-0.0526564]], dtype=float32), array([[ 0.0212083],\n       [-0.0156779],\n       [-0.0536999]], dtype=float32), array([[ 0.0303911],\n       [ 0.0227583],\n       [-0.0119396]], dtype=float32), array([[ 0.0320587],\n       [-0.0171186],\n       [-0.0336428]], dtype=float32), array([[ 0.0320498],\n       [-0.0163341],\n       [-0.0352377]], dtype=float32), array([[ 0.00585513],\n       [-0.00876785],\n       [-0.0775887 ]], dtype=float32), array([[ 0.0173665],\n       [-0.0251677],\n       [-0.0107582]], dtype=float32), array([[ 0.0158247 ],\n       [-0.0258763 ],\n       [-0.00998898]], dtype=float32), array([[ 0.0146067],\n       [-0.0266826],\n       [-0.0108447]], dtype=float32), array([[-0.00405498],\n       [-0.00845411],\n       [-0.0625295 ]], dtype=float32), array([[ 0.0296048],\n       [ 0.0180555],\n       [-0.0512256]], dtype=float32), array([[-0.0105988 ],\n       [ 0.00267525],\n       [-0.08128691]], dtype=float32), array([[-0.00921272],\n       [ 0.00291705],\n       [-0.0824965 ]], dtype=float32), array([[ 0.0276931],\n       [ 0.0250429],\n       [-0.0103551]], dtype=float32), array([[ 0.040416  ],\n       [ 0.00978505],\n       [-0.0144081 ]], dtype=float32), array([[ 0.0290498],\n       [ 0.017125 ],\n       [-0.0535172]], dtype=float32), array([[0.0211047],\n       [0.017785 ],\n       [0.0007693]], dtype=float32), array([[-0.0128091],\n       [-0.0271024],\n       [-0.0133791]], dtype=float32), array([[-0.0180933 ],\n       [-0.00614567],\n       [ 0.00098762]], dtype=float32), array([[ 0.0102112],\n       [ 0.0415278],\n       [-0.0394383]], dtype=float32), array([[ 0.00537125],\n       [-0.0299952 ],\n       [-0.0362203 ]], dtype=float32), array([[0.00909788],\n       [0.00058723],\n       [0.00052156]], dtype=float32), array([[-0.00967487],\n       [-0.0205843 ],\n       [-0.00605188]], dtype=float32), array([[-0.0214268],\n       [-0.0135359],\n       [-0.0347836]], dtype=float32), array([[ 0.0065372 ],\n       [-0.00959316],\n       [-0.074914  ]], dtype=float32), array([[ 0.0149975 ],\n       [-0.0107106 ],\n       [ 0.00012194]], dtype=float32), array([[-0.00209831],\n       [ 0.0248465 ],\n       [-0.0338402 ]], dtype=float32), array([[-0.0139166 ],\n       [-0.0233844 ],\n       [-0.00910193]], dtype=float32), array([[ 0.0356678],\n       [ 0.0106365],\n       [-0.0417668]], dtype=float32), array([[ 0.0188492],\n       [ 0.0119435],\n       [-0.083395 ]], dtype=float32), array([[-0.0120917],\n       [-0.014118 ],\n       [-0.0372534]], dtype=float32), array([[ 9.9545605e-03],\n       [-1.5407899e-02],\n       [-9.0504996e-05]], dtype=float32), array([[ 0.00817353],\n       [-0.0157999 ],\n       [-0.00022347]], dtype=float32), array([[ 0.00706141],\n       [-0.0144911 ],\n       [-0.00011641]], dtype=float32), array([[ 8.00964e-03],\n       [-1.31382e-02],\n       [ 6.48263e-05]], dtype=float32), array([[ 0.0187035],\n       [ 0.0208876],\n       [-0.0624733]], dtype=float32), array([[ 0.0346382],\n       [ 0.0186678],\n       [-0.0178663]], dtype=float32), array([[ 0.012549 ],\n       [ 0.040782 ],\n       [-0.0374565]], dtype=float32), array([[ 0.033319 ],\n       [ 0.0153406],\n       [-0.0425566]], dtype=float32), array([[ 0.0396128 ],\n       [-0.00475668],\n       [-0.00972267]], dtype=float32), array([[-0.0104238],\n       [-0.0304457],\n       [-0.0169953]], dtype=float32), array([[ 0.00572228],\n       [ 0.0246727 ],\n       [-0.0551989 ]], dtype=float32), array([[ 0.0031368],\n       [ 0.0392523],\n       [-0.042814 ]], dtype=float32), array([[ 0.00816261],\n       [ 0.0209    ],\n       [-0.0820709 ]], dtype=float32), array([[-0.00242142],\n       [ 0.00947305],\n       [ 0.00119675]], dtype=float32), array([[-0.0007851 ],\n       [ 0.0101789 ],\n       [ 0.00120201]], dtype=float32), array([[ 0.0210701],\n       [-0.0203038],\n       [-0.0366669]], dtype=float32), array([[-0.011172  ],\n       [-0.0223634 ],\n       [-0.00792616]], dtype=float32), array([[ 0.0026648],\n       [ 0.0390497],\n       [-0.0132292]], dtype=float32), array([[-0.00790358],\n       [-0.0318036 ],\n       [-0.0181008 ]], dtype=float32), array([[ 0.0018587 ],\n       [ 0.025996  ],\n       [-0.00331225]], dtype=float32), array([[-0.00899047],\n       [-0.0340698 ],\n       [-0.0268118 ]], dtype=float32), array([[-0.00979365],\n       [-0.0337879 ],\n       [-0.0284317 ]], dtype=float32), array([[-0.0103012],\n       [-0.033955 ],\n       [-0.0254732]], dtype=float32), array([[-0.00859074],\n       [-0.0231834 ],\n       [-0.00924501]], dtype=float32), array([[-0.0243736],\n       [-0.0103115],\n       [-0.0112772]], dtype=float32), array([[-0.00168253],\n       [ 0.0328461 ],\n       [-0.0453296 ]], dtype=float32), array([[ 0.00776016],\n       [ 0.0222748 ],\n       [-0.0790161 ]], dtype=float32), array([[-0.0154567 ],\n       [-0.00062537],\n       [-0.06290241]], dtype=float32), array([[ 0.00328478],\n       [ 0.0252705 ],\n       [-0.0566206 ]], dtype=float32), array([[-0.0100252],\n       [ 0.0155467],\n       [-0.0791839]], dtype=float32), array([[-0.00174626],\n       [-0.0085058 ],\n       [-0.0607065 ]], dtype=float32), array([[-0.00144896],\n       [-0.030007  ],\n       [-0.0130324 ]], dtype=float32), array([[-0.00727824],\n       [ 0.0215633 ],\n       [-0.0462443 ]], dtype=float32), array([[ 0.0253051 ],\n       [-0.00516039],\n       [-0.0607137 ]], dtype=float32), array([[ 0.0240514 ],\n       [-0.00483581],\n       [-0.0634002 ]], dtype=float32), array([[ 0.0202107],\n       [-0.0118148],\n       [ 0.0001304]], dtype=float32), array([[ 0.0159079],\n       [ 0.0237617],\n       [-0.0581397]], dtype=float32), array([[ 0.0251624],\n       [-0.0162637],\n       [-0.0453858]], dtype=float32), array([[ 0.0237347],\n       [-0.0171814],\n       [-0.045831 ]], dtype=float32), array([[-0.0123334 ],\n       [ 0.0138929 ],\n       [-0.07530031]], dtype=float32), array([[-0.0115831],\n       [ 0.0144174],\n       [-0.0735095]], dtype=float32), array([[-0.0117564],\n       [ 0.015027 ],\n       [-0.0766613]], dtype=float32), array([[ 0.0258968],\n       [ 0.0223844],\n       [-0.0299056]], dtype=float32), array([[-0.00233086],\n       [-0.0132375 ],\n       [-0.0402498 ]], dtype=float32), array([[-0.0027923 ],\n       [-0.0151339 ],\n       [-0.04102959]], dtype=float32), array([[ 0.018142 ],\n       [-0.0227   ],\n       [-0.0237789]], dtype=float32), array([[ 0.0166859],\n       [-0.0232086],\n       [-0.0229325]], dtype=float32), array([[ 0.0169518],\n       [-0.0237498],\n       [-0.0212607]], dtype=float32), array([[ 0.0197658],\n       [-0.0227609],\n       [-0.0229983]], dtype=float32), array([[ 0.0340168],\n       [-0.0108326],\n       [-0.0392774]], dtype=float32), array([[-0.019907 ],\n       [-0.028908 ],\n       [-0.0230663]], dtype=float32), array([[-0.0123963],\n       [-0.0250593],\n       [-0.0110491]], dtype=float32), array([[-0.00961354],\n       [-0.0331528 ],\n       [-0.0312889 ]], dtype=float32), array([[ 0.0396147 ],\n       [ 0.00768931],\n       [-0.0340942 ]], dtype=float32), array([[ 0.0319372],\n       [ 0.0159568],\n       [-0.0469361]], dtype=float32), array([[ 0.0323309],\n       [ 0.0160172],\n       [-0.0452427]], dtype=float32), array([[-0.0273081 ],\n       [-0.00236562],\n       [-0.00917625]], dtype=float32), array([[ 0.0105315],\n       [ 0.0229225],\n       [-0.0607325]], dtype=float32), array([[ 0.0209881],\n       [-0.0206232],\n       [-0.0338923]], dtype=float32), array([[ 0.0383932 ],\n       [ 0.00748888],\n       [-0.00664018]], dtype=float32), array([[ 0.00523058],\n       [ 0.0412284 ],\n       [-0.0250716 ]], dtype=float32), array([[ 0.0404578],\n       [ 0.0109258],\n       [-0.0183195]], dtype=float32), array([[-0.00947434],\n       [ 0.00065779],\n       [-0.0267215 ]], dtype=float32), array([[ 0.0290757],\n       [ 0.0240305],\n       [-0.0117511]], dtype=float32), array([[-0.0266658 ],\n       [-0.014873  ],\n       [ 0.00015683]], dtype=float32), array([[ 0.0319377 ],\n       [-0.00635738],\n       [-0.0469646 ]], dtype=float32), array([[ 0.0342207],\n       [ 0.0126922],\n       [-0.0438139]], dtype=float32), array([[-0.00093173],\n       [-0.00762005],\n       [-0.0564054 ]], dtype=float32), array([[-0.00163218],\n       [-0.00797724],\n       [-0.0581245 ]], dtype=float32), array([[ 0.00522863],\n       [-0.00925088],\n       [-0.0759571 ]], dtype=float32), array([[-0.0164756],\n       [ 0.0005714],\n       [-0.0601909]], dtype=float32), array([[-0.00575018],\n       [-0.0267306 ],\n       [-0.0120715 ]], dtype=float32), array([[-0.0053945],\n       [-0.0281376],\n       [-0.0131644]], dtype=float32), array([[-0.0141198 ],\n       [ 0.00520119],\n       [-0.0676868 ]], dtype=float32), array([[-0.0112197 ],\n       [-0.00227588],\n       [-0.0698985 ]], dtype=float32), array([[-0.0241954 ],\n       [-0.00859369],\n       [-0.0113639 ]], dtype=float32), array([[-0.0137263 ],\n       [-0.00324026],\n       [-0.063198  ]], dtype=float32), array([[ 0.0408879 ],\n       [ 0.00821965],\n       [-0.0142012 ]], dtype=float32), array([[-0.0126435 ],\n       [ 0.00988386],\n       [-0.0726437 ]], dtype=float32), array([[ 0.0271841],\n       [ 0.0234511],\n       [-0.0447321]], dtype=float32), array([[ 0.0238456],\n       [ 0.0293486],\n       [-0.0133633]], dtype=float32), array([[-0.0121394],\n       [-0.0044075],\n       [-0.0576563]], dtype=float32), array([[-0.0237167],\n       [-0.0128325],\n       [-0.0115924]], dtype=float32), array([[-0.0108319 ],\n       [-0.00547729],\n       [ 0.00068137]], dtype=float32), array([[-0.00705374],\n       [-0.02137   ],\n       [-0.0073674 ]], dtype=float32), array([[ 0.0136809 ],\n       [-0.00941644],\n       [ 0.00015952]], dtype=float32), array([[ 0.0302972],\n       [ 0.0159906],\n       [-0.0517842]], dtype=float32), array([[ 0.0282762],\n       [ 0.022015 ],\n       [-0.0423642]], dtype=float32), array([[ 0.00381175],\n       [ 0.023577  ],\n       [-0.0638076 ]], dtype=float32), array([[ 0.0413712 ],\n       [ 0.00523335],\n       [-0.0137175 ]], dtype=float32), array([[ 0.0230705],\n       [-0.0222263],\n       [-0.0254271]], dtype=float32), array([[-0.00484708],\n       [ 0.0236953 ],\n       [-0.00255252]], dtype=float32), array([[-0.0124651],\n       [-0.0049192],\n       [-0.0607933]], dtype=float32), array([[ 0.00405309],\n       [ 0.0277681 ],\n       [-0.00469088]], dtype=float32), array([[ 0.0202621],\n       [-0.0220967],\n       [-0.0259147]], dtype=float32), array([[ 0.0177486],\n       [ 0.0130133],\n       [-0.0842276]], dtype=float32)]\n"
     ]
    }
   ],
   "source": [
    "filename = filenames[0]\n",
    "\n",
    "vertices = read_3d_points(filename)\n",
    "\n",
    "print(vertices)"
   ]
  },
  {
   "source": [
    "## Rotation"
   ],
   "cell_type": "markdown",
   "metadata": {}
  },
  {
   "cell_type": "code",
   "execution_count": 12,
   "metadata": {},
   "outputs": [],
   "source": [
    "def read_rotation(filename):\n",
    "     \"\"\"LineMod3Dモデルの回転行列を計算する関数\n",
    "\n",
    "        Arg:\n",
    "            filename (str): 単一のLineMod3Dモデルの回転情報が保存された '.rot' ファイルへの絶対パス\n",
    "\n",
    "        Return:\n",
    "            R [np.matrix]: 単一のLineMod3Dモデルの(3, 3)回転行列\n",
    "        \"\"\"\n",
    "        with open(filename) as f:\n",
    "            f.readline()\n",
    "            R = []\n",
    "            for line in f:\n",
    "                R.append(line.split())\n",
    "            R = np.array(R, dtype=np.float32)\n",
    "        return R"
   ]
  },
  {
   "cell_type": "code",
   "execution_count": 13,
   "metadata": {},
   "outputs": [
    {
     "output_type": "stream",
     "name": "stdout",
     "text": [
      "[[-0.63252    0.773706  -0.0360155]\n [-0.358213  -0.250986   0.899272 ]\n [ 0.686733   0.581709   0.435905 ]]\n"
     ]
    }
   ],
   "source": [
    "filenames = glob(os.path.join(base_dir, object_names[0], 'data', '*.rot'))\n",
    "\n",
    "R = read_rotation(filenames[0])\n",
    "\n",
    "print(R)"
   ]
  },
  {
   "source": [
    "## Translation"
   ],
   "cell_type": "markdown",
   "metadata": {}
  },
  {
   "cell_type": "code",
   "execution_count": 16,
   "metadata": {},
   "outputs": [],
   "source": [
    "def read_translation(filename: str) -> np.matrix:\n",
    "        \"\"\"LineMod3Dモデルの並進行列を計算する関数\n",
    "\n",
    "        Arg:\n",
    "            filename (str): 単一のLineMod3Dモデルの並進情報が保存された '.tra' ファイルへの絶対パス\n",
    "\n",
    "        Return:\n",
    "            T [np.matrix]: 単一のLineMod3Dモデルの(3, 3)並進行列\n",
    "        \"\"\"\n",
    "        with open(filename) as f:\n",
    "            f.readline()\n",
    "            T = []\n",
    "            for line in f:\n",
    "                T.append([line.split()[0]])\n",
    "            T = np.array(T, dtype=np.float32)\n",
    "            T = T / np.float32(100) # cm -> m\n",
    "        return T"
   ]
  },
  {
   "cell_type": "code",
   "execution_count": 17,
   "metadata": {},
   "outputs": [
    {
     "output_type": "stream",
     "name": "stdout",
     "text": [
      "[[-0.0522575 ]\n [-0.0308449 ]\n [ 0.79460406]]\n"
     ]
    }
   ],
   "source": [
    "filenames = glob(os.path.join(base_dir, object_names[0], 'data', '*.tra'))\n",
    "\n",
    "T = read_translation(filenames[0])\n",
    "\n",
    "print(T)"
   ]
  },
  {
   "cell_type": "code",
   "execution_count": null,
   "metadata": {},
   "outputs": [],
   "source": []
  }
 ]
}