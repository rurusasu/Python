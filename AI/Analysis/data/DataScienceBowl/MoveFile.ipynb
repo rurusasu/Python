{
 "metadata": {
  "language_info": {
   "codemirror_mode": {
    "name": "ipython",
    "version": 3
   },
   "file_extension": ".py",
   "mimetype": "text/x-python",
   "name": "python",
   "nbconvert_exporter": "python",
   "pygments_lexer": "ipython3",
   "version": "3.8.8"
  },
  "orig_nbformat": 2,
  "kernelspec": {
   "name": "python37764bittoolsvirtualenvf3a6e0a1a17d471ca2d9c8ab9ef82ac9",
   "display_name": "Python 3.8.8 64-bit ('base': conda)"
  },
  "metadata": {
   "interpreter": {
    "hash": "fbff9bfab3ee0df4124016b4e010029cf2ec5864ce5e3c4aa09796cc364af95f"
   }
  }
 },
 "nbformat": 4,
 "nbformat_minor": 2,
 "cells": [
  {
   "cell_type": "code",
   "execution_count": 146,
   "metadata": {},
   "outputs": [],
   "source": [
    "import os\n",
    "import sys\n",
    "from glob import glob"
   ]
  },
  {
   "cell_type": "code",
   "execution_count": 193,
   "metadata": {},
   "outputs": [],
   "source": [
    "import shutil\n",
    "import zipfile"
   ]
  },
  {
   "cell_type": "code",
   "execution_count": 235,
   "metadata": {},
   "outputs": [],
   "source": [
    "class MoveFile:\n",
    "    \"\"\"想定するファイル構成\n",
    "\n",
    "    <DataSet RootDir>\n",
    "        |\n",
    "        |-- <original>\n",
    "\n",
    "    \"\"\"\n",
    "    def __init__(self, parent_path):\n",
    "        # 操作したいデータセットのrootディレクトリ\n",
    "        self.parent_path = parent_path\n",
    "        # \n",
    "        self.org_path = os.path.join(self.parent_path, 'original')\n",
    "\n",
    "    def unpack(self, file_name: str, create_dir: bool=True):\n",
    "        \"\"\"originalディレクトリ内のzipファイルを展開するための関数\n",
    "        Arg:\n",
    "            file_name(str): original ディレクトリ内の zip ファイル名,\n",
    "            create_dir(bool optional): 解凍するときに、解凍前のファイル名と同じ名前のディレクトリを作成する。default to True.\n",
    "        \"\"\"\n",
    "        zip_path = os.path.join(self.org_path, file_name + '.zip')\n",
    "        unpack_path = self.parent_path\n",
    "\n",
    "        if create_dir:\n",
    "            try:\n",
    "                unpack_path = os.path.join(self.parent_path, file_name)\n",
    "                os.mkdir(unpack_path) # create directry\n",
    "            except FileExistsError as e:\n",
    "                print(\"ディレクトリ作成時にエラーが発生しました: \", e)\n",
    "                return\n",
    "            \n",
    "        with zipfile.ZipFile(zip_path) as existing_zip:\n",
    "            existing_zip.extractall(unpack_path)\n",
    "    \n",
    "    def MoveImage(self, src: str, dst: str):\n",
    "        \"\"\"子ディレクトリ内に存在するファイルを別の子ディレクトリ内の正数で表されたディレクトリ内に移動する関数\n",
    "        Args:\n",
    "            src(str): 移動させたいファイルやディレクトリのパス,\n",
    "            dst(str): 移動先のディレクトリのパス\n",
    "\n",
    "        <Root Dir>\n",
    "        |-- 0a7d3O\n",
    "        |   |-- images\n",
    "        |   |     |-- 0a7d3O.png\n",
    "        |   |\n",
    "        |   |-- masks\n",
    "        |         |-- 0adbf5.png\n",
    "        |         |-- 1ed5b9.png\n",
    "        |         |-- 3bef1O.png\n",
    "        |         |-- ...\n",
    "        |\n",
    "        |-- 0acd2c\n",
    "        |   |-- images\n",
    "        |   |     |-- 0acd2c.png\n",
    "        |   |\n",
    "        |   |-- masks\n",
    "        |         |-- 2f5eb1.png\n",
    "        |         |-- 3fa2a8.png\n",
    "        |         |-- O5fefb.png\n",
    "        |         |-- ...\n",
    "        |\n",
    "        |-- 00ae65c\n",
    "        |   |-- ...\n",
    "        |\n",
    "        |-- ...\n",
    "        \"\"\"\n",
    "        dst_img_path = os.path.join(dst, 'images')\n",
    "        dst_mask_path = os.path.join(dst, 'masks')\n",
    "        try:\n",
    "            os.mkdir(dst_img_path)  # images ディレクトリを作る\n",
    "            os.mkdir(dst_mask_path) #  masks ディレクトリを作る\n",
    "        except FileExistsError as e:\n",
    "            print(\"ディレクトリ作成時にエラーが発生しました: \", e)\n",
    "            pass\n",
    "        #list_file_and_dir_name = os.listdir(curent_path)\n",
    "        \n",
    "        #list_file_and_dir_path = glob(os.path.join(src, '**', '*'))\n",
    "        #list_file_and_dir_path = glob(os.path.join(src, '**'), recursive=True)\n",
    "\n",
    "        # 全ての子ディレクトリの相対パスを取得 <Root> -> <0a7d330>\n",
    "        list_dir_path = glob(os.path.join(src, '**'))\n",
    "        for dir_path in list_dir_path:\n",
    "            # 子ディレクトリ内の images ディレクトリの相対パスを取得 <0a7d330> -> images\n",
    "            list_img_dir_path = [f for f in glob(os.path.join(dir_path, '**')) if 'images' in f]\n",
    "            for img_dir_path in list_img_dir_path:\n",
    "                list_file = os.listdir(img_dir_path)\n",
    "                if list_file: # ディレクトリ内にファイルが存在するか判定\n",
    "                    for p in list_file:\n",
    "                        # ディレクトリ内の全てのファイルを移動\n",
    "                        shutil.move(os.path.join(img_dir_path, p), dst_img_path)\n",
    "\n",
    "            # 子ディレクトリ内の masks ディレクトリの相対パスを取得 <0a7d330> -> masks\n",
    "            list_masks_dir_path = [f for f in glob(os.path.join(dir_path, '**')) if 'masks' in f]\n",
    "            for masks_dir_path in list_masks_dir_path:\n",
    "                list_file = os.listdir(masks_dir_path)\n",
    "                if list_file: # ディレクトリ内にファイルが存在するか判定\n",
    "                    for num, p in enumerate(list_file):\n",
    "                        dst_path = os.path.join(dst_mask_path, str(num))\n",
    "                        if not os.path.exists(dst_path):\n",
    "                            os.mkdir(dst_path)\n",
    "                            shutil.move(os.path.join(masks_dir_path, p), dst_path)\n",
    "                        else:\n",
    "                            shutil.move(os.path.join(masks_dir_path, p), dst_path)\n",
    "                            \n"
   ]
  },
  {
   "cell_type": "code",
   "execution_count": 236,
   "metadata": {},
   "outputs": [],
   "source": [
    "sys.path.append(\".\")\n",
    "sys.path.append(\"..\")\n",
    "sys.path.append(\"../../\")\n",
    "from src.config.config import cfg"
   ]
  },
  {
   "cell_type": "code",
   "execution_count": 237,
   "metadata": {},
   "outputs": [],
   "source": [
    "m_file = MoveFile(cfg.DATA_SCIENCE_BOWL_DIR)"
   ]
  },
  {
   "cell_type": "code",
   "execution_count": 238,
   "metadata": {},
   "outputs": [
    {
     "output_type": "stream",
     "name": "stdout",
     "text": [
      "ディレクトリ作成時にエラーが発生しました:  [WinError 183] 既に存在するファイルを作成することはできません。: 'd:\\\\My_programing\\\\python\\\\AI\\\\Analysis\\\\data\\\\DataScienceBowl\\\\stage1_train'\n"
     ]
    }
   ],
   "source": [
    "# f_name = 'stage1_sample_submission.csv' # 解凍したいファイル名\n",
    "f_name = 'stage1_train'\n",
    "m_file.unpack(f_name)"
   ]
  },
  {
   "cell_type": "code",
   "execution_count": 239,
   "metadata": {
    "tags": []
   },
   "outputs": [
    {
     "output_type": "stream",
     "name": "stdout",
     "text": [
      "ディレクトリ作成時にエラーが発生しました:  [WinError 183] 既に存在するファイルを作成することはできません。: 'd:\\\\My_programing\\\\python\\\\AI\\\\Analysis\\\\data\\\\DataScienceBowl\\\\dsb2018_96\\\\images'\n"
     ]
    }
   ],
   "source": [
    "src = os.path.join(cfg.DATA_SCIENCE_BOWL_DIR, 'stage1_train')\n",
    "dst = cfg.DSB2018_96_DIR\n",
    "m_file.MoveImage(src, dst)"
   ]
  },
  {
   "cell_type": "code",
   "execution_count": null,
   "metadata": {},
   "outputs": [],
   "source": []
  }
 ]
}