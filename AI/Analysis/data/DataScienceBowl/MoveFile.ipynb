{
 "metadata": {
  "language_info": {
   "codemirror_mode": {
    "name": "ipython",
    "version": 3
   },
   "file_extension": ".py",
   "mimetype": "text/x-python",
   "name": "python",
   "nbconvert_exporter": "python",
   "pygments_lexer": "ipython3",
   "version": "3.8.8-final"
  },
  "orig_nbformat": 2,
  "kernelspec": {
   "name": "python388jvsc74a57bd0927e85032942f05ca8198db1ba7768f07447e48e9749cf73f657c77e29e9464d",
   "display_name": "Python 3.8.8 64-bit (conda)"
  },
  "metadata": {
   "interpreter": {
    "hash": "fbff9bfab3ee0df4124016b4e010029cf2ec5864ce5e3c4aa09796cc364af95f"
   }
  }
 },
 "nbformat": 4,
 "nbformat_minor": 2,
 "cells": [
  {
   "cell_type": "code",
   "execution_count": 1,
   "metadata": {},
   "outputs": [],
   "source": [
    "import os\n",
    "import sys\n",
    "from glob import glob"
   ]
  },
  {
   "cell_type": "code",
   "execution_count": 2,
   "metadata": {},
   "outputs": [],
   "source": [
    "import shutil\n",
    "import zipfile"
   ]
  },
  {
   "cell_type": "code",
   "execution_count": 3,
   "metadata": {},
   "outputs": [],
   "source": [
    "class MoveFile:\n",
    "    \"\"\"想定するファイル構成\n",
    "\n",
    "    <DataSet RootDir>\n",
    "        |\n",
    "        |-- <original>\n",
    "\n",
    "    \"\"\"\n",
    "    def __init__(self, parent_path):\n",
    "        # 操作したいデータセットのrootディレクトリ\n",
    "        self.parent_path = parent_path\n",
    "        # \n",
    "        self.org_path = os.path.join(self.parent_path, 'original')\n",
    "\n",
    "    def unpack(self, file_name: str, create_dir: bool=True):\n",
    "        \"\"\"originalディレクトリ内のzipファイルを展開するための関数\n",
    "        Arg:\n",
    "            file_name(str): original ディレクトリ内の zip ファイル名,\n",
    "            create_dir(bool optional): 解凍するときに、解凍前のファイル名と同じ名前のディレクトリを作成する。default to True.\n",
    "        \"\"\"\n",
    "        zip_path = os.path.join(self.org_path, file_name + '.zip')\n",
    "        unpack_path = self.parent_path\n",
    "\n",
    "        if create_dir:\n",
    "            try:\n",
    "                unpack_path = os.path.join(self.parent_path, file_name)\n",
    "                os.mkdir(unpack_path) # create directry\n",
    "            except FileExistsError as e:\n",
    "                print(\"ディレクトリ作成時にエラーが発生しました: \", e)\n",
    "                return\n",
    "            \n",
    "        with zipfile.ZipFile(zip_path) as existing_zip:\n",
    "            existing_zip.extractall(unpack_path)\n",
    "\n",
    "    def MoveImage(self, src: str, dst: str):\n",
    "        \"\"\"子ディレクトリ内に存在するファイルを別の子ディレクトリ内の正数で表されたディレクトリ内に移動する関数\n",
    "        Args:\n",
    "            src(str): 移動させたいファイルやディレクトリのパス,\n",
    "            dst(str): 移動先のディレクトリのパス\n",
    "\n",
    "        <Root Dir>\n",
    "        |-- 0a7d3O\n",
    "        |   |-- images\n",
    "        |   |     |-- 0a7d3O.png\n",
    "        |   |\n",
    "        |   |-- masks\n",
    "        |         |-- 0adbf5.png\n",
    "        |         |-- 1ed5b9.png\n",
    "        |         |-- 3bef1O.png\n",
    "        |         |-- ...\n",
    "        |\n",
    "        |-- 0acd2c\n",
    "        |   |-- images\n",
    "        |   |     |-- 0acd2c.png\n",
    "        |   |\n",
    "        |   |-- masks\n",
    "        |         |-- 2f5eb1.png\n",
    "        |         |-- 3fa2a8.png\n",
    "        |         |-- O5fefb.png\n",
    "        |         |-- ...\n",
    "        |\n",
    "        |-- 00ae65c\n",
    "        |   |-- ...\n",
    "        |\n",
    "        |-- ...\n",
    "        \"\"\"\n",
    "        # 出力先のディレクトリが存在するか判定\n",
    "        if not os.path.exists(dst): # 存在しない場合\n",
    "            os.mkdir(dst)\n",
    "\n",
    "        # 出力先の images ディレクトリを作成する\n",
    "        dst_img_path = makedir(dst, 'images')\n",
    "\n",
    "        # 出力先の masks ディレクトリを作成する\n",
    "        dst_mask_path = makedir(dst, 'masks')\n",
    "\n",
    "        # 全ての子ディレクトリの相対パスを取得 <Root> -> <0a7d330>\n",
    "        list_dir_path = glob(os.path.join(src, '**'))\n",
    "        for dir_path in list_dir_path:\n",
    "            # 親ディレクトリ名を取得\n",
    "            dir_name = os.path.basename(dir_path.rstrip(os.sep))\n",
    "\n",
    "            # 子ディレクトリ内の images ディレクトリの相対パスを取得 <0a7d330> -> images\n",
    "            list_img_dir_path = [f for f in glob(os.path.join(dir_path, '**')) if 'images' in f]\n",
    "            for img_dir_path in list_img_dir_path:\n",
    "                list_file = os.listdir(img_dir_path)\n",
    "                if list_file: # ディレクトリ内にファイルが存在するか判定\n",
    "                    for p in list_file:\n",
    "                        # ディレクトリ内の全てのファイルを移動\n",
    "                        shutil.move(os.path.join(img_dir_path, p), dst_img_path)\n",
    "\n",
    "            # 子ディレクトリ内の masks ディレクトリの相対パスを取得 <0a7d330> -> masks\n",
    "            list_masks_dir_path = [f for f in glob(os.path.join(dir_path, '**')) if 'masks' in f]\n",
    "            for masks_dir_path in list_masks_dir_path:\n",
    "                list_file = os.listdir(masks_dir_path)\n",
    "                if list_file: # ディレクトリ内にファイルが存在するか判定\n",
    "                    for num, p in enumerate(list_file):\n",
    "                        old_name = os.path.join(masks_dir_path, p)\n",
    "                        # 拡張子のみ取得\n",
    "                        _, ext = os.path.splitext(p)\n",
    "                        new_name = os.path.join(masks_dir_path, dir_name+ext) # C\\\\dataset\\\\masks\\\\label_name + \\\\label_name + .png\n",
    "\n",
    "                        if not (p in new_name): # 同名のファイルがない場合\n",
    "                            os.rename(old_name, new_name) # ファイルリネーム\n",
    "                        else:  new_name = old_name\n",
    "\n",
    "                        dst_path = os.path.join(dst_mask_path, str(num))\n",
    "                        if not os.path.exists(dst_path):\n",
    "                            os.mkdir(dst_path)\n",
    "                        # ディレクトリ内のファイルを移動\n",
    "                        shutil.move(new_name, dst_path)"
   ]
  },
  {
   "cell_type": "code",
   "execution_count": 4,
   "metadata": {},
   "outputs": [],
   "source": [
    "sys.path.append(\".\")\n",
    "sys.path.append(\"..\")\n",
    "sys.path.append(\"../../\")\n",
    "from NestedUNet.utils import makedir\n",
    "from src.config.config import cfg"
   ]
  },
  {
   "cell_type": "code",
   "execution_count": 5,
   "metadata": {},
   "outputs": [],
   "source": [
    "m_file = MoveFile(cfg.DATA_SCIENCE_BOWL_DIR)"
   ]
  },
  {
   "cell_type": "code",
   "execution_count": 6,
   "metadata": {},
   "outputs": [
    {
     "output_type": "stream",
     "name": "stdout",
     "text": [
      "ディレクトリ作成時にエラーが発生しました:  [WinError 183] 既に存在するファイルを作成することはできません。: 'd:\\\\DATA\\\\R2_Miki\\\\python\\\\AI\\\\Analysis\\\\data\\\\DataScienceBowl\\\\stage1_train'\n"
     ]
    }
   ],
   "source": [
    "# f_name = 'stage1_sample_submission.csv' # 解凍したいファイル名\n",
    "f_name = 'stage1_train'\n",
    "m_file.unpack(f_name)"
   ]
  },
  {
   "cell_type": "code",
   "execution_count": 7,
   "metadata": {
    "tags": []
   },
   "outputs": [],
   "source": [
    "src = os.path.join(cfg.DATA_SCIENCE_BOWL_DIR, 'stage1_train')\n",
    "dst = cfg.DSB2018_96_DIR\n",
    "m_file.MoveImage(src, dst)"
   ]
  },
  {
   "source": [
    "# ディレクトリ名を取得するテスト"
   ],
   "cell_type": "markdown",
   "metadata": {}
  },
  {
   "cell_type": "code",
   "execution_count": 8,
   "metadata": {
    "tags": [
     "outputPrepend"
    ]
   },
   "outputs": [
    {
     "output_type": "stream",
     "name": "stdout",
     "text": [
      "3d60acaaf33af45ef4fbffaac15ae838bc1ce37b6fbf\n8b12e18670e4b24d03567d1e17c0c24fadf0ea2c1e763983dd6bb4c44b7376a6\n8b77284d6f37ab3fc826139ebadaec3b9d81c552fe525c3547bbbd6c65ac0d83\n8bef203fce625e4d8c89dca728158be4662dfdfdcd4dc73a6aa39a908c1631bc\n8c3ef7aa7ed29b62a65b1c394d2b4a24aa3da25aebfdf3d29dbfc8ad1b08e95a\n8cdbdda8b3a64c97409c0160bcfb06eb8e876cedc3691aa63ca16dbafae6f948\n8d05fb18ee0cda107d56735cafa6197a31884e0a5092dc6d41760fb92ae23ab4\n8d29c5a03e0560c8f9338e8eb7bccf47930149c8173f9ba4b9279fb87d86cf6d\n8d9b4205ddb10fa49a2973b4f3a2dc6923407ae015081e1a52c4b4c2fe8faa53\n8de0b1a2e8f614af29fe5fafeaa5bdf55e6b3e65edf36355f19b707f7649ce2b\n8e507d58f4c27cd2a82bee79fe27b069befd62a46fdaed20970a95a2ba819c7b\n8e8a7a14749d0b2e48de3d10e2e80063f17b165ad921c8afc0623f08500f3259\n8ecdb93582b2d5270457b36651b62776256ade3aaa2d7432ae65c14f07432d49\n8efed2e62c919e6d70a2ab548b1a33014877fe8a23f177ef25a9dee25ffe8842\n8f27ebc74164eddfe989a98a754dcf5a9c85ef599a1321de24bcf097df1814ca\n8f6597cd978c060378177df76e554d0578b97eab471e237dbe0adc0dd0d93d63\n8f6e49e474ebb649a1e99662243d51a46cc9ba0c9c8f1efe2e2b662a81b48de1\n8f94a80b95a881d0efdec36affc915dca9609f4cba8134c4a91b219d418778aa\n8fdc34509a0c3721f7b5e235c8a93e1f553343aa17ad103a1e89e3509a3e1570\n91cc2e0d4d6e2c1ad59a8d63bcbe3e2ea8bc7f8e642e942a0113450181e73379\n92e7e86e765e05ce331c07a6d14f0a696eac7ee40058699243900f40b696d7aa\n92f31f591929a30e4309ab75185c96ff4314ce0a7ead2ed2c2171897ad1da0c7\n930f246a8e4ff273a72a6e4b3cf8e8caff94fca4eaf1dbe6f93ba37b8195c0a0\n93c5638e7e6433b5c9cc87c152bcbe28873d2f9d6a392cca0642520807542a77\n93cfd412c7de5210bbd262ec3a602cfea65072e9272e9fce9b5339a5b9436eb7\n942d56861fc83e195e9c559a000bb86627d8682f8dcc2300818458e5b6850dd0\n94519eb45cbe1573252623b7ea06a8b43c19c930f5c9b685edb639d0db719ab0\n947c0d94c8213ac7aaa41c4efc95d854246550298259cf1bb489654d0e969050\n94a5a37c3b1153d5c5aef2eca53c960b9f21f2ef1758209d7ec502ec324b03a3\n9520aff4efe87bd8f3901652fa2dde9b4bc9c679325966145ce00c1ca33f35de\n953211bcc0192e2298087d30e708dba68def9e0c13a3ff3326a18b0962c63adc\n958114e5f37d5e1420b410bd716753b3e874b175f2b6958ebf1ec2bdf776e41f\n9586e48a9a4353f11898a6a4b7475a91574e8af82e99c4b7a5e1f1b18f345f7a\n9620c33d8ef2772dbc5bd152429f507bd7fafb27e12109003292b671e556b089\n97126a9791f0c1176e4563ad679a301dac27c59011f579e808bbd6e9f4cd1034\n97158b2fe38783d88d4e44ba1b7bc6c84f225f8b35fcccc2f9265c65f14e7c8b\n9774c82396327929fea05e40ae153cabf0107178b2ae3e40a5709b409793887e\n98a463483fe3a56deacc8bc00ab8aa62668bd40ad0c70bbe7deb10d3e4aeb0c0\n98c5ead89cd066637efd5c93a6edc55c85908eb66807471f0d246d5457341f9c\n9a71a416f98971aa14f63ef91242654cc9191a1414ce8bbd38066fe94559aa4f\n9b25b8ffd5f52b6c3d235a42d51d380503d1f80b61ef0f62eeb696f5977c38e6\n9bb6e39d5f4415bc7554842ee5d1280403a602f2ba56122b87f453a62d37c06e\n9bf9f3dcadeb152a9a26b23e2fb199dcf9b2b17660b1646326f5b10cbf51eaee\n9c95eae11da041189e84cda20bdfb75716a6594684de4b6ce12a9aaadbb874c9\n9cbc0700317361236a9fca2eb1f8f79e3a7da17b1970c179cf453921a6136001\n9cdac2870cfe65b6cb61bd151020068a3b427118a27343767b07ea39483fee32\n9d429167633b4d9d7f41544a461975cf8e688a3affa6a8916799202874809f2a\n9e4f8ec60a0d622a02c0e16eedcc0101f88ddefbcec2383946c4572b57a1e43a\n9ebcfaf2322932d464f15b5662cae4d669b2d785b8299556d73fffcae8365d32\n9f073db4acd7e634fd578af50d4e77218742f63a4d423a99808d6fd7cb0d3cdb\n9facc652efe19f634639585d692a53dd6c2a8e2f0c9baebdfd85b9b41ec58851\n9fb32aba1c2fd53273dca9abefac944ba747f578da82dfaa1249f332a2324944\na022908f1b7880838dbc0411e50828e64b4f5e0263afdf04295e30bb2ff58005\na02ec007ae8feddb758078b1dfb8010c26886fd3c8babdc308ead8b4a63acbdb\na0325cb7aa59e9c0a75e64ba26855d8032c46161aa4bca0c01bac5e4a836485e\na08166d91d2cca263d2dd52764dc25c9c582b7a5ece2b802749fa4be33187c49\na0afead3b4fe393f6a6159de040ecb2e66f8a89090abf0d0bf5b8e1d38ae667c\na0de55384fada5cbc46bd7a41f6feeef93b67d088497c7316079ccec39c2a834\na101a00fea63f0c43abe5323f4f890bec881eb0caa3bc8498991ff5fd207ed91\na102535b0e88374bea4a1cfd9ee7cb3822ff54f4ab2a9845d428ec22f9ee2288\na1777737270c5f96c4523dff76e4097756f8f7d4c9d59bac079e31f9510deabd\na1f50f101bc471e2d6967ebdb8ba81150588609e769f3b960f0801e4da5fdc6f\na22b7882fa85b9f0fcef659a7b82bfcddf01710f9a7617a9e036e84ac6901841\na246bcaa64af48ee5ca181cd594c0fc43466e7614406eb8bc01199a16ebc95d0\na31deaf0ac279d5f34fb2eca80cc2abce6ef30bd64e7aca40efe4b2ba8e9ad3d\na3a1b8f9794ef589b71faa9f35fd97ad6761c4488718fbcf766e95e31afa8606\na3a65623e079af7988b0c1cf1e54041003c6d730c91ecf200b71c47b93a67ed6\na486f6ed4b8781e7883e433d06a83dd66db3e8b36d45b9976c4214820ee22629\na4c44fc5f5bf213e2be6091ccaed49d8bf039d78f6fbd9c4d7b7428cfcb2eda4\na4c729efb5059893a8b62c7abeba171cb516836f8a20468f6b176dfe2f6f84d1\na5e695fce80dc03efb6665a9ec14500ab47f4ee9f6437531388dd3cc32c90db1\na5fe0b7412dd152c41f7afc34ffdf276d4261b6942fa6d36803648e90f2cfc06\na6001531274f9ad16e0ced40380f9667b9149558dea7053f7a7db18f5cd028c0\na6515d73077866808ad4cb837ecdac33612527b8a1041e82135e40fce2bb9380\na6593632dcbbe4c9e9429a9cec573d26fd8c91a47d554d315f25e7c2e0280ee3\na65bbfc5673e8053b6ce49f39c79cf3a846fe5cc46dd93105f74fb07cf44606d\na6e81120d1cb9f71f8a25f90a5d56c4b714a642fc496a705e38921fd90a3f69c\na7a581e6760df4701941670e73d72533e3b0fbd7563488ad92772b41f7709710\na7f6194ddbeaefb1da571226a97785d09ccafc5893ce3c77078d2040bccfcb77\na7f767ca9770b160f234780e172aeb35a50830ba10dc49c526f4712451abe1d2\na815a986800a95de0957116c6585deea8ffb6ee09ad00ccc687306937ac698d0\na891bbc89143bca7a717386144eb061ec2d599cba24681389bcb3a2fedb8ff8c\na90401357d50e1376354ae6e5f56a2e4dff3fdb5a4e8d50316673b2b8f1f293b\na90cad45551d62c5cfa89517df8eb5e8f2f87f1a6e6678e606907afcbad91731\na9d884ba0929dac87c2052ce5b15034163685317d7cff45c40b0f7bd9bd4d9e7\naa47f0b303b1d525b52452ae3a8553b2d61d719a28aee547e2ef1fc6730a078f\naa4d989d262c618ac2793579e200cc71b3767f84698ae5f669867f23cdfe2568\naa58ba4512955771b4f9b459cb4e6a8adb71d11cd6cae662ec2df31d688a5fe0\naa83f5b4fca02ae43a6b9456ab42707b0beabc6e7c5c4e66c0d2572fb80f3615\naaa52100fafaa50877e777229cdf6cde7c422f145ff6719449b80631d9a3b0f6\nabbfff07379bceb69dba41dad8b0db5eb80cc8baf3d4af87b7ee20b0dac32215\nabc781c8721fe04b877a7e324494eb75aa5bce94950a0e4e4d7d6ffc9e74da62\nabd8dde78f8d37b68b28da67459371ed65f0a575523e94bc4ecbc88e6fedf0d0\nac782d2cad7f515ce7276926209820e386248e3d619b2df81e22d5e3c160b7cb\nac8169a0debed11560f3f0e246c05ea82d03c66346f1576cc8268554cb3f549f\nad473063dab4bf4f2461d9a99a9c0166d4871f156516d9e0a523484e7cf2258d\nad9d305cbf193d4250743ead466bdaefe910835d7e352c544e22320e8336f5c1\nadc315bd40d699fd4e4effbcce81cd7162851007f485d754ad3b0472f73a86df\nae570a676961482848b5097038ef5e407df7a66a8e1c9b0567da599565a6b142\nae9f76b5360df3f60f3cdd389652b96e823080bb830dd8c79e7f1e597d51bc1c\naf576e8ec3a8d0b57eb6a311299e9e4fd2047970d3dd9d6f52e54ea6a91109da\naf6b6173c59450bc76b2cc461cf233921fbfdb6feb8dd6da03a0d44193221fd0\naf8621ef0db8c26b0bce6385bd5609b584bfd678fcf7a234b8a15e6bb05c15ac\nafa272dc01825d4b929b3bfc79a10f68dd3c163c450d858b964d1ce0bc93e131\nb0d6dfcc95e4d087d232378f860fc3ef9f95ea5a4c26d623a0be091f820a793f\nb0defa611b75645c0283464ee4163917bad382d335b61e8509f065bf371fa15f\nb0e35e06b85da49bfe3ea737711a72b551a6add446e30eabb01aa683a79873c5\nb1a239838c7dbb34ffea851ad537899f24da62f4e3f3fd6d835ff7b922f27313\nb1e3aeb0c56261c17eb71c747d116057b8da7e8c8a6845bdc01b2b3ee2299229\nb1eb0123fe2d8c825694b193efb7b923d95effac9558ee4eaf3116374c2c94fe\nb1f23c4d27afed8af7b6b64793a3760bfea31b65f582d48aaa62d2b988ef2eac\nb214800de5ed4cc558f44d569495970f93c8c047f8e464c51d4bd5c276118423\nb24ea5c268469a95ed155eeaf809e36030b78a2eb530a0cb2380cdc1ccdb7dd1\nb2c23ddb04531158da6a0abcaca78fec0ae5c6f64f60166e4f36f4a161efd76f\nb2c5d8653c621207e97b699e5c4c05d13df4f02d9db3e594b1f0c22e5b746aae\nb3a9f4c9035a0df7e033b18c63bfb0f0d87ff5a4d9aa8bdf417159bb733abb80\nb3b1626f8ad156acb2963d1faa6a368f9378a266c3b90d9321087fdc5b3032b4\nb3bfd873fca7ff9b2e90f507dfdbe165bb8c153399b6ba5829aa59bae677a91d\nb4d902d42c93dea77b541456f8d905f35eeb24fc3a5b0b15b5678d78e0aabe0c\nb4de1e3eec159d8af1bd5447696f8996c31709edaf33e26ba9613816705847db\nb560dba92fbf2af785739efced50d5866c86dc4dada9be3832138bef4c3524d2\nb61d3fb0d0ebbee018346e0adeff9e9178f33aa95262779b3c196f93b4ace895\nb67a6e5da8b1cfa5319d94a7d3f8b706725753346c37a4636bf7382e98b3c5df\nb6c9b58de0388891221b8f7a83cbf0b8f8379b51b5c9a127bf43a4fc49f1cc48\nb6d50fa22380ae3a7e8c52c5bc44a254e7b2596fd8927980dbe2c160cb5689b5\nb6edad733399c83c8eb7a59c0d37b54e10cc0d59894e39ff843884d84f61dee1\nb76ff33ae9da28f9cd8bdce465d45f1eca399db3ffa83847535708e0d511fe38\nb7a86f4968071e0f963fa87ef314fdd1b6c73a66355431cc53a37e193ba6be9b\nb82548ab19466b461614e6055aaf49fbc24c03a2d20e65575b680c7c28268807\nb8fdc02d915206bb2564e1f7da962f2b9d9d491b11afa00a76622b7932366480\nb909aa8f6f4bec37c3fb6ff5a85d166162d07983506fcc57be742b0f9dbafbf7\nb98681c74842c4058bd2f88b06063731c26a90da083b1ef348e0ec734c58752b\nba3997edd3fcb2f823ecdf870d2b607f08bff848f72a5cf72340bae5aca7c5ce\nbb481eae02085bbae08742f702b9ab7d8b2ff9df2fbefeee9fac51f7c77dd01f\nbb61fc17daf8bdd4e16fdcf50137a8d7762bec486ede9249d92e511fcb693676\nbb8ebf465c968a5f6f715de5d9e2e664afd1bcaa533e0e3352ecea1cc5b6fb0d\nbbce7ebc40323a0eff6574d0c3842f50f907f55fbfb46c777f0ed9a49e98ff9b\nbbfc4aab5645637680fa0ef00925eea733b93099f1944c0aea09b78af1d4eef2\nbc115ff727e997a88f7cfe4ce817745731a6c753cb9fab6a36e7e66b415a1d3d\nbde3727f3a9e8b2b58f383ebc762b2157eb50cdbff23e69b025418b43967556b\nbe1916d0e5592c17f971315b5de720ef6894173087399daed94a52ef109c1572\nbe26966900aa0e5b41d5a8ecafe04281b37deb05c5cd027968d7b74143398174\nbe771d6831e3f8f1af4696bc08a582f163735db5baf9906e4729acc6a05e1187\nbf4a61bb81589c9a67e3343408befd3e135af5e88b50c17f998f2131d24bc271\nbf566e75d5cb0196de4139573f8bbbda0fa38d5048edf7267fe8793dcc094a66\nbf7691b0a79811fa068b7408cbce636a73f01ef9e971a95da1a2d96df73782b6\nbfe8ef193a68a0a86a5e4ae1ddc27bda3f9ffe170494395be4030ba72737c565\nbff985591dd5d6303018a6e9a3dcfb336771a414ad4605c24ce1c1155fc86a96\nc00ae67f72816daee468474026e30705003b2d3501f123579a4f0a6366b66aa1\nc0152b1a260e71f9823d17f4fbb4bf7020d5dce62b4a12b3099c1c8e52a1c43a\nc043d5ac9dd466052e53491d0d513b0684f493d320b820f6dc2e05330ce58ec3\nc04fa1a74a980d790ba6f3e595fd9851f14370bb71c7cbb7846c33ca9d72687f\nc0c4a829c8d33d16a02f5dc0411597329f4b4d726ed6a22b5530cf6c8e106c4e\nc0f172831b8017c769ff0e80f85b096ac939e79de3d524e0826fbb95221365da\nc15c652c08153fb781a5349123ab8f80bb2a8680a41eb8e89e547ae01b7a5441\nc169a7782a69ea2f38f64d2739de189e88adbcfd4a829721def8c89ecabe8b71\nc1afe66cd139f996fd984f5f2622903730ec2f1192d90608154f07f7ef6cdb4b\nc2a646a819f59a4e816e0ee8ea00ba10d5de9ac20b5a435c41192637790dabee\nc304a1fdf3bca2f4b4580d2cac59942e2224a7678001bf5ed9d9852f57708932\nc322c72b9d411e631580fee9312885088b4bb14ed297aa4b246ec943533b3ffb\nc35e6e3ea39a718e1b7aff66e4cc678efd662f9b5336b74d69c1d6bca7aaf288\nc395870ad9f5a3ae651b50efab9b20c3e6b9aea15d4c731eb34c0cf9e3800a72\nc3bec1066aae20f48b82975e7e8b684cd67635a8baf211e4d9e3e13bc54c5d06\nc44ed955eb2e5c8d820b01477e122b32eff6dd475343e11229c33d8af3473b22\nc53326fe49fc26b7fe602b9d8c0c2da2cb157690b44c2b9351a93f8d9bd8043d\nc620631271a56407d6d69fa1a69451ca99c50dcc30e29db04cf6fb7cacbde8cb\nc6216cdc42f61bc345434986db42e2ef9b9741aee3210b7a808e952e319d2305\nc6de542205b891eed5c40e6d8ae3d03a6ca39b26dc445b4dbc64340d4d64dd2d\nc75139ef0546d2240b37afb3219eb74a06b7977818697d5c3138796472483af3\nc7d546766518703580f63d5d8f11d54971044753f53c0b257d19c2f99d4bfdd0\nc89ac06daef5c819309f03d6a35792d1a8a66abb8cb3414013ffe71d3dd9fe96\nc8ca945abc29d262a5525e4c2585541bba33fa77c86a47c94575d8e5b54c83fb\nc901794d1a421d52e5734500c0a2a8ca84651fb93b19cec2f411855e70cae339\nc96109cbebcf206f20035cbde414e43872074eee8d839ba214feed9cd36277a1\nc9f305be17312bdb9530fb4f1adc6d29730ddbe0e74730cbf031de174bf437b7\ncab4875269f44a701c5e58190a1d2f6fcb577ea79d842522dcab20ccb39b7ad2\ncb4df20a83b2f38b394c67f1d9d4aef29f9794d5345da3576318374ec3a11490\ncbca32daaae36a872a11da4eaff65d1068ff3f154eedc9d3fc0c214a4e5d32bd\ncbff60361ded0570e5d50429a1aa51d81471819bc9b38359f03cfef76de0038c\ncc88627344305b9a9b07f8bd042cb074c7a834c13de67ff4b24914ac68f07f6e\ncdab367b30db47061df837c1ae9fa875d6057614f797332d37d3513517d6c694\nce37f6dd0615d45e66e41a8f2ed6fbc0bbe3103a290394ad474207507710eacc\nce88df7356d9d4a8d5944a93768f4c4b593de2d35616f7448c2b37b9fd60dd1f\nce9e1a58b58940039ae841466198b72ea21cc90584039a9294b47f5aef17ddfa\ncf26c41245febfe67c2a1682cc4ee8752ee40ae3e49610314f45923b8bf5b08a\ncfabf7379c5591d40aa4a20c86b4197c6a25ab55887a9fca4f06c2dfc0f0e973\nd0f2a00d3155c243048bc48944aef93fb08e2258d1fa5f9ccadd9140082bc22f\nd1b173875e2261f55014bd27bd7174b9ae1c769338c1b31b5d737e9e60175993\nd1ba6089cae2f90cb7275ece10ca393c25f60ea17e5c9c3cea2399d31fd41869\nd1dbc6ee7c44a7027e935d040e496793186b884a1028d0e26284a206c6f5aff0\nd256b32adda37f2301c9e46f34b7f9a36cce273256369ceb5dc2c73c3007e3c4\nd2815f2f616d92be35c7e8dcfe592deec88516aef9ffc9b21257f52b7d6d0354\nd2ce593bddf9998ce3b76328c0151d0ba4b644c293aca7f6254e521c448b305f\nd32ea6d318626ca14a967d0c1ad3218aebfe636624a8d1173f5150dde8ff38cf\nd35f25c8e3f7fca5232fc4d5e3faf14b025b20b3731af77fe971a5e2e9d69d28\nd3ce382f190ee24729bd2e80684c11bef72bc9c733cdbbc19a17d2c1b2e775f7\nd4d6c683f249d82518431603bf0206d05f2114ac871a99ffade0f5f61cf167e1\nd4d88391bc399a3715440d4da9f8b7a973e010dc1edd9551df2e5a538685add5\nd52958107d0b1f0288f50f346a833df3df485b92d5516cfcb536e73ab7adafd0\nd6a880b1f6056f3086679de5c810e7af87cdf3bbbd0533a83e3681817fce40fc\nd751ccb64fa767a65a966061218438bd1860695d96bbef11fdb2f0d3b8dedba8\nd7d12a2acc47a94961aeb56fd56e8a0873016af75f5dd10915de9db8af8e4f5e\nd7db360fabfce9828559a21f6bffff589ae868e0dc6101d7c1212de34a25e3cb\nd7ec8003735996458b56ccb8ae34d080eb2a6adabef931323239632515b4b220\nd7fc0d0a7339211f2433829c6553b762e2b9ef82cfe218d58ecae6643fa8e9c7\nd827a7d80fc67487a3237135e0d43ae01b7bbcb135e1a167601fc974a8348c51\nd8607b21411c9c8ab532faaeba15f8818a92025897950f94ee4da4f74f53660a\nd910b2b1be8406caecfe31a503d412ffc4e3d488286242ebc7381836121dd4ef\nda31f2aa8601afec5c45180a2c448cb9c4a8ec7b35e75190d6ba3588f69058c8\nda5f98f2b8a64eee735a398de48ed42cd31bf17a6063db46a9e0783ac13cd844\nda79a2b105f055ce75404a04bf53bbb51d518d9381af7b4ac714c137f101d920\nda8ca06ccbb4e2a8718f7c2939ef6cc3a4088981f660842ad885a8273e740d55\ndabfee30b46d23569c63fa7253ef10b2407fbe8023035a5030252313cb718097\ndad607a203483439fcbc2acecd0a39fb5e5a94a32a94348f5c802c79cfeb6e7c\ndae976f161fe42dc58dee87d4bf2eb9f65736597cab0114138641b2a39a5c42b\ndb45946a4412a2137674ec075b6892ccd682b77826aba618210569bbc65cf2b0\ndbbfe08a52688d0ac8de9161cbb17cb201e3991aacab8ab8a77fe0e203a69481\ndbe5ad05b6f87018159a3228c1d1725892a1bfb9fa9f8fcc2e8bfe70d69d0355\ndd54adb80393de7769b9853c0aa2ee9b240905d0e99c59d4ccd99401f327aa05\nddf1bf458312de2895dd9cc5ce7ec9d334ad54c35edc96ad6001d20b1d8588d8\ndec1764c00e8b3c4bf1fc7a2fda341279218ff894186b0c2664128348683c757\ndf33b11184427e05c8a450f921586685975fe975f57315e686a0f26fddb93db1\ndf53d0b6c2c4e45d759b2c474011e2b2b32552cd100ca4b22388ab9ca1750ee2\ndf5cdd0ebe1bdf8dc870bc294b8f08961e083bc7f9be69e268454aa9091808b9\ndf9a4212ecb67bb4e58eba62f293b91f9d6f1dde73e38fa891c75661d419fc97\ne1bcb583985325d0ef5f3ef52957d0371c96d4af767b13e48102bca9d5351a9b\ne216ec5063d3562b793e434c491051bd8867f6c2e571e41137c7c560cc0e6a03\ne23e11414ee645b51081fb202d38b793f0c8ef2940f8228ded384899d21b02c2\ne2d22d3d283915df8350d039278e314a23e6e8f2b41bdfc16df849e22dd13b36\ne321cfa987e77c21373a0f8b1236c83d6636306949a82a7f5b07fc0838e7777f\ne414b54f2036bcab61b9c0a966f65adf4b169097c13c740e03d6292ac076258c\ne4537e7893e631f3ba6ae5b1023e24b233c78249a31c2f5e561f6c4cad88fcf6\ne49fc2b4f1f39d481a6525225ab3f688be5c87f56884456ad54c953315efae83\ne4ae1ceddb279bac30273ca7ac480025ce2e7287328f5272234b5bbca6d13135\ne4fc936ba57a936aaa5941ccc70946ab18fcebcb6e8d85a097c584aff9ca4d88\ne50ac10d1dce6496d092d966784ed3795969128ca0bc58199a36d558ed529203\ne52960d31f8bddf85400259beb4521383f5ceface1080be3429f2f926cc9b5c2\ne5384c905e9879cb6e8ff5250fb03155bc1db035d8dde458eece9078b7de8ff1\ne5a6c5e01e6a4ef676a2d975374e995dd55792ea317a8e110bebc37da83a4ce8\ne5a7b8a9924b26b3abf039255a8a3bb00258f4966f68ff3349560b4350af9367\ne5aeb5b3577abbebe8982b5dd7d22c4257250ad3000661a42f38bf9248d291fd\ne5f8ad0f0a43af8ca57e31e16800108abdfb44a7e962a71d246f72d2dbde42bf\ne66a97b2c77f3d66a7d3cebbc6a36c8c6259368a397f7b67647ed80ad53aa776\ne66f25e175abab08ecb4e5f6859db64a211e0ddffb262d7e727b9d9bd4aad2d2\ne7a3a7c99483c243742b6cfa74e81cd48f126dcef004016ad0151df6c16a6243\ne81c758e1ca177b0942ecad62cf8d321ffc315376135bcbed3df932a6e5b40c0\ne856511ac1c34d24320eb7c56c05a4a3340d06667b4f5b8e8df615d415c7f650\ne9b8ad127f2163438b6236c74938f43d7b4863aaf39a16367f4af59bfd96597b\nea00f5a91ca75e745d675201cc62d7db266f8e2787033e15a7dd5f1cc5c0ad72\nea94ba4b01d1bd5f7768d10e0ac547743791033df545c71fcec442d0cb5cb5e7\nead9464a50a17f74bf1b6471d94ecce8d887cf518c8fedc6c6048eb948bc4e49\neb1df8ed879d04b36980b0958a0e8fc446ad08c0bdcf3b5f42e3db023187c7e5\neb96fc6cbf6880bf05c4309857ae33844a4bc2152e228eff31024e5265cf9fc3\nebc18868864ad075548cc1784f4f9a237bb98335f9645ee727dac8332a3e3716\nec031f176dafe0b36547068ce42eab39428ec7995dac1b3ea52d1db79b61fdeb\nec486143ecfec847c22cd8cbc207d85312bcf38e61c9b9a805e0d12add62da8d\necb36c90cdd20245d89173c106f3c6a2d124d07bdea0ae202fb1efa49b0cd169\ned4b8e0d756836be7acb2e2b7799c473b52424e3092a71d3c6d23558e500dc4c\ned5be4b63e9506ad64660dd92a098ffcc0325195298c13c815a73773f1efc279\ned8c31b001a0c23c33402f94a5ee6b0209e0c6419eb52d5d02255513e3a672fc\nedd36ed822e7ed760ff73e0524df22aa5bf5c565efcdc6c39603239c0896e7a8\nee927e8255096971ddae1bd975cf80c4ad7c847c82d0b5f5dd2ddfe5407007ee\neeb142344e9de3250ab748f93940bf06be70d5078337680998468a134a101698\nef3ef194e5657fda708ecbd3eb6530286ed2ba23c88efb9f1715298975c73548\nef6634efb46567d87b811be786b18c4cd0e2cda23d79b65d6afe0d259ef3ade6\nf01a9742c43a69f087700a43893f713878e537bae8e44f76b957f09519601ad6\nf0a75e0322f11cead4219aa530673fe5eef67580fb6fccc254963c9fc6b58aa1\nf0c9f135c62572f3669a75b2c735e4477dc77fac85e653426ee2b3bcfbed7aaf\nf113626a04125d97b27f21b45a0ce9a686d73dee7b5dbc0725d49194ba0203bd\nf20eb4592e7d3cf58d421a9c34832d33adcdcbd0e17b7bf009a013847608da27\nf26f4c2c70c38fe12e00d5a814d5116691f2ca548908126923fd76ddd665ed24\nf29fd9c52e04403cd2c7d43b6fe2479292e53b2f61969d25256d2d2aca7c6a81\nf35ab34528e3e2d2589d24cbffc0e10024dfc474a68585d0b5feb7b05aa0067f\nf43169e3d8b4f71e687945b9e72cbfdfe2e40e68842568e6a30c60d64c1378b6\nf487cc82271cf84b4414552aa8b0a9d82d902451ebe8e8bc639d4121c1672ff7\nf4b7c24baf69b8752c49d0eb5db4b7b5e1524945d48e54925bff401d5658045d\nf4c4db3df4ff0de90f44b027fc2e28c16bf7e5c75ea75b0a9762bbb7ac86e7a3\nf4faa3a409014db1865074c5f66a0255f71ae3faba03265da0b3b91f68e8a8f0\nf534b43bf37ff946a310a0f08315d76c3fb3394681cf523acef7c0682240072a\nf67e72b7fe0b1e3648ea745ffd395c80705c89b0c0c48227991fe6f5815b2a18\nf6863b83d75e5927b30e2e326405b588293283c25aaef2251b30c343296b9cb1\nf6b16c885c0b2bc0d0eb2bb2eeb0a2753ebafb5a7a91da10e89b0b0478984637\nf6cb37ebf29c225284c8415962f7287abe7007fae8fe3d8a3899b608b832d7d5\nf728de04267283f0b4daab9a840e7433b2c6034baf195fd526850439c9297687\nf73e37957c74f554be132986f38b6f1d75339f636dfe2b681a0cf3f88d2733af\nf7e5dcfc9c93183c668c5a4ab028d5faad54fb54298711f2caae0508aa978300\nf7eaaf420b5204c4a42577428b7cd897a53ef07b759ccbba3ed30a3548ca5605\nf81ca7ee25e733ff37240c34c8e3044d9937bb0166e315952ebde3f237ecb86f\nf8e74d4006dd68c1dbe68df7be905835e00d8ba4916f3b18884509a15fdc0b55\nf93ec5e683d81005ffc2a84a1c0299b2406ad14b764b824e013f7ca3a13833b5\nf952cc65376009cfad8249e53b9b2c0daaa3553e897096337d143c625c2df886\nf9ac03b0344ce8c48bc058448541f9211a1e5f4c94fdaf633dd534328d8610ab\nf9ea1a1159c33f39bbe5f18bb278d961188b40508277eab7c0b4b91219b37b5d\nfa73f24532b3667718ede7ac5c2e24ad7d3cae17b0a42ed17bbb81b15c28f4ae\nfa751ff3a6332c95cb5cb1d28563553914295e9e7d35c4b6bd267241e8a0787c\nfadeb0ab092833f27daaeb3e24223eb090f9536b83f68cde8f49df7c544f711b\nfc22db33a2495f58f118bc182c0087e140df14ccb8dad51373e1a54381f683de\nfc345dac2205deb169bd70197f07f053bada80b61ffa69fdfb490758323ead69\nfc5452f612a0f972fe55cc677055ede662af6723b5c1615ad539b8a4bd279bdb\nfc9269fb2e651cd4a32b65ae164f79b0a2ea823e0a83508c85d7985a6bed43cf\nfd8065bcb1afdbed19e028465d5d00cd2ecadc4558de05c6fa28bea3c817aa22\nfdda64c47361b0d1a146e5b7b48dc6b7de615ea80b31f01227a3b16469589528\nfe80a2cf3c93dafad8c364fdd1646b0ba4db056cdb7bdb81474f957064812bba\nfec226e45f49ab81ab71e0eaa1248ba09b56a328338dce93a43f4044eababed5\nfeffce59a1a3eb0a6a05992bb7423c39c7d52865846da36d89e2a72c379e5398\nff3407842ada5bc18be79ae453e5bdaa1b68afc842fc22fa618ac6e6599d0bb3\nff3e512b5fb860e5855d0c05b6cf5a6bcc7792e4be1f0bdab5a00af0e18435c0\nff599c7301daa1f783924ac8cbe3ce7b42878f15a39c2d19659189951f540f48\n"
     ]
    }
   ],
   "source": [
    "\n",
    "src = os.path.join(cfg.DATA_SCIENCE_BOWL_DIR, 'stage1_train', '**')\n",
    "\n",
    "for p in glob(src):\n",
    "    dir_name = os.path.basename(p.rstrip(os.sep))\n",
    "    print(dir_name)"
   ]
  },
  {
   "source": [
    "# ファイルリネームのテスト"
   ],
   "cell_type": "markdown",
   "metadata": {}
  },
  {
   "cell_type": "code",
   "execution_count": 9,
   "metadata": {},
   "outputs": [
    {
     "output_type": "stream",
     "name": "stdout",
     "text": [
      "[WinError 183] 既に存在するファイルを作成することはできません。: 'd:\\\\DATA\\\\R2_Miki\\\\python\\\\AI\\\\Analysis\\\\data\\\\DataScienceBowl\\\\dsb2018_96\\\\masks'\n"
     ]
    },
    {
     "output_type": "error",
     "ename": "IndexError",
     "evalue": "list index out of range",
     "traceback": [
      "\u001b[1;31m---------------------------------------------------------------------------\u001b[0m",
      "\u001b[1;31mIndexError\u001b[0m                                Traceback (most recent call last)",
      "\u001b[1;32m<ipython-input-9-477fafb5a806>\u001b[0m in \u001b[0;36m<module>\u001b[1;34m\u001b[0m\n\u001b[0;32m     14\u001b[0m \u001b[1;31m# 子ディレクトリ内の masks ディレクトリの相対パスを取得 <0a7d330> -> masks\u001b[0m\u001b[1;33m\u001b[0m\u001b[1;33m\u001b[0m\u001b[1;33m\u001b[0m\u001b[0m\n\u001b[0;32m     15\u001b[0m \u001b[0mlist_masks_dir_path\u001b[0m \u001b[1;33m=\u001b[0m \u001b[1;33m[\u001b[0m\u001b[0mf\u001b[0m \u001b[1;32mfor\u001b[0m \u001b[0mf\u001b[0m \u001b[1;32min\u001b[0m \u001b[0mglob\u001b[0m\u001b[1;33m(\u001b[0m\u001b[0mos\u001b[0m\u001b[1;33m.\u001b[0m\u001b[0mpath\u001b[0m\u001b[1;33m.\u001b[0m\u001b[0mjoin\u001b[0m\u001b[1;33m(\u001b[0m\u001b[0mdir_path\u001b[0m\u001b[1;33m,\u001b[0m \u001b[1;34m'**'\u001b[0m\u001b[1;33m)\u001b[0m\u001b[1;33m)\u001b[0m \u001b[1;32mif\u001b[0m \u001b[1;34m'masks'\u001b[0m \u001b[1;32min\u001b[0m \u001b[0mf\u001b[0m\u001b[1;33m]\u001b[0m\u001b[1;33m\u001b[0m\u001b[1;33m\u001b[0m\u001b[0m\n\u001b[1;32m---> 16\u001b[1;33m \u001b[0mmasks_dir_path\u001b[0m \u001b[1;33m=\u001b[0m \u001b[0mlist_masks_dir_path\u001b[0m\u001b[1;33m[\u001b[0m\u001b[1;36m0\u001b[0m\u001b[1;33m]\u001b[0m\u001b[1;33m\u001b[0m\u001b[1;33m\u001b[0m\u001b[0m\n\u001b[0m\u001b[0;32m     17\u001b[0m \u001b[0mlist_file\u001b[0m \u001b[1;33m=\u001b[0m \u001b[0mos\u001b[0m\u001b[1;33m.\u001b[0m\u001b[0mlistdir\u001b[0m\u001b[1;33m(\u001b[0m\u001b[0mmasks_dir_path\u001b[0m\u001b[1;33m)\u001b[0m\u001b[1;33m\u001b[0m\u001b[1;33m\u001b[0m\u001b[0m\n\u001b[0;32m     18\u001b[0m \u001b[0mp\u001b[0m \u001b[1;33m=\u001b[0m \u001b[0mlist_file\u001b[0m\u001b[1;33m[\u001b[0m\u001b[1;36m0\u001b[0m\u001b[1;33m]\u001b[0m\u001b[1;33m\u001b[0m\u001b[1;33m\u001b[0m\u001b[0m\n",
      "\u001b[1;31mIndexError\u001b[0m: list index out of range"
     ]
    }
   ],
   "source": [
    "dst = cfg.DSB2018_96_DIR\n",
    "dst_mask_path = os.path.join(dst, 'masks')\n",
    "try:\n",
    "    os.mkdir(dst_mask_path)\n",
    "except FileExistsError as e:\n",
    "    print(e)\n",
    "    pass\n",
    "\n",
    "list_dir_path = glob(os.path.join(src, '**'))\n",
    "dir_path = list_dir_path[0]\n",
    "# 親ディレクトリ名を取得\n",
    "dir_name = os.path.basename(dir_path.rstrip(os.sep))\n",
    "\n",
    "# 子ディレクトリ内の masks ディレクトリの相対パスを取得 <0a7d330> -> masks\n",
    "list_masks_dir_path = [f for f in glob(os.path.join(dir_path, '**')) if 'masks' in f]\n",
    "masks_dir_path = list_masks_dir_path[0]\n",
    "list_file = os.listdir(masks_dir_path)\n",
    "p = list_file[0]\n",
    "\n",
    "print('-'*20)\n",
    "print('dir_name: ', dir_name)\n",
    "print('masks_dir_path: ', masks_dir_path)\n",
    "print('lsit_file: ', p)\n",
    "print('-'*20)"
   ]
  },
  {
   "cell_type": "code",
   "execution_count": 130,
   "metadata": {},
   "outputs": [
    {
     "output_type": "stream",
     "name": "stdout",
     "text": [
      "既に存在するファイル名です。\n"
     ]
    }
   ],
   "source": [
    "old_name = os.path.join(masks_dir_path, p)\n",
    "# 拡張子のみ取得\n",
    "_, ext = os.path.splitext(p)\n",
    "new_name = os.path.join(masks_dir_path, dir_name+ext)\n",
    "\n",
    "if not (p in new_name): # 同名のファイルがない場合\n",
    "    # ファイルリネーム\n",
    "    p = os.rename(old_name, new_name)\n",
    "    print('rename is: ', p)\n",
    "else: # 同名のファイルがある場合\n",
    "    print(\"既に存在するファイル名です。\")"
   ]
  },
  {
   "cell_type": "code",
   "execution_count": null,
   "metadata": {},
   "outputs": [],
   "source": []
  }
 ]
}