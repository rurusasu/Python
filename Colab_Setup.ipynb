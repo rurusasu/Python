{
  "nbformat": 4,
  "nbformat_minor": 0,
  "metadata": {
    "colab": {
      "name": "Colab_Setup.ipynb",
      "provenance": [],
      "collapsed_sections": [],
      "authorship_tag": "ABX9TyP/gkInVK+5LF8oteuAjdgd",
      "include_colab_link": true
    },
    "kernelspec": {
      "name": "python3",
      "display_name": "Python 3"
    },
    "language_info": {
      "name": "python"
    },
    "accelerator": "GPU"
  },
  "cells": [
    {
      "cell_type": "markdown",
      "metadata": {
        "id": "view-in-github",
        "colab_type": "text"
      },
      "source": [
        "<a href=\"https://colab.research.google.com/github/rurusasu/Python/blob/master/Colab_Setup.ipynb\" target=\"_parent\"><img src=\"https://colab.research.google.com/assets/colab-badge.svg\" alt=\"Open In Colab\"/></a>"
      ]
    },
    {
      "cell_type": "markdown",
      "source": [
        "# Google Drive をマウントする．\n",
        "REF: [Google ドライブにマウントし、ファイルへアクセスする方法](https://blog.kikagaku.co.jp/google-colab-drive-mount)"
      ],
      "metadata": {
        "id": "6wub5JFYt-7K"
      }
    },
    {
      "cell_type": "code",
      "source": [
        "from google.colab import drive\n",
        "drive.mount('/content/drive')"
      ],
      "metadata": {
        "colab": {
          "base_uri": "https://localhost:8080/"
        },
        "id": "TFbxc77Pt8M9",
        "outputId": "f5e0832d-17f7-4bce-d4e0-c88e68f91c80"
      },
      "execution_count": 1,
      "outputs": [
        {
          "output_type": "stream",
          "name": "stdout",
          "text": [
            "Mounted at /content/drive\n"
          ]
        }
      ]
    },
    {
      "cell_type": "markdown",
      "source": [
        "# Colab と VS Code を使って python の開発環境を構築する際に使用するスクリプト\n",
        "\n",
        "REF: [Google ColabとVSCodeを用いた分析環境運用方法 〜kaggle Tipsを添えて〜](https://www.takapy.work/entry/2021/08/17/185047)"
      ],
      "metadata": {
        "id": "tAGVepF03Oh6"
      }
    },
    {
      "cell_type": "code",
      "execution_count": 6,
      "metadata": {
        "colab": {
          "base_uri": "https://localhost:8080/"
        },
        "id": "OvgSOsmq2PVT",
        "outputId": "af7bd569-7294-435c-a302-8fe95e2c5b43"
      },
      "outputs": [
        {
          "output_type": "stream",
          "name": "stdout",
          "text": [
            "DISTRIB_ID=Ubuntu\n",
            "DISTRIB_RELEASE=18.04\n",
            "DISTRIB_CODENAME=bionic\n",
            "DISTRIB_DESCRIPTION=\"Ubuntu 18.04.5 LTS\"\n",
            "nvcc: NVIDIA (R) Cuda compiler driver\n",
            "Copyright (c) 2005-2020 NVIDIA Corporation\n",
            "Built on Mon_Oct_12_20:09:46_PDT_2020\n",
            "Cuda compilation tools, release 11.1, V11.1.105\n",
            "Build cuda_11.1.TC455_06.29190527_0\n",
            "Sat Mar  5 01:40:52 2022       \n",
            "+-----------------------------------------------------------------------------+\n",
            "| NVIDIA-SMI 460.32.03    Driver Version: 460.32.03    CUDA Version: 11.2     |\n",
            "|-------------------------------+----------------------+----------------------+\n",
            "| GPU  Name        Persistence-M| Bus-Id        Disp.A | Volatile Uncorr. ECC |\n",
            "| Fan  Temp  Perf  Pwr:Usage/Cap|         Memory-Usage | GPU-Util  Compute M. |\n",
            "|                               |                      |               MIG M. |\n",
            "|===============================+======================+======================|\n",
            "|   0  Tesla K80           Off  | 00000000:00:04.0 Off |                    0 |\n",
            "| N/A   70C    P8    34W / 149W |      0MiB / 11441MiB |      0%      Default |\n",
            "|                               |                      |                  N/A |\n",
            "+-------------------------------+----------------------+----------------------+\n",
            "                                                                               \n",
            "+-----------------------------------------------------------------------------+\n",
            "| Processes:                                                                  |\n",
            "|  GPU   GI   CI        PID   Type   Process name                  GPU Memory |\n",
            "|        ID   ID                                                   Usage      |\n",
            "|=============================================================================|\n",
            "|  No running processes found                                                 |\n",
            "+-----------------------------------------------------------------------------+\n"
          ]
        }
      ],
      "source": [
        "!cat /etc/lsb-release\n",
        "!nvcc -V\n",
        "!nvidia-smi"
      ]
    },
    {
      "cell_type": "markdown",
      "source": [
        "# ngrok のインストール・設定"
      ],
      "metadata": {
        "id": "ll_jAjxWPXU9"
      }
    },
    {
      "cell_type": "code",
      "source": [
        "!apt-get -y update\n",
        "\n",
        "!wget -q -c -nc https://bin.equinox.io/c/4VmDzA7iaHb/ngrok-stable-linux-amd64.zip\n",
        "!unzip -qq -n ngrok-stable-linux-amd64.zip\n",
        "\n",
        "# sshの設定\n",
        "!apt-get install -qq -o=Dpkg::Use-Pty=0 openssh-server pwgen > /dev/null"
      ],
      "metadata": {
        "colab": {
          "base_uri": "https://localhost:8080/"
        },
        "id": "v7eoTuGsOTv4",
        "outputId": "af4c4382-3a0b-4b97-ff84-bde80612595e"
      },
      "execution_count": 7,
      "outputs": [
        {
          "output_type": "stream",
          "name": "stdout",
          "text": [
            "\r0% [Working]\r            \rGet:1 https://cloud.r-project.org/bin/linux/ubuntu bionic-cran40/ InRelease [3,626 B]\n",
            "\r0% [Connecting to archive.ubuntu.com (91.189.88.142)] [Connecting to security.u\r0% [Connecting to archive.ubuntu.com (91.189.88.142)] [Connecting to security.u\r0% [1 InRelease gpgv 3,626 B] [Connecting to archive.ubuntu.com (91.189.88.142)\r                                                                               \rIgn:2 https://developer.download.nvidia.com/compute/cuda/repos/ubuntu1804/x86_64  InRelease\n",
            "Ign:3 https://developer.download.nvidia.com/compute/machine-learning/repos/ubuntu1804/x86_64  InRelease\n",
            "Get:4 https://developer.download.nvidia.com/compute/cuda/repos/ubuntu1804/x86_64  Release [696 B]\n",
            "Hit:5 https://developer.download.nvidia.com/compute/machine-learning/repos/ubuntu1804/x86_64  Release\n",
            "Get:6 http://ppa.launchpad.net/c2d4u.team/c2d4u4.0+/ubuntu bionic InRelease [15.9 kB]\n",
            "Get:7 https://developer.download.nvidia.com/compute/cuda/repos/ubuntu1804/x86_64  Release.gpg [836 B]\n",
            "Hit:8 http://archive.ubuntu.com/ubuntu bionic InRelease\n",
            "Get:9 http://security.ubuntu.com/ubuntu bionic-security InRelease [88.7 kB]\n",
            "Get:10 http://archive.ubuntu.com/ubuntu bionic-updates InRelease [88.7 kB]\n",
            "Get:11 https://cloud.r-project.org/bin/linux/ubuntu bionic-cran40/ Packages [76.8 kB]\n",
            "Hit:13 http://ppa.launchpad.net/cran/libgit2/ubuntu bionic InRelease\n",
            "Get:14 https://developer.download.nvidia.com/compute/cuda/repos/ubuntu1804/x86_64  Packages [931 kB]\n",
            "Get:15 http://archive.ubuntu.com/ubuntu bionic-backports InRelease [74.6 kB]\n",
            "Hit:16 http://ppa.launchpad.net/deadsnakes/ppa/ubuntu bionic InRelease\n",
            "Get:17 http://ppa.launchpad.net/graphics-drivers/ppa/ubuntu bionic InRelease [21.3 kB]\n",
            "Get:18 http://ppa.launchpad.net/c2d4u.team/c2d4u4.0+/ubuntu bionic/main Sources [1,827 kB]\n",
            "Get:19 http://security.ubuntu.com/ubuntu bionic-security/restricted amd64 Packages [806 kB]\n",
            "Get:20 http://archive.ubuntu.com/ubuntu bionic-updates/main amd64 Packages [3,035 kB]\n",
            "Get:21 http://security.ubuntu.com/ubuntu bionic-security/main amd64 Packages [2,596 kB]\n",
            "Get:22 http://security.ubuntu.com/ubuntu bionic-security/universe amd64 Packages [1,474 kB]\n",
            "Get:23 http://ppa.launchpad.net/c2d4u.team/c2d4u4.0+/ubuntu bionic/main amd64 Packages [936 kB]\n",
            "Get:24 http://archive.ubuntu.com/ubuntu bionic-updates/universe amd64 Packages [2,252 kB]\n",
            "Get:25 http://archive.ubuntu.com/ubuntu bionic-updates/restricted amd64 Packages [840 kB]\n",
            "Get:26 http://ppa.launchpad.net/graphics-drivers/ppa/ubuntu bionic/main amd64 Packages [42.8 kB]\n",
            "Fetched 15.1 MB in 3s (4,353 kB/s)\n",
            "Reading package lists... Done\n",
            "Creating SSH2 RSA key; this may take some time ...\n",
            "2048 SHA256:w1IbqCMimoEFpT3D27/YcHVQ9ZUzVOL19FU7+BIWI/8 root@77f836e20726 (RSA)\n",
            "Creating SSH2 ECDSA key; this may take some time ...\n",
            "256 SHA256:ElYrm9cy9gNiVoc9brM0GYG+iwUmT6NQtUy69+gBVcE root@77f836e20726 (ECDSA)\n",
            "Creating SSH2 ED25519 key; this may take some time ...\n",
            "256 SHA256:KS/58S/3zlRYwKsBL/8+03TQUO+NwJXNnsMe+NIYzL8 root@77f836e20726 (ED25519)\n",
            "Created symlink /etc/systemd/system/sshd.service → /lib/systemd/system/ssh.service.\n",
            "Created symlink /etc/systemd/system/multi-user.target.wants/ssh.service → /lib/systemd/system/ssh.service.\n",
            "invoke-rc.d: could not determine current runlevel\n",
            "invoke-rc.d: policy-rc.d denied execution of start.\n"
          ]
        }
      ]
    },
    {
      "cell_type": "markdown",
      "source": [
        "# ssh サーバーの起動"
      ],
      "metadata": {
        "id": "lYLYeI15QBO4"
      }
    },
    {
      "cell_type": "code",
      "source": [
        "import random, string\n",
        "\n",
        "# Generate root password\n",
        "password = ''.join(random.choice(string.ascii_letters + string.digits) for i in range(20))\n",
        "\n",
        "# Set root password\n",
        "!echo root:$password | chpasswd\n",
        "!mkdir -p /var/run/sshd\n",
        "!echo \"PermitRootLogin yes\" >> /etc/ssh/sshd_config\n",
        "!echo \"PasswordAuthentication yes\" >> /etc/ssh/sshd_config\n",
        "!echo \"LD_LIBRARY_PATH=/usr/lib64-nvidia\" >> /root/.bashrc\n",
        "!echo \"export LD_LIBRARY_PATH\" >> /root/.bashrc\n",
        "\n",
        "# Run sshd\n",
        "get_ipython().system_raw('/usr/sbin/sshd -D &')\n",
        "\n",
        "# アクセストークンの設定\n",
        "# https://dashboard.ngrok.com/auth/your-authtoken\n",
        "# authtoken=\"取得したYour Authtokenの値\"\n",
        "authtoken = \"25sK8o5a2l937Xqh6wSfYZaUOTY_3S7rba6ghRjFi3tndyW6k\"\n",
        "\n",
        "# Create tunnel\n",
        "get_ipython().system_raw('./ngrok authtoken $authtoken && ./ngrok tcp 22 &')"
      ],
      "metadata": {
        "id": "idXh284jPU1H"
      },
      "execution_count": 8,
      "outputs": []
    },
    {
      "cell_type": "markdown",
      "source": [
        "# Colab サーバーの環境設定"
      ],
      "metadata": {
        "id": "hslBXTiQhpR_"
      }
    },
    {
      "cell_type": "code",
      "source": [
        "# シンボリックリンクを作成\n",
        "!ln -sfn /content/drive/MyDrive/workspace /root/workspace\n",
        "\n",
        "# zshのインストール\n",
        "!sudo apt-get install zsh\n",
        "\n",
        "# oh-my-zshのインストール\n",
        "!wget https://github.com/robbyrussell/oh-my-zsh/raw/master/tools/install.sh -O - | zsh || true\n",
        "\n",
        "# zshをデフォルトに設定\n",
        "!chsh -s /usr/bin/zsh\n",
        "\n",
        "# bashファイルの作成\n",
        "!echo 'export PATH=/usr/local/cuda/bin:$PATH' >> /root/.bash_profile\n",
        "!echo 'export LD_LIBRARY_PATH=/usr/lib64-nvidia' >> /root/.bash_profile\n",
        "!echo 'export PROMPT_COMMAND=\"history -a\"' >> /root/.bash_profile\n",
        "!echo 'export HISTFILE=/root/.zsh-history' >> /root/.bash_profile\n",
        "!echo 'export PYTHONDONTWRITEBYTECODE=1' >> /root/.bash_profile\n",
        "!echo 'export TF_CPP_MIN_LOG_LEVEL=2' >> /root/.bash_profile\n",
        "\n",
        "# ファイルをgoogle driveからサーバーへコピー\n",
        "!cp /content/drive/MyDrive/workspace/.gitconfig .gitconfig\n",
        "!cp /content/drive/MyDrive/workspace/.zshrc .zshrc"
      ],
      "metadata": {
        "colab": {
          "base_uri": "https://localhost:8080/"
        },
        "id": "70d0X1RqQGBn",
        "outputId": "90afbd69-c929-497a-fae0-2a4019ca596d"
      },
      "execution_count": 9,
      "outputs": [
        {
          "output_type": "stream",
          "name": "stdout",
          "text": [
            "Reading package lists... Done\n",
            "Building dependency tree       \n",
            "Reading state information... Done\n",
            "zsh is already the newest version (5.4.2-3ubuntu3.1).\n",
            "The following package was automatically installed and is no longer required:\n",
            "  libnvidia-common-470\n",
            "Use 'sudo apt autoremove' to remove it.\n",
            "0 upgraded, 0 newly installed, 0 to remove and 75 not upgraded.\n",
            "--2022-03-05 01:41:26--  https://github.com/robbyrussell/oh-my-zsh/raw/master/tools/install.sh\n",
            "Resolving github.com (github.com)... 140.82.113.3\n",
            "Connecting to github.com (github.com)|140.82.113.3|:443... connected.\n",
            "HTTP request sent, awaiting response... 301 Moved Permanently\n",
            "Location: https://github.com/ohmyzsh/ohmyzsh/raw/master/tools/install.sh [following]\n",
            "--2022-03-05 01:41:26--  https://github.com/ohmyzsh/ohmyzsh/raw/master/tools/install.sh\n",
            "Reusing existing connection to github.com:443.\n",
            "HTTP request sent, awaiting response... 302 Found\n",
            "Location: https://raw.githubusercontent.com/ohmyzsh/ohmyzsh/master/tools/install.sh [following]\n",
            "--2022-03-05 01:41:26--  https://raw.githubusercontent.com/ohmyzsh/ohmyzsh/master/tools/install.sh\n",
            "Resolving raw.githubusercontent.com (raw.githubusercontent.com)... 185.199.108.133, 185.199.109.133, 185.199.110.133, ...\n",
            "Connecting to raw.githubusercontent.com (raw.githubusercontent.com)|185.199.108.133|:443... connected.\n",
            "HTTP request sent, awaiting response... 200 OK\n",
            "Length: 16783 (16K) [text/plain]\n",
            "Saving to: ‘STDOUT’\n",
            "\n",
            "-                   100%[===================>]  16.39K  --.-KB/s    in 0.001s  \n",
            "\n",
            "2022-03-05 01:41:26 (15.2 MB/s) - written to stdout [16783/16783]\n",
            "\n",
            "\u001b[33mThe $ZSH folder already exists (/root/.oh-my-zsh).\u001b[0m\n",
            "You'll need to remove it if you want to reinstall.\n"
          ]
        }
      ]
    },
    {
      "cell_type": "markdown",
      "source": [
        "# 接続情報の取得"
      ],
      "metadata": {
        "id": "McLBm9JMvBdN"
      }
    },
    {
      "cell_type": "code",
      "source": [
        "import urllib.request, json, getpass\n",
        "# Get public address and print connect command\n",
        "with urllib.request.urlopen('http://localhost:4040/api/tunnels') as response:\n",
        "  data = json.loads(response.read().decode())\n",
        "  (host, port) = data['tunnels'][0]['public_url'][6:].split(':')\n",
        "\n",
        "print(f\"\"\"Host google-colab-ssh\n",
        "HostName {host}\n",
        "Port {port}\n",
        "User root\n",
        "\"\"\")\n",
        "\n",
        "# Print root password\n",
        "print(f'Root password: {password}')"
      ],
      "metadata": {
        "colab": {
          "base_uri": "https://localhost:8080/"
        },
        "id": "Gduk1iLgh9B7",
        "outputId": "5bd62cf7-e7b4-4022-f077-fb36ef2da34d"
      },
      "execution_count": 10,
      "outputs": [
        {
          "output_type": "stream",
          "name": "stdout",
          "text": [
            "Host google-colab-ssh\n",
            "HostName 8.tcp.ngrok.io\n",
            "Port 11388\n",
            "User root\n",
            "\n",
            "Root password: 7M99ej44KzefS6UJ2cVi\n"
          ]
        }
      ]
    }
  ]
}